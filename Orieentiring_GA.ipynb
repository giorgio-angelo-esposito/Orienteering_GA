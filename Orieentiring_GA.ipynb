{
  "nbformat": 4,
  "nbformat_minor": 0,
  "metadata": {
    "colab": {
      "provenance": []
    },
    "kernelspec": {
      "name": "python3",
      "display_name": "Python 3"
    },
    "language_info": {
      "name": "python"
    }
  },
  "cells": [
    {
      "cell_type": "code",
      "execution_count": 1,
      "metadata": {
        "id": "ktsa1-a-5waB"
      },
      "outputs": [],
      "source": [
        "import numpy as np\n",
        "import matplotlib.pyplot as plt\n",
        "import seaborn as sns\n",
        "import random"
      ]
    },
    {
      "cell_type": "code",
      "source": [
        "class Individual:\n",
        "\n",
        "  '''\n",
        "  This class represent an individual in the population for the GA\n",
        "  \n",
        "  Attributes:\n",
        "    - path: a list that is used for storing the direction of the path\n",
        "    - fitness: a variable used for saving the value of the fitness of the individual\n",
        "  '''\n",
        "\n",
        "  def __init__(self):\n",
        "    '''\n",
        "    Constructor of the Individual class: path is initialized as an empty list\n",
        "                                         while fitness is initialized as 0 \n",
        "    '''\n",
        "    self.path = []\n",
        "    self.fitness = 0\n",
        "    self.number_of_cp_reached = 0\n",
        "\n",
        "  def getPath(self):\n",
        "    # this method is used to retrieve the path of the individual \n",
        "    return self.path\n",
        "\n",
        "  def getFitness(self):\n",
        "    # this method is used to retrieve the fitness of the individual\n",
        "    return self.fitness\n",
        "\n",
        "  def compass(self,current_point,control_point):\n",
        "    \n",
        "    if current_point[0] >= control_point[0] and current_point[1] >= control_point[1]:\n",
        "      direction1 = 0\n",
        "      direction2 = 1\n",
        "    elif current_point[0] >= control_point[0] and current_point[1] <= control_point[1]:\n",
        "      direction1 = 1\n",
        "      direction2 = 2\n",
        "    elif current_point[0] <= control_point[0] and current_point[1] <= control_point[1]:\n",
        "      direction1 = 2\n",
        "      direction2 = 3\n",
        "    elif current_point[0] <= control_point[0] and current_point[1] >= control_point[1]:\n",
        "      direction1 = 0\n",
        "      direction2 = 3\n",
        "\n",
        "\n",
        "    return direction1, direction2\n",
        "\n",
        "  def __repr__(self):\n",
        "        return \"(Path: \" + str(self.path) + \", fitness: \" + str(self.fitness) + \", number_of_cp_reached: \"+ str(self.number_of_cp_reached) + \")\""
      ],
      "metadata": {
        "id": "fAhLn5QiWhEs"
      },
      "execution_count": 2,
      "outputs": []
    },
    {
      "cell_type": "code",
      "source": [
        "class Map:\n",
        "\n",
        "  '''\n",
        "  This class is used to create the map where the Orieentiring take place:\n",
        "  it is a mxn array (m and n are given as parameter) where a certain number of\n",
        "  obstacles and control points are placed.\n",
        "\n",
        "  Attributes:\n",
        "    - rows: the number of rows of the map (the m dimension)\n",
        "    - colums: the numbers of the map (the n dimension)\n",
        "    - number_of_obstacles: the number of obstacles that will appear on the map\n",
        "    - number_of_cp: number of control points that will appear on the map\n",
        "    - cp_list: a list containing all the coordinates of the control points. \n",
        "               Initially contains the start point at (0,0)\n",
        "  '''\n",
        "\n",
        "  def __init__(self, rows, columns, number_of_obstacles, number_of_cp):\n",
        "\n",
        "    '''\n",
        "    The constructor of the map: lenght and height represent the dimension of the map (array)\n",
        "    while number_of_obstacles and number_of_cp represent the number of obstacles and the number\n",
        "    of control points that will be placed on the map, respectively.\n",
        "    '''\n",
        "\n",
        "    self.rows = rows\n",
        "    self.columns = columns\n",
        "    self.number_of_obstacles = number_of_obstacles\n",
        "    self.number_of_cp = number_of_cp\n",
        "    self.cp_list = []\n",
        "\n",
        "  def create_map(self):\n",
        "\n",
        "    '''\n",
        "    This method is used to fill the array: the 'walkable ground' will be the cells that contains 0, the obstacle\n",
        "    will be the cells containing 1 and the control points will be the cells containg 2, including the start and\n",
        "    ending points. \n",
        "    '''\n",
        "\n",
        "    map = np.zeros((self.rows, self.columns)) #initially, we create the array with all 0s\n",
        "\n",
        "    for i in range(self.number_of_obstacles): # iterate over the number of obstacles \n",
        "\n",
        "      #randomically, create the coordinates where to put the obstacle\n",
        "      x_obstacle = np.random.randint(0,self.rows)\n",
        "      y_obstacle = np.random.randint(0,self.columns)\n",
        "      #print('Posizione ostacolo: {0}, {1}'.format(x_ostacolo,y_ostacolo))\n",
        "\n",
        "      #check if the coordinate corresponds with a control point, the start or the end\n",
        "      if map[x_obstacle][y_obstacle] == 2:\n",
        "        #if true, do not place the obstacle\n",
        "        continue\n",
        "      else:\n",
        "        #else, put the obstacle\n",
        "        map[x_obstacle][y_obstacle] = 1\n",
        "      \n",
        "      #next, place the control point, if any remain to be placed\n",
        "      if self.number_of_cp != 0:\n",
        "        \n",
        "        #randomically, create the coordinates where to put the control point\n",
        "        x_cp = np.random.randint(0,self.rows)\n",
        "        y_cp = np.random.randint(0,self.columns)\n",
        "        \n",
        "        #check if the control point is over an obstacle\n",
        "        if map[x_cp][y_cp] == 1:\n",
        "          #if true, do not put the control point\n",
        "          continue\n",
        "        else: \n",
        "          map[x_cp][y_cp] = 2 # put the control point\n",
        "          self.cp_list.append([x_cp,y_cp]) # add the coordinate to the list of all control points\n",
        "          self.number_of_cp -= 1 # reduce the number of control points\n",
        "\n",
        "    #self.cp_list.append([self.lenght-1,self.height-1]) # in the end, add the arrival point to the list of control points\n",
        "\n",
        "    probability = np.random.uniform(0,1,1)\n",
        "\n",
        "    if probability >= 0.5:\n",
        "      self.cp_list.sort(key = lambda point: point[1])\n",
        "    else:\n",
        "      self.cp_list.sort()\n",
        "\n",
        "    return map, self.cp_list # return the array and the list\n",
        "    \n",
        "\n",
        "  def getControlPointList(self):\n",
        "\n",
        "    # this method is used for obtain the list of control points\n",
        "    return self.cp_list\n",
        "\n",
        "  def visualizeMap(self,map):\n",
        "\n",
        "    '''\n",
        "    this method is used for plotting the map\n",
        "    '''\n",
        "    # set the dimension of the plot\n",
        "    plt.figure(figsize=(12,12))\n",
        "\n",
        "    #use a heatmap for plotting, so the same value will have the same color\n",
        "    ax = sns.heatmap(map, cbar = False, cmap = sns.color_palette(\"coolwarm\", 12),linewidth = 1)\n",
        "\n",
        "    # get the x and y coordinate for each point, and sum 0.5, so the line will start at the centre of the square\n",
        "    x = [self.cp_list[i][1] + 0.5 for i in range(len(self.cp_list))]\n",
        "    y = [self.cp_list[i][0] + 0.5 for i in range(len(self.cp_list))]\n",
        "\n",
        "    #plot the lines\n",
        "    plt.plot(x, y, 'ro-')\n",
        "\n",
        "    #add text near the point\n",
        "    plt.text(x[0] - 0.15, y[0] - 0.15, 'Start')\n",
        "    for i in range(1,len(x)-1):\n",
        "      plt.text(x[i] + 0.15, y[i] + 0.15, str(i))\n",
        "    plt.text(x[-1] - 0.20, y[-1] - 0.20, 'End')\n",
        "\n",
        "    ax.invert_yaxis()\n",
        "\n",
        "    plt.ylim(0,self.rows)\n",
        "    plt.xlim(0,self.columns)\n",
        "\n",
        "    #show the plot\n",
        "    plt.show()\n",
        "\n",
        "  def visualizeIndividual(self, map, individual):\n",
        "    \n",
        "    copia = map.copy()\n",
        "    moves = [[0, -1], [-1, 0], [0, 1], [1, 0]]\n",
        "    point = self.getControlPointList()[0]\n",
        "    \n",
        "    for m in individual.path:\n",
        "      point = [point[0] + moves[m][0], point[1] + moves[m][1]]\n",
        "      \n",
        "      if point[0] >= self.rows or point[1] >= self.columns or point[0] < 0 or point[1] < 0:\n",
        "        point = [point[0] - moves[m][0], point[1] - moves[m][1]]\n",
        "        continue\n",
        "\n",
        "      if copia[point[0]][point[1]] == 2:\n",
        "        continue\n",
        "      else:\n",
        "        copia[point[0]][point[1]] = 3\n",
        "\n",
        "    plt.figure(figsize=(12,12))\n",
        "\n",
        "    ax = sns.heatmap(copia, cbar = False, cmap = sns.color_palette(\"coolwarm\", 12),linewidth = 1)\n",
        "    ax.invert_yaxis()\n",
        "\n",
        "    x = [self.cp_list[i][1] + 0.5 for i in range(len(self.cp_list))]\n",
        "    y = [self.cp_list[i][0] + 0.5 for i in range(len(self.cp_list))]\n",
        "\n",
        "    #plot the lines\n",
        "    plt.plot(x, y, 'ro-')\n",
        "\n",
        "    #add text near the point\n",
        "    plt.text(x[0] - 0.25, y[0] - 0.25, 'Start')\n",
        "    for i in range(1,len(x)-1):\n",
        "      plt.text(x[i] + 0.15, y[i] + 0.15, str(i))\n",
        "    plt.text(x[-1] - 0.20, y[-1] - 0.20, 'End')\n",
        "\n",
        "    plt.ylim(0,self.rows)\n",
        "    plt.xlim(0,self.columns)\n",
        "\n",
        "    #show the plot\n",
        "    plt.show()"
      ],
      "metadata": {
        "id": "JaTV7AXQDgog"
      },
      "execution_count": 3,
      "outputs": []
    },
    {
      "cell_type": "code",
      "source": [
        "map = Map(30,30,130,10)\n",
        "mappa, lanterne = map.create_map()\n",
        "map.visualizeMap(mappa)"
      ],
      "metadata": {
        "colab": {
          "base_uri": "https://localhost:8080/",
          "height": 700
        },
        "id": "3lltAOZAJ7EV",
        "outputId": "1664c4c4-c39a-4bdf-bb0b-3d61dfcc096e"
      },
      "execution_count": 4,
      "outputs": [
        {
          "output_type": "display_data",
          "data": {
            "text/plain": [
              "<Figure size 864x864 with 1 Axes>"
            ],
            "image/png": "[encoded data removed]"
          },
          "metadata": {
            "needs_background": "light"
          }
        }
      ]
    },
    {
      "cell_type": "code",
      "source": [
        "cp_list = map.getControlPointList()\n",
        "cp_list"
      ],
      "metadata": {
        "colab": {
          "base_uri": "https://localhost:8080/"
        },
        "id": "KnZjCL0r7PIk",
        "outputId": "e31667ef-bca7-45d7-c3dc-463e88b4dfec"
      },
      "execution_count": 5,
      "outputs": [
        {
          "output_type": "execute_result",
          "data": {
            "text/plain": [
              "[[7, 3],\n",
              " [12, 5],\n",
              " [14, 5],\n",
              " [15, 18],\n",
              " [18, 0],\n",
              " [20, 3],\n",
              " [20, 11],\n",
              " [22, 29],\n",
              " [23, 0],\n",
              " [29, 5]]"
            ]
          },
          "metadata": {},
          "execution_count": 5
        }
      ]
    },
    {
      "cell_type": "code",
      "source": [
        "def getNumberOfStepBetweenPoits(p1, p2):\n",
        "\n",
        "  return (abs(p1[0] - p2[0])) + abs((p1[1] - p2[1]))"
      ],
      "metadata": {
        "id": "mxdF5VAXHMSV"
      },
      "execution_count": 6,
      "outputs": []
    },
    {
      "cell_type": "code",
      "source": [
        "def getTotalNumberOfSteps(list_of_point):\n",
        "  total_steps = 0\n",
        "  for i in range(0,len(list_of_point)-1):\n",
        "\n",
        "    total_steps += getNumberOfStepBetweenPoits(list_of_point[i],list_of_point[i+1])\n",
        "\n",
        "  return total_steps"
      ],
      "metadata": {
        "id": "6En6OyQiIm7g"
      },
      "execution_count": 7,
      "outputs": []
    },
    {
      "cell_type": "code",
      "source": [
        "def avoid_obstacle(moves, current_point, movement):\n",
        "\n",
        "  found = False\n",
        "  current_point = [current_point[0] - movement[0], current_point[1] - movement[1]]\n",
        "  remain_moves = moves.copy()\n",
        "  remain_moves.remove(movement)\n",
        "\n",
        "  for points in remain_moves:\n",
        "    point = [current_point[0] + points[0], current_point[1] + points[1]]\n",
        "\n",
        "    if checkOutOfMap(point):\n",
        "      continue\n",
        "\n",
        "    if mappa[point[0]][point[1]] == 1:\n",
        "      continue\n",
        "    else:\n",
        "      current_point = point\n",
        "      found = True\n",
        "      return current_point, found, points"
      ],
      "metadata": {
        "id": "i26H7-BOuw4l"
      },
      "execution_count": 8,
      "outputs": []
    },
    {
      "cell_type": "code",
      "source": [
        "def checkOutOfMap(point):\n",
        "  \n",
        "  if point[0] < 0 or point[1] < 0 or point[0] > map.rows -1 or point[1] > map.columns - 1:\n",
        "    return True\n",
        "  \n",
        "  return False"
      ],
      "metadata": {
        "id": "5V7BWZl8-W-3"
      },
      "execution_count": 9,
      "outputs": []
    },
    {
      "cell_type": "code",
      "source": [
        "def checkObstacle(point):\n",
        "\n",
        "  if mappa[point[0]][point[1]] == 1:\n",
        "    return True\n",
        "\n",
        "  return False"
      ],
      "metadata": {
        "id": "aP18oYTu_qR7"
      },
      "execution_count": 10,
      "outputs": []
    },
    {
      "cell_type": "code",
      "source": [
        "def checkControlPoint(point, cp):\n",
        "  \n",
        "  if point[0] == cp[0] and point[1] == cp[1]:\n",
        "    return True\n",
        "\n",
        "  return False"
      ],
      "metadata": {
        "id": "ZEKV1aHCAjJ5"
      },
      "execution_count": 11,
      "outputs": []
    },
    {
      "cell_type": "code",
      "source": [
        "optimal_steps = getTotalNumberOfSteps(cp_list)"
      ],
      "metadata": {
        "id": "9EullmpQNV15"
      },
      "execution_count": 12,
      "outputs": []
    },
    {
      "cell_type": "markdown",
      "source": [
        "Funzione per creare la popolazione iniziale"
      ],
      "metadata": {
        "id": "IrUQWQ50ewT4"
      }
    },
    {
      "cell_type": "code",
      "source": [
        "def initPopulation(population_dim):\n",
        "\n",
        "  population = []\n",
        "  cp_list = map.getControlPointList()\n",
        "  moves = [[0, -1], [-1, 0], [0, 1], [1, 0]]\n",
        "\n",
        "  for ind in range(population_dim):\n",
        "    \n",
        "    reached = False\n",
        "    blocked = False\n",
        "    individual = Individual()\n",
        "\n",
        "    current_point = cp_list[0]\n",
        "    #print('### -- Parto da --> {0}, devo andare a --> {1}-- ###'.format(current_point,cp_list[1]))\n",
        "    steps = 0\n",
        "    for i in range(1, len(cp_list)):\n",
        "      reached = False\n",
        "      control_point = cp_list[i]\n",
        "      while not reached:\n",
        "\n",
        "        if steps % 3 == 0:\n",
        "          #print('### -- Trovo direzione -- ###')\n",
        "          d1,d2 = individual.compass(current_point, control_point)\n",
        "          movement = random.choice([moves[d1],moves[d2]])\n",
        "        else:\n",
        "          movement = random.choice(moves)\n",
        "    \n",
        "        individual.path.append(moves.index(movement))\n",
        "        #print('### -- Mi muovo verso la direzione: {0} -- ###'.format(movement))\n",
        "        steps += 1\n",
        "        current_point = [current_point[0] + movement[0], current_point[1] + movement[1]]\n",
        "\n",
        "        #print('### -- Sono arrivato in -- > {0}, devo andare a --> {1} -- ###'.format(current_point,cp_list[i]))\n",
        "\n",
        "        if checkOutOfMap(current_point):\n",
        "          current_point = [current_point[0] - movement[0], current_point[1] - movement[1]]\n",
        "          #print('### -- Sono FUORI DALLA MAPPA. Torno indietro a --> {} --- ###'.format(current_point))\n",
        "          individual.path.pop()\n",
        "          steps -= 1\n",
        "\n",
        "        if checkObstacle(current_point):\n",
        "          #print('### -- Sono su un OSTACOLO, ahi -- ###')\n",
        "          #print('### -- Provo a cercare un altra via -- ###')\n",
        "          current_point, found, new_movement = avoid_obstacle(moves, current_point, movement)\n",
        "          steps -= 1\n",
        "      \n",
        "          if found:\n",
        "            #print('### -- Ho trovato un altra via. Provo a passare per --> {0}'.format(current_point))\n",
        "            individual.path.pop()\n",
        "            individual.path.append(moves.index(new_movement))\n",
        "            steps += 1\n",
        "          else:\n",
        "            blocked = True\n",
        "            break\n",
        "\n",
        "        if checkControlPoint(current_point, control_point):\n",
        "          #print('### -- Ho trovato la LANTERNA {0}, yeah -- ##'.format(i))\n",
        "          individual.number_of_cp_reached = i\n",
        "          reached = True\n",
        "  \n",
        "      if blocked:\n",
        "        #print('### -- Sono uscito dal ciclo e mi fermo -- ###')\n",
        "        break\n",
        "\n",
        "    if individual.number_of_cp_reached != len(cp_list) - 1:\n",
        "      individual.fitness = 0\n",
        "    else:\n",
        "      individual.fitness = steps/optimal_steps\n",
        "    #print('Individuo: {0}\\nLanterne raggiunte: {1}'.format(individual.path,individual.number_of_cp_reached))\n",
        "    population.append(individual)\n",
        "\n",
        "  return population"
      ],
      "metadata": {
        "id": "c124MQ4jai8v"
      },
      "execution_count": 13,
      "outputs": []
    },
    {
      "cell_type": "code",
      "source": [
        "pop = initPopulation(5)"
      ],
      "metadata": {
        "id": "WMBYAZPCiJJm"
      },
      "execution_count": 167,
      "outputs": []
    },
    {
      "cell_type": "markdown",
      "source": [
        "Funzione per calcolare il fitness di un individuo"
      ],
      "metadata": {
        "id": "XB3TH7xne04E"
      }
    },
    {
      "cell_type": "code",
      "source": [
        "def findIndividualFitness(individual):\n",
        "\n",
        "  moves = [[0, -1], [-1, 0], [0, 1], [1, 0]]\n",
        "  point = map.getControlPointList()[0]\n",
        "  steps = 0\n",
        "\n",
        "  for m in individual.path:\n",
        "    point = [point[0] + moves[m][0], point[1] + moves[m][1]]\n",
        "    steps += 1\n",
        "\n",
        "    if point[0] >= map.rows or point[1] >= map.columns or point[0] < 0 or point[1] < 0:\n",
        "      point = [point[0] - moves[m][0], point[1] - moves[m][1]]\n",
        "      steps -= 1\n",
        "\n",
        "    if mappa[point[0]][point[1]] == 1:\n",
        "      steps -= 1\n",
        "\n",
        "  \n",
        "  individual.fitness = steps/optimal_steps"
      ],
      "metadata": {
        "id": "UyELiHecOHSr"
      },
      "execution_count": 15,
      "outputs": []
    },
    {
      "cell_type": "markdown",
      "source": [
        "Funzione per calcolare la fitness della popolazione"
      ],
      "metadata": {
        "id": "FnhQNuDPe6vg"
      }
    },
    {
      "cell_type": "code",
      "source": [
        "def findFitness(population):\n",
        "\n",
        "  for individual in population:\n",
        "\n",
        "    findIndividualFitness(individual)"
      ],
      "metadata": {
        "id": "IyHa81uRRJQa"
      },
      "execution_count": 138,
      "outputs": []
    },
    {
      "cell_type": "markdown",
      "source": [
        "Funzione per classificare gli individui in base alla fitness"
      ],
      "metadata": {
        "id": "IquQXZLZe__r"
      }
    },
    {
      "cell_type": "code",
      "source": [
        "def rankPopulation(population):\n",
        "\n",
        "  return sorted(population, key = lambda individual: individual.fitness)"
      ],
      "metadata": {
        "id": "_2H3yVApNlcJ"
      },
      "execution_count": 116,
      "outputs": []
    },
    {
      "cell_type": "code",
      "source": [
        "findFitness(pop)"
      ],
      "metadata": {
        "id": "1o-1sMj4TVxW"
      },
      "execution_count": 146,
      "outputs": []
    },
    {
      "cell_type": "code",
      "source": [
        "ranked_pop = rankPopulation(pop)\n",
        "for i in range(len(ranked_pop)):\n",
        "\n",
        "  print(ranked_pop[i].fitness)"
      ],
      "metadata": {
        "colab": {
          "base_uri": "https://localhost:8080/"
        },
        "id": "62wEY5D9YVkI",
        "outputId": "709f7890-4fea-4d25-b839-fd230ee55d0f"
      },
      "execution_count": 147,
      "outputs": [
        {
          "output_type": "stream",
          "name": "stdout",
          "text": [
            "7.813559322033898\n",
            "11.711864406779661\n",
            "12.11864406779661\n",
            "15.23728813559322\n",
            "24.016949152542374\n"
          ]
        }
      ]
    },
    {
      "cell_type": "markdown",
      "source": [
        "Funzione per effettuare la Roulette Wheel Selection"
      ],
      "metadata": {
        "id": "swUPqX4yTP7g"
      }
    },
    {
      "cell_type": "code",
      "source": [
        "def rouletteWheelSelection(population_ranked):\n",
        "\n",
        "  total_fitness = sum([1/individual.fitness for individual in population_ranked])\n",
        "  \n",
        "  individual_probabilities = [(1/individual.fitness)/total_fitness for individual in population_ranked]\n",
        "  #print('Individual probabilities: {0}'.format(individual_probabilities))\n",
        "  cumulative_probabilities = [individual_probabilities[0]]\n",
        "\n",
        "  for values in individual_probabilities[1:]:\n",
        "\n",
        "    cumulative_probabilities.append(cumulative_probabilities[-1]+values)\n",
        " \n",
        "  \n",
        "\n",
        "  #print('Cumulative probabilities: {0}'.format(cumulative_probabilities))\n",
        "  random_number = np.random.uniform(0,1)\n",
        "\n",
        "\n",
        "  choose = 0\n",
        "  for values in individual_probabilities:\n",
        "    choose += values\n",
        "\n",
        "    if choose >= random_number:\n",
        "      #print('Random number: {0} --> Numero selezionato: {1} --> \\nIndividuo corrispondente: {2}'.format(random_number, values, population_ranked[individual_probabilities.index(values)]))\n",
        "      return population_ranked[individual_probabilities.index(values)]"
      ],
      "metadata": {
        "id": "EXU5MmI2ffnb"
      },
      "execution_count": 18,
      "outputs": []
    },
    {
      "cell_type": "markdown",
      "source": [
        "Funzione per selezionare il mating pool"
      ],
      "metadata": {
        "id": "7AQxVIODUn1m"
      }
    },
    {
      "cell_type": "code",
      "source": [
        "def matingPool(population_ranked):\n",
        "\n",
        "  mating_pool = []\n",
        "\n",
        "  for i in range(len(population_ranked)):\n",
        "\n",
        "    selected_individual = rouletteWheelSelection(population_ranked)\n",
        "    population_ranked.remove(selected_individual)\n",
        "    mating_pool.append(selected_individual)\n",
        "\n",
        "  return mating_pool"
      ],
      "metadata": {
        "id": "Khvi9DLFUrFs"
      },
      "execution_count": 19,
      "outputs": []
    },
    {
      "cell_type": "code",
      "source": [
        "def retrievePathToCP(individual, cp):\n",
        "\n",
        "  child_path = []\n",
        "  moves = [[0, -1], [-1, 0], [0, 1], [1, 0]]\n",
        "  point = map.getControlPointList()[0]\n",
        "  for movement in individual.path:\n",
        "\n",
        "    point = [point[0] + moves[movement][0], point[1] + moves[movement][1]]\n",
        "    child_path.append(movement)\n",
        "    \n",
        "    if checkControlPoint(point,cp):\n",
        "\n",
        "      return child_path"
      ],
      "metadata": {
        "id": "gcY7Y6e8ESr8"
      },
      "execution_count": 20,
      "outputs": []
    },
    {
      "cell_type": "code",
      "source": [
        "def retrievePathToEnd(individual,cp):\n",
        "\n",
        "  moves = [[0, -1], [-1, 0], [0, 1], [1, 0]]\n",
        "  point = map.getControlPointList()[0]\n",
        "\n",
        "  for i, movement in enumerate(individual.path):\n",
        "\n",
        "\n",
        "    point = [point[0] + moves[movement][0], point[1] + moves[movement][1]]\n",
        "    \n",
        "    if checkControlPoint(point,cp):\n",
        "      return individual.path[i+1:]     "
      ],
      "metadata": {
        "id": "c2C8-s3qJcop"
      },
      "execution_count": 21,
      "outputs": []
    },
    {
      "cell_type": "code",
      "source": [
        "def reproduce(parent1, parent2):\n",
        "  \n",
        "  print(parent1,parent2)\n",
        "  child = Individual()\n",
        "\n",
        "  index = random.randint(0,len(map.getControlPointList()) - 1)\n",
        "  \n",
        "  cp = map.getControlPointList()[index]\n",
        "  a = retrievePathToCP(parent1,cp)\n",
        "  \n",
        "  b = retrievePathToEnd(parent2,cp)\n",
        "  child.path = a + b\n",
        "\n",
        "  return child"
      ],
      "metadata": {
        "id": "HGccWXMga3Xx"
      },
      "execution_count": 156,
      "outputs": []
    },
    {
      "cell_type": "code",
      "source": [
        "child = reproduce(ranked_pop[0],ranked_pop[1])\n",
        "child"
      ],
      "metadata": {
        "id": "_dh0HzLKKGrO",
        "colab": {
          "base_uri": "https://localhost:8080/"
        },
        "outputId": "4d43f265-9146-4bba-eb99-30dca1948b38"
      },
      "execution_count": 154,
      "outputs": [
        {
          "output_type": "execute_result",
          "data": {
            "text/plain": [
              "(Path: [2, 3, 1, 3, 3, 0, 2, 2, 3, 2, 3, 3, 0, 0, 3, 3, 2, 1, 2, 1, 2, 2, 3, 3, 2, 0, 3, 1, 2, 0, 2, 1, 1, 3, 0, 2, 3, 2, 0, 3, 0, 2, 1, 2, 0, 3, 0, 1, 3, 1, 1, 2, 0, 3, 2, 1, 3, 2, 0, 0, 2, 0, 1, 2, 1, 0, 3, 1, 0, 3, 0, 0, 3, 0, 1, 2, 1, 0, 2, 2, 1, 1, 1, 1, 2, 0, 0, 2, 0, 0, 2, 2, 2, 3, 3, 2, 0, 0, 1, 3, 1, 0, 2, 3, 2, 0, 1, 0, 3, 1, 0, 3, 2, 2, 3, 3, 3, 2, 1, 3, 2, 1, 0, 2, 2, 0, 2, 0, 0, 3, 3, 3, 1, 1, 1, 2, 0, 3, 3, 2, 2, 3, 0, 2, 1, 0, 0, 2, 1, 1, 2, 0, 0, 2, 2, 2, 0, 3, 0, 3, 0, 3, 2, 3, 1, 2, 0, 3, 1, 2, 1, 3, 0, 2, 0, 3, 1, 1, 1, 2, 3, 2, 0, 3, 0, 2, 0, 3, 1, 2, 1, 3, 0, 2, 3, 1, 0, 0, 1, 1, 1, 3, 1, 0, 2, 0, 2, 2, 3, 3, 2, 3, 1, 3, 0, 3, 1, 2, 1, 3, 3, 2, 2, 1, 1, 2, 0, 2, 3, 3, 3, 1, 3, 3, 1, 3, 3, 2, 0, 3, 2, 2, 2, 2, 2, 0, 1, 1, 0, 2, 2, 0, 1, 0, 0, 2, 1, 0, 1, 2, 2, 1, 0, 1, 2, 2, 3, 3, 3, 1, 2, 1, 0, 3, 2, 2, 0, 2, 2, 0, 0, 0, 0, 2, 0, 0, 1, 2, 0, 0, 2, 3, 0, 0, 0, 3, 3, 3, 2, 0, 1, 1, 3, 0, 0, 2, 3, 1, 2, 0, 0, 2, 0, 2, 3, 1, 1, 2, 0, 3, 0, 3, 1, 2, 3, 0, 0, 1, 0, 1, 3, 2, 2, 3, 3, 2, 1, 0, 3, 0, 2, 3, 1, 0, 0, 1, 1, 3, 1, 3, 3, 1, 2, 1, 0, 3, 3, 1, 2, 0, 1, 3, 1, 1, 3, 1, 0, 0, 3, 0, 1, 3, 0, 1, 2, 3, 0, 0, 0, 2, 1, 3, 1, 3, 0, 3, 2, 1, 2, 1, 3, 1, 2, 3, 1, 2, 3, 3, 1, 3, 2, 3, 0, 2, 3, 1, 0, 3, 0, 1, 2, 0, 3, 3, 0, 2, 3, 0, 3, 2, 1, 3, 2, 0, 0, 2, 1, 1, 1, 0, 3, 2, 0, 3, 3, 0, 2, 0, 0, 2, 3, 1, 3, 1, 1, 0, 1, 0, 3, 1, 0, 2, 1, 3, 2, 0, 0, 2, 3, 1, 0, 2, 0, 2, 0, 2, 2, 0, 1, 3, 0, 2, 1, 3, 1, 3, 0, 2, 3, 3, 1, 1, 3, 1, 3, 1, 1, 3, 3, 1, 2, 0, 1, 3, 0, 2, 2, 2, 1, 2, 0, 1, 2, 0, 1, 1, 1, 0, 3, 2, 0, 0, 2, 0, 1, 0, 3, 1, 2, 0, 1, 3, 3, 1, 3, 2, 0, 3, 2, 2, 1, 2, 3, 3, 2, 1, 1, 3, 3, 3, 0, 3, 2, 1, 0, 1, 3, 1, 1, 3, 1, 2, 2, 3, 3, 1, 0, 2, 2, 1, 2, 3, 1, 0, 3, 2, 1, 2, 2, 0, 2, 3, 0, 2, 1, 0, 3, 1, 0, 3, 1, 0, 3, 2, 1, 3, 3, 2, 1, 1, 2, 3, 1, 1, 3, 2, 2, 2, 0, 0, 2, 2, 2, 0, 3, 1, 0, 3, 1, 3, 0, 2, 3, 1, 1, 2, 2, 3, 3, 3, 1, 2, 0, 0, 2, 1, 2, 2, 3, 2, 2, 3, 0, 2, 0, 1, 2, 0, 1, 3, 2, 3, 0, 2, 3, 1, 3, 0, 2, 3, 0, 2, 3, 2, 1, 0, 1, 2, 2, 0, 0, 2, 2, 0, 2, 0, 0, 2, 0, 1, 0, 3, 2, 3, 1, 2, 0, 1, 3, 1, 0, 2, 1, 0, 2, 2, 2, 3, 3, 0, 0, 2, 0, 2, 2, 3, 0, 2, 1, 1, 1, 0, 0, 0, 2, 3, 0, 2, 3, 0, 2, 2, 0, 3, 2, 3, 2, 2, 0, 1, 0, 2, 1, 1, 1, 0, 2, 3, 2, 2, 3, 2, 2, 2, 2, 1, 2, 0, 2, 1, 3, 2, 1, 1, 2, 1, 3, 2, 1, 0, 2, 3, 0, 2, 3, 0, 0, 2, 1, 2, 1, 0, 2, 3, 1, 3, 1, 0, 3, 1, 0, 2, 1, 1, 2, 3, 0, 2, 1, 1, 3, 3, 0, 2, 0, 2, 3, 1, 3, 3, 1, 1, 3, 0, 3, 3, 0, 2, 0, 1, 3, 3, 0, 2, 0, 0, 3, 0, 3, 1, 1, 2, 2, 2, 0, 1, 2, 0, 0, 3, 3, 0, 1, 1, 2, 3, 0, 2, 3, 0, 0, 2, 0, 3, 2, 1, 1, 3, 3, 2, 2, 3, 2, 2, 0, 0, 2, 2, 0, 2, 0, 0, 1, 0, 0, 1, 0, 3, 2, 1, 1, 2, 3, 3, 1, 1, 0, 2, 0, 2, 3, 0, 2, 0, 2, 3, 1, 3, 2, 0, 0, 2, 2, 2, 0, 2, 2, 2, 0, 0, 2, 2, 0, 0, 2, 1, 0, 1, 0, 2, 3, 1, 3, 2, 0, 1, 3, 1, 1, 3, 0, 0, 2, 2, 3, 1, 3, 2, 0, 2, 0, 2, 3, 0, 2, 2, 1, 0, 2, 3, 1, 0, 0, 1, 0, 1, 3, 0, 3, 0, 0, 0, 3, 0, 1, 3, 1, 1, 3, 2, 2, 0, 3, 3, 1, 2, 2, 1, 3, 1, 3, 0, 1, 3, 2, 1, 0, 2, 3, 1, 1, 0, 0, 3, 0, 3, 2, 2, 1, 0, 2, 3, 3, 0, 1, 1, 2, 0, 0, 2, 0, 2, 2, 0, 3, 1, 3, 3, 1, 1, 0, 1, 0, 0, 1, 3, 3, 0, 0, 1, 3, 0, 2, 3, 1, 3, 2, 0, 2, 2, 1, 0, 0, 3, 1, 2, 0, 0, 0, 3, 0, 3, 0, 0, 1, 0, 2, 1, 0, 3, 2, 0, 1, 3, 1, 0, 1, 3, 3, 2, 0, 2, 3, 0, 0, 3, 1, 2, 0, 1, 2, 2, 1, 0, 3, 1, 1, 0, 0, 1, 0, 3, 2, 3, 1, 0, 0, 0, 2, 3, 0, 1, 2, 0, 0, 2, 3, 0, 3, 1, 2, 3, 1, 1, 2, 3, 0, 0, 0, 1, 0, 0, 0, 2, 3, 3, 1, 3, 2, 0, 1, 1, 3, 3, 2, 0, 0, 3, 1, 3, 2, 0, 3, 3, 1, 3, 2, 2, 0, 2, 0, 2, 0, 3, 3, 1, 0, 3, 2, 1, 0, 1, 3, 3, 1, 3, 3, 2, 0, 2, 2, 0, 1, 1, 1, 2, 2, 2, 0, 0, 2, 2, 0, 0, 0, 3, 0, 2, 1, 2, 2, 0, 1, 2, 1, 0, 3, 1, 3, 3, 1, 3, 0, 2, 2, 0, 1, 1, 2, 2, 0, 2, 0, 3, 3, 0, 1, 2, 2, 1, 3, 1, 0, 3, 1, 0, 3, 2, 2, 2, 0, 2, 3, 0, 2, 2, 0, 1, 3, 0, 1, 2, 3, 0, 2, 0, 0, 0, 0, 0, 2, 2, 0, 2, 0, 0, 2, 2, 1, 3, 0, 2, 2, 1, 0, 3, 1, 1, 2, 0, 1, 2, 0, 1, 2, 0, 2, 2, 2, 2, 3, 1, 0, 3, 2, 0, 2, 0, 0, 2, 1, 0, 3, 3, 3, 2, 0, 3, 0, 1, 1, 2, 3, 3, 0, 0, 0, 3, 1, 3, 0, 2, 1, 3, 0, 1, 3, 3, 1, 3, 1, 3, 3, 2, 2, 2, 1, 3, 0, 2, 0, 0, 2, 0, 2, 2, 0, 2, 0, 0, 2, 0, 1, 3, 1, 0, 3, 2, 2, 2, 1, 2, 2, 2, 1, 3, 3, 1, 3, 2, 1, 3, 1, 0, 0, 3], fitness: 0, number_of_cp_reached: 0)"
            ]
          },
          "metadata": {},
          "execution_count": 154
        }
      ]
    },
    {
      "cell_type": "markdown",
      "source": [
        "Funzione per creare la popolazione della generazione successiva"
      ],
      "metadata": {
        "id": "7GMhbla9EIwy"
      }
    },
    {
      "cell_type": "code",
      "source": [
        "def reproducePopulation(mating_pool):\n",
        "\n",
        "  children = []\n",
        "  pool = random.sample(mating_pool, len(mating_pool))\n",
        "\n",
        "  for i in range(len(mating_pool)):\n",
        "\n",
        "    child = reproduce(pool[i],pool[len(mating_pool)-i-1])\n",
        "    children.append(child)\n",
        "\n",
        "  return children"
      ],
      "metadata": {
        "id": "nOcZc5E9jc53"
      },
      "execution_count": 24,
      "outputs": []
    },
    {
      "cell_type": "markdown",
      "source": [
        "QUI"
      ],
      "metadata": {
        "id": "aZAM7477IvRy"
      }
    },
    {
      "cell_type": "code",
      "source": [
        "def getPathBetweenCP(individual, index):\n",
        "\n",
        "  from_cp = map.getControlPointList()[index-1]\n",
        "  to_cp = map.getControlPointList()[index]\n",
        "  #print('Percorso da lanterna :{}, a lanterna: {}'.format(from_cp,to_cp))\n",
        "  moves = [[0, -1], [-1, 0], [0, 1], [1, 0]]\n",
        "  point = map.getControlPointList()[0]\n",
        "\n",
        "  \n",
        "  i = 0\n",
        "  \n",
        "  while not checkControlPoint(point,from_cp):\n",
        "\n",
        "    point = [point[0] + moves[individual.path[i]][0], point[1] + moves[individual.path[i]][1]]\n",
        "    #print(point)\n",
        "    i += 1\n",
        "    if checkOutOfMap(point):\n",
        "      continue\n",
        "\n",
        "  start_path = i\n",
        "  \n",
        "\n",
        "  while not checkControlPoint(point,to_cp):\n",
        "\n",
        "    point = [point[0] + moves[individual.path[i]][0], point[1] + moves[individual.path[i]][1]]\n",
        "    #print(point)\n",
        "    i += 1\n",
        "    if checkOutOfMap(point):\n",
        "      continue\n",
        "\n",
        "  end_path = i\n",
        "\n",
        "\n",
        "  return individual.path[start_path:end_path]"
      ],
      "metadata": {
        "id": "7mdPOh20lVWD"
      },
      "execution_count": 109,
      "outputs": []
    },
    {
      "cell_type": "code",
      "source": [
        "def scrumble(path):\n",
        "\n",
        "  start_index = random.randint(1,len(path))\n",
        "  #print('### start_index: {0}'.format(start_index))\n",
        "  end_index = random.randint(start_index+1,len(path))\n",
        "  #print('### end_index: {0}'.format(end_index))\n",
        "  \n",
        "  selected_path = path[start_index:end_index]\n",
        "\n",
        "  #print('### selected_path:{0}'.format(selected_path))\n",
        "  \n",
        "  shuffled_path = random.sample(selected_path, len(selected_path))\n",
        "  \n",
        "  #print('### shuffled_path:{0}'.format(shuffled_path))\n",
        "  \n",
        "  return start_index, end_index, shuffled_path"
      ],
      "metadata": {
        "id": "oQKkh_HBoLef"
      },
      "execution_count": 136,
      "outputs": []
    },
    {
      "cell_type": "code",
      "source": [
        "def checkObstacleInShufflePath(cp_index, path):\n",
        "\n",
        "  moves = [[0, -1], [-1, 0], [0, 1], [1, 0]]\n",
        "  point = map.getControlPointList()[cp_index-1]\n",
        "\n",
        "  for movement in path:\n",
        "\n",
        "    point = [point[0] + moves[movement][0], point[1] + moves[movement][1]]\n",
        "    #print(point)\n",
        "\n",
        "    if checkOutOfMap(point):\n",
        "      point = [point[0] - moves[movement][0], point[1] - moves[movement][1]]\n",
        "      \n",
        "\n",
        "    if checkObstacle(point):\n",
        "\n",
        "      point, found, new_movement = avoid_obstacle(moves, point, moves[movement])\n",
        "      \n",
        "      if found:\n",
        "        path.pop()\n",
        "        path.append(moves.index(new_movement))\n",
        "      else:\n",
        "        blocked = True\n",
        "        break\n",
        "\n",
        "  return path"
      ],
      "metadata": {
        "id": "oe_ehkhcwpqY"
      },
      "execution_count": 166,
      "outputs": []
    },
    {
      "cell_type": "code",
      "source": [
        "def mutateIndividual(individual):\n",
        "\n",
        "  cp_index = random.randint(1,len(map.getControlPointList())-1)\n",
        "  #print('### cp_index: {0}'.format(cp_index))\n",
        "  path = getPathBetweenCP(individual, cp_index)\n",
        "\n",
        "  #print('### Path between {0} e {1}: {2}'.format(cp_index-1,cp_index,path))\n",
        "\n",
        "  start_index, end_index, shuffled_path = scrumble(path)\n",
        "  shuffled_path = checkObstacleInShufflePath(cp_index,shuffled_path)\n",
        "  #print('### start_index --> {0}, end_index --> {1}, shuffled_path --> {2}'.format(start_index,end_index,shuffled_path))\n",
        "  #print('### path before: {}'.format(individual.path))\n",
        "  individual.path = individual.path[:start_index] + shuffled_path + individual.path[end_index:]\n",
        "  #print('### path before: {}'.format(individual.path))"
      ],
      "metadata": {
        "id": "rS1IDwDVnvgi"
      },
      "execution_count": 135,
      "outputs": []
    },
    {
      "cell_type": "markdown",
      "source": [
        "Funzione per far mutare un individuo"
      ],
      "metadata": {
        "id": "buPHlQVwj9gl"
      }
    },
    {
      "cell_type": "code",
      "source": [
        "def mutatePopulation(population, mutation_rate):\n",
        "\n",
        "  for individual in population:\n",
        "\n",
        "    index = np.random.uniform(0,1)\n",
        "\n",
        "    if index < mutation_rate:\n",
        "\n",
        "      mutateIndividual(individual)"
      ],
      "metadata": {
        "id": "Jui9_iKAkyqs"
      },
      "execution_count": 107,
      "outputs": []
    },
    {
      "cell_type": "code",
      "source": [
        "mutatePopulation(ranked_pop,0.7)"
      ],
      "metadata": {
        "colab": {
          "base_uri": "https://localhost:8080/"
        },
        "id": "F5wCRfdS1qxq",
        "outputId": "c4117d82-9e86-4765-858f-afec2830dc41"
      },
      "execution_count": 134,
      "outputs": [
        {
          "output_type": "stream",
          "name": "stdout",
          "text": [
            "### cp_index: 3\n",
            "### Path between 2 e 3: [0, 3, 0, 2, 1, 2, 1, 3, 0, 2, 0, 1, 2, 3, 0, 3, 0, 1, 3, 2, 0, 1, 2, 1, 2, 2, 0, 2, 0, 0, 3, 2, 0, 1, 2, 0, 3, 3, 0, 0, 2, 1, 3, 1, 2, 3, 0, 0, 1, 3, 2, 3, 1, 3, 3, 1, 0, 3, 1, 2, 0, 1, 3, 1, 2, 1, 2, 3, 3, 3, 1, 2, 0, 1, 3, 2, 2, 2, 0, 2, 0, 1, 2, 1, 3, 2, 1, 3, 2, 0, 0, 2, 2, 0, 2, 0, 1, 2, 3, 0, 2, 0, 0, 1, 1, 3, 3, 0, 3, 1, 3, 0, 0, 3, 0, 1, 3, 1, 2, 1, 0, 2, 0, 3, 2, 0, 3, 2, 3, 3, 2, 3, 0, 1, 1, 3, 1, 2, 1, 2, 0, 0, 1, 0, 1, 2, 3, 1, 1, 0, 3, 1, 1, 2, 2, 3, 1, 3, 0, 1, 3, 1, 2, 2, 0, 3, 0, 0, 2, 2, 0, 1, 3, 3, 1, 2, 0, 1, 3, 3, 1, 2, 0, 1, 2, 0, 1, 3, 0, 0, 3, 1, 1, 2, 0, 2, 3, 3, 2, 2, 0, 3, 1, 1, 0, 3, 0, 0, 3, 2, 3, 2, 1, 1, 3, 3, 1, 2, 3, 2, 2, 3, 1, 2, 2, 1, 1, 2, 2, 2, 3, 3, 1, 1, 1, 3, 3, 3, 1, 1, 0, 0, 0, 1, 2, 3, 2, 0, 2, 0, 2, 0, 1, 0, 3, 2, 3, 0, 2, 0, 3, 1, 2, 0, 2, 0, 1, 1, 2, 0, 0, 2, 0, 0, 2, 1, 0, 3, 0, 2, 2, 2, 0, 2, 2, 0, 2, 3, 0, 2, 3, 1, 2, 0, 1, 0, 3, 1, 2, 1, 2, 2, 3, 2, 3, 1, 3, 2, 1, 3, 2, 0, 2, 2, 2, 3, 2, 2]\n",
            "### start_index: 221\n",
            "### end_index: 269\n",
            "[14, 6]\n",
            "[15, 4]\n",
            "[16, 4]\n",
            "[16, 5]\n",
            "[17, 5]\n",
            "[18, 5]\n",
            "[17, 5]\n",
            "[18, 5]\n",
            "[18, 6]\n",
            "[18, 7]\n",
            "[19, 7]\n",
            "[19, 6]\n",
            "[18, 6]\n",
            "[17, 6]\n",
            "[17, 7]\n",
            "[17, 4]\n",
            "[17, 3]\n",
            "[17, 2]\n",
            "[17, 1]\n",
            "[16, 1]\n",
            "[16, 0]\n",
            "[16, 1]\n",
            "[16, 2]\n",
            "[16, 1]\n",
            "[16, 2]\n",
            "[17, 2]\n",
            "[16, 2]\n",
            "[16, 3]\n",
            "[16, 4]\n",
            "[16, 5]\n",
            "[15, 5]\n",
            "[15, 4]\n",
            "[14, 4]\n",
            "[13, 4]\n",
            "[14, 4]\n",
            "[14, 3]\n",
            "[14, 2]\n",
            "[13, 2]\n",
            "[12, 2]\n",
            "[13, 2]\n",
            "[13, 1]\n",
            "[12, 1]\n",
            "[12, 2]\n",
            "[12, 1]\n",
            "[11, 1]\n",
            "[12, 1]\n",
            "[12, 2]\n",
            "[12, 1]\n",
            "### start_index --> 221, end_index --> 269, shuffled_path --> [2, 3, 3, 2, 3, 3, 1, 3, 2, 2, 3, 0, 1, 1, 2, 0, 0, 0, 0, 1, 0, 2, 2, 0, 2, 3, 1, 2, 2, 2, 1, 1, 1, 1, 3, 0, 0, 1, 1, 3, 0, 1, 2, 0, 1, 3, 2, 0]\n",
            "### path before: [3, 2, 1, 2, 2, 1, 3, 1, 0, 3, 2, 3, 3, 0, 0, 3, 3, 1, 2, 1, 2, 0, 2, 3, 3, 1, 2, 0, 0, 1, 3, 0, 3, 3, 1, 1, 2, 0, 0, 3, 3, 2, 1, 3, 1, 3, 1, 3, 1, 3, 2, 3, 1, 0, 2, 2, 1, 3, 2, 3, 3, 1, 3, 1, 3, 1, 3, 1, 0, 0, 3, 0, 3, 0, 2, 1, 2, 1, 3, 0, 2, 0, 1, 2, 3, 0, 3, 0, 1, 3, 2, 0, 1, 2, 1, 2, 2, 0, 2, 0, 0, 3, 2, 0, 1, 2, 0, 3, 3, 0, 0, 2, 1, 3, 1, 2, 3, 0, 0, 1, 3, 2, 3, 1, 3, 3, 1, 0, 3, 1, 2, 0, 1, 3, 1, 2, 1, 2, 3, 3, 3, 1, 2, 0, 1, 3, 2, 2, 2, 0, 2, 0, 1, 2, 1, 3, 2, 1, 3, 2, 0, 0, 2, 2, 0, 2, 0, 1, 2, 3, 0, 2, 0, 0, 1, 1, 3, 3, 0, 3, 1, 3, 0, 0, 3, 0, 1, 3, 1, 2, 1, 0, 2, 0, 3, 2, 0, 3, 2, 3, 3, 2, 3, 0, 1, 1, 3, 1, 2, 1, 2, 0, 0, 1, 0, 1, 2, 3, 1, 1, 0, 3, 1, 1, 2, 2, 3, 1, 3, 0, 1, 3, 1, 2, 2, 0, 3, 0, 0, 2, 2, 0, 1, 3, 3, 1, 2, 0, 1, 3, 3, 1, 2, 0, 1, 2, 0, 1, 3, 0, 0, 3, 1, 1, 2, 0, 2, 3, 3, 2, 2, 0, 3, 1, 1, 0, 3, 0, 0, 3, 2, 3, 2, 1, 1, 3, 3, 1, 2, 3, 2, 2, 3, 1, 2, 2, 1, 1, 2, 2, 2, 3, 3, 1, 1, 1, 3, 3, 3, 1, 1, 0, 0, 0, 1, 2, 3, 2, 0, 2, 0, 2, 0, 1, 0, 3, 2, 3, 0, 2, 0, 3, 1, 2, 0, 2, 0, 1, 1, 2, 0, 0, 2, 0, 0, 2, 1, 0, 3, 0, 2, 2, 2, 0, 2, 2, 0, 2, 3, 0, 2, 3, 1, 2, 0, 1, 0, 3, 1, 2, 1, 2, 2, 3, 2, 3, 1, 3, 2, 1, 3, 2, 0, 2, 2, 2, 3, 2, 2, 0, 3, 2, 0, 1, 0, 0, 3, 3, 3, 1, 1, 0, 3, 2, 3, 0, 2, 1, 3, 2, 2, 0, 1, 0, 3, 3, 3, 0, 0, 0, 1, 2, 0, 1, 2, 2, 0, 2, 3, 0, 3, 1, 1, 2, 1, 3, 1, 1, 3, 1, 1, 3, 0, 2, 3, 2, 0, 3, 2, 3, 0, 3, 2, 0, 1, 3, 1, 0, 1, 0, 3, 0, 1, 1, 3, 0, 0, 3, 1, 0, 2, 0, 2, 3, 0, 2, 0, 1, 1, 1, 0, 0, 0, 3, 2, 1, 3, 0, 2, 3, 1, 1, 3, 0, 2, 0, 2, 1, 0, 0, 2, 3, 1, 0, 3, 0, 3, 1, 3, 0, 1, 3, 1, 3, 1, 2, 0, 2, 2, 0, 1, 1, 3, 2, 0, 3, 3, 3, 0, 2, 0, 1, 2, 0, 0, 2, 0, 0, 1, 1, 3, 1, 1, 2, 1, 0, 2, 0, 3, 3, 3, 1, 3, 1, 1, 3, 2, 1, 2, 2, 2, 3, 2, 2, 3, 0, 3, 3, 2, 3, 0, 3, 3, 0, 2, 2, 1, 0, 1, 0, 3, 3, 0, 1, 2, 0, 1, 1, 3, 1, 1, 2, 0, 2, 2, 0, 0, 2, 0, 0, 2, 1, 2, 2, 2, 3, 3, 3, 3, 1, 3, 3, 0, 2, 1, 1, 2, 3, 2, 0, 2, 1, 1, 0, 3, 1, 2, 3, 1, 0, 2, 3, 0, 2, 0, 3, 2, 2, 0, 1, 1, 0, 3, 2, 0, 2, 0, 2, 0, 3, 2, 2, 0, 1, 1, 3, 1, 3, 3, 3, 1, 2, 0, 2, 2, 3, 2, 3, 2, 1, 3, 3, 1, 1, 1, 1, 0, 0, 2, 2, 1, 3, 1, 2, 3, 3, 1, 2, 0, 3, 0, 1, 2, 2, 0, 0, 3, 3, 3, 1, 3, 3, 2, 0, 3, 1, 2, 2, 2, 3, 2, 2, 1, 2, 1, 1, 2, 0, 2, 1, 2, 0, 3, 1, 3, 3, 0, 1, 2, 0, 3, 2, 1, 0, 3, 2, 0, 3, 2, 2, 0, 1, 1, 1, 3, 1, 3, 0, 0, 0, 1, 2, 0, 3, 3, 1, 1, 1, 2, 3, 1, 1, 2, 1, 3, 2, 0, 0, 3, 3, 0, 2, 1, 0, 2, 3, 1, 2, 1, 1, 2, 0, 3, 2, 1, 2, 3, 2, 0, 0, 0, 3, 0, 2, 0, 2, 0, 2, 0, 3, 3, 2, 2, 3, 1, 0, 0, 2, 2, 0, 2, 0, 3, 1, 2, 1, 2, 2, 0, 0, 3, 1, 2, 2, 3, 2, 1, 3, 1, 1, 1, 2, 3, 3, 3, 3, 3, 2, 3, 3, 1, 3, 1, 0, 2, 3, 2, 3, 1, 0, 1, 0, 2, 1, 0, 2, 1, 2, 1, 0, 3, 2, 1, 0, 2, 0, 1, 3, 2, 3, 1, 0, 3, 1, 0, 3, 2, 2, 0, 2, 0, 1, 1, 1, 3, 3, 2, 0, 2, 0, 2, 1, 3, 0, 2, 0, 3, 2, 0, 0, 2, 2, 2, 0, 0, 0, 2, 0, 3, 1, 1, 3, 2, 3, 1, 1, 2, 1, 3, 0, 3, 1, 0, 2, 2, 1, 0, 3, 1, 3, 2, 0, 1, 2, 2, 1, 3, 1, 2, 3, 3, 1, 3, 1, 1, 3, 3, 2, 0, 1, 1, 3, 0, 0, 3, 1, 0, 3, 3, 0, 1, 2, 0, 1, 3, 3, 1, 1, 1, 3, 1, 1, 2, 2, 2, 3, 3, 1, 3, 0, 0, 3, 0, 2, 2, 3, 2, 2, 3, 1, 2, 3, 0, 2, 0, 0, 2, 1, 0, 0, 0, 2, 1, 0, 3, 2, 2, 0, 1, 0, 2, 0, 2, 1, 3, 0, 2, 0, 2, 0, 2, 1, 1, 2, 1, 0, 2, 2, 0, 2, 2, 3, 2, 1, 3, 3, 1, 1, 3, 3, 3, 3, 3, 3, 1, 1, 0, 0, 0, 3, 1, 0, 0, 0, 0, 0, 1, 1, 3, 3, 1, 3, 1, 1, 0, 0, 2, 0, 1, 0, 2, 0, 1, 3, 0, 2, 0, 0, 3, 2, 3, 3, 3, 0, 2, 1, 1, 3, 3, 0, 3, 0, 1, 1, 1, 0, 0, 3, 0, 1, 2, 0, 1, 2, 3, 3, 3, 0, 0, 2, 0, 1, 2, 0, 2, 1, 0, 0, 1, 0, 2, 1, 3, 0, 0, 3, 1, 1, 3, 1, 0, 3, 2, 1, 0, 2, 1, 3, 0, 2, 0, 1, 1, 0, 0, 0, 3, 1, 0, 3, 2, 3, 0, 2, 2, 0, 1, 3, 3, 2, 3, 3, 2, 0, 1, 3, 0, 0, 3, 1, 0, 1, 2, 0, 2, 0, 3, 3, 1, 0, 2, 3, 0, 0, 3, 1, 2, 0, 1, 2, 2, 2, 0, 1, 3, 1, 0, 3, 2, 2, 2, 2, 1, 3, 2, 0, 3, 0, 3, 2, 0, 1, 2, 0, 2, 3, 1, 3, 3, 2, 0, 0, 0, 2, 2, 0, 1, 2, 0, 3, 2, 0, 2, 0, 0, 2, 2, 2, 0, 0, 2, 1, 0, 2, 0, 3, 0, 0, 0, 3, 0, 3, 3, 2, 2, 2, 0, 0, 2, 2, 1, 2, 0, 3, 0, 0, 1, 0, 1, 3, 2, 0, 3, 1, 3, 1, 3, 2, 2, 0, 2, 2, 1, 2, 0, 2, 0, 3, 0, 0, 1, 1, 0, 3, 3, 2, 1, 0, 3, 1, 2, 0, 3, 2, 1, 3, 0, 1, 2, 1, 0, 3, 3, 2, 1, 0, 3, 1, 2, 3, 2, 0, 1, 0, 2, 3, 1, 3, 0, 2, 2, 0, 2, 0, 2, 2, 1, 2, 0, 2, 0, 3, 1, 2, 2, 2, 3, 1, 3, 1, 3, 2, 2, 0, 1, 0, 3, 0]\n",
            "### path before: [3, 2, 1, 2, 2, 1, 3, 1, 0, 3, 2, 3, 3, 0, 0, 3, 3, 1, 2, 1, 2, 0, 2, 3, 3, 1, 2, 0, 0, 1, 3, 0, 3, 3, 1, 1, 2, 0, 0, 3, 3, 2, 1, 3, 1, 3, 1, 3, 1, 3, 2, 3, 1, 0, 2, 2, 1, 3, 2, 3, 3, 1, 3, 1, 3, 1, 3, 1, 0, 0, 3, 0, 3, 0, 2, 1, 2, 1, 3, 0, 2, 0, 1, 2, 3, 0, 3, 0, 1, 3, 2, 0, 1, 2, 1, 2, 2, 0, 2, 0, 0, 3, 2, 0, 1, 2, 0, 3, 3, 0, 0, 2, 1, 3, 1, 2, 3, 0, 0, 1, 3, 2, 3, 1, 3, 3, 1, 0, 3, 1, 2, 0, 1, 3, 1, 2, 1, 2, 3, 3, 3, 1, 2, 0, 1, 3, 2, 2, 2, 0, 2, 0, 1, 2, 1, 3, 2, 1, 3, 2, 0, 0, 2, 2, 0, 2, 0, 1, 2, 3, 0, 2, 0, 0, 1, 1, 3, 3, 0, 3, 1, 3, 0, 0, 3, 0, 1, 3, 1, 2, 1, 0, 2, 0, 3, 2, 0, 3, 2, 3, 3, 2, 3, 0, 1, 1, 3, 1, 2, 1, 2, 0, 0, 1, 0, 1, 2, 3, 1, 1, 0, 2, 3, 3, 2, 3, 3, 1, 3, 2, 2, 3, 0, 1, 1, 2, 0, 0, 0, 0, 1, 0, 2, 2, 0, 2, 3, 1, 2, 2, 2, 1, 1, 1, 1, 3, 0, 0, 1, 1, 3, 0, 1, 2, 0, 1, 3, 2, 0, 2, 2, 0, 3, 1, 1, 0, 3, 0, 0, 3, 2, 3, 2, 1, 1, 3, 3, 1, 2, 3, 2, 2, 3, 1, 2, 2, 1, 1, 2, 2, 2, 3, 3, 1, 1, 1, 3, 3, 3, 1, 1, 0, 0, 0, 1, 2, 3, 2, 0, 2, 0, 2, 0, 1, 0, 3, 2, 3, 0, 2, 0, 3, 1, 2, 0, 2, 0, 1, 1, 2, 0, 0, 2, 0, 0, 2, 1, 0, 3, 0, 2, 2, 2, 0, 2, 2, 0, 2, 3, 0, 2, 3, 1, 2, 0, 1, 0, 3, 1, 2, 1, 2, 2, 3, 2, 3, 1, 3, 2, 1, 3, 2, 0, 2, 2, 2, 3, 2, 2, 0, 3, 2, 0, 1, 0, 0, 3, 3, 3, 1, 1, 0, 3, 2, 3, 0, 2, 1, 3, 2, 2, 0, 1, 0, 3, 3, 3, 0, 0, 0, 1, 2, 0, 1, 2, 2, 0, 2, 3, 0, 3, 1, 1, 2, 1, 3, 1, 1, 3, 1, 1, 3, 0, 2, 3, 2, 0, 3, 2, 3, 0, 3, 2, 0, 1, 3, 1, 0, 1, 0, 3, 0, 1, 1, 3, 0, 0, 3, 1, 0, 2, 0, 2, 3, 0, 2, 0, 1, 1, 1, 0, 0, 0, 3, 2, 1, 3, 0, 2, 3, 1, 1, 3, 0, 2, 0, 2, 1, 0, 0, 2, 3, 1, 0, 3, 0, 3, 1, 3, 0, 1, 3, 1, 3, 1, 2, 0, 2, 2, 0, 1, 1, 3, 2, 0, 3, 3, 3, 0, 2, 0, 1, 2, 0, 0, 2, 0, 0, 1, 1, 3, 1, 1, 2, 1, 0, 2, 0, 3, 3, 3, 1, 3, 1, 1, 3, 2, 1, 2, 2, 2, 3, 2, 2, 3, 0, 3, 3, 2, 3, 0, 3, 3, 0, 2, 2, 1, 0, 1, 0, 3, 3, 0, 1, 2, 0, 1, 1, 3, 1, 1, 2, 0, 2, 2, 0, 0, 2, 0, 0, 2, 1, 2, 2, 2, 3, 3, 3, 3, 1, 3, 3, 0, 2, 1, 1, 2, 3, 2, 0, 2, 1, 1, 0, 3, 1, 2, 3, 1, 0, 2, 3, 0, 2, 0, 3, 2, 2, 0, 1, 1, 0, 3, 2, 0, 2, 0, 2, 0, 3, 2, 2, 0, 1, 1, 3, 1, 3, 3, 3, 1, 2, 0, 2, 2, 3, 2, 3, 2, 1, 3, 3, 1, 1, 1, 1, 0, 0, 2, 2, 1, 3, 1, 2, 3, 3, 1, 2, 0, 3, 0, 1, 2, 2, 0, 0, 3, 3, 3, 1, 3, 3, 2, 0, 3, 1, 2, 2, 2, 3, 2, 2, 1, 2, 1, 1, 2, 0, 2, 1, 2, 0, 3, 1, 3, 3, 0, 1, 2, 0, 3, 2, 1, 0, 3, 2, 0, 3, 2, 2, 0, 1, 1, 1, 3, 1, 3, 0, 0, 0, 1, 2, 0, 3, 3, 1, 1, 1, 2, 3, 1, 1, 2, 1, 3, 2, 0, 0, 3, 3, 0, 2, 1, 0, 2, 3, 1, 2, 1, 1, 2, 0, 3, 2, 1, 2, 3, 2, 0, 0, 0, 3, 0, 2, 0, 2, 0, 2, 0, 3, 3, 2, 2, 3, 1, 0, 0, 2, 2, 0, 2, 0, 3, 1, 2, 1, 2, 2, 0, 0, 3, 1, 2, 2, 3, 2, 1, 3, 1, 1, 1, 2, 3, 3, 3, 3, 3, 2, 3, 3, 1, 3, 1, 0, 2, 3, 2, 3, 1, 0, 1, 0, 2, 1, 0, 2, 1, 2, 1, 0, 3, 2, 1, 0, 2, 0, 1, 3, 2, 3, 1, 0, 3, 1, 0, 3, 2, 2, 0, 2, 0, 1, 1, 1, 3, 3, 2, 0, 2, 0, 2, 1, 3, 0, 2, 0, 3, 2, 0, 0, 2, 2, 2, 0, 0, 0, 2, 0, 3, 1, 1, 3, 2, 3, 1, 1, 2, 1, 3, 0, 3, 1, 0, 2, 2, 1, 0, 3, 1, 3, 2, 0, 1, 2, 2, 1, 3, 1, 2, 3, 3, 1, 3, 1, 1, 3, 3, 2, 0, 1, 1, 3, 0, 0, 3, 1, 0, 3, 3, 0, 1, 2, 0, 1, 3, 3, 1, 1, 1, 3, 1, 1, 2, 2, 2, 3, 3, 1, 3, 0, 0, 3, 0, 2, 2, 3, 2, 2, 3, 1, 2, 3, 0, 2, 0, 0, 2, 1, 0, 0, 0, 2, 1, 0, 3, 2, 2, 0, 1, 0, 2, 0, 2, 1, 3, 0, 2, 0, 2, 0, 2, 1, 1, 2, 1, 0, 2, 2, 0, 2, 2, 3, 2, 1, 3, 3, 1, 1, 3, 3, 3, 3, 3, 3, 1, 1, 0, 0, 0, 3, 1, 0, 0, 0, 0, 0, 1, 1, 3, 3, 1, 3, 1, 1, 0, 0, 2, 0, 1, 0, 2, 0, 1, 3, 0, 2, 0, 0, 3, 2, 3, 3, 3, 0, 2, 1, 1, 3, 3, 0, 3, 0, 1, 1, 1, 0, 0, 3, 0, 1, 2, 0, 1, 2, 3, 3, 3, 0, 0, 2, 0, 1, 2, 0, 2, 1, 0, 0, 1, 0, 2, 1, 3, 0, 0, 3, 1, 1, 3, 1, 0, 3, 2, 1, 0, 2, 1, 3, 0, 2, 0, 1, 1, 0, 0, 0, 3, 1, 0, 3, 2, 3, 0, 2, 2, 0, 1, 3, 3, 2, 3, 3, 2, 0, 1, 3, 0, 0, 3, 1, 0, 1, 2, 0, 2, 0, 3, 3, 1, 0, 2, 3, 0, 0, 3, 1, 2, 0, 1, 2, 2, 2, 0, 1, 3, 1, 0, 3, 2, 2, 2, 2, 1, 3, 2, 0, 3, 0, 3, 2, 0, 1, 2, 0, 2, 3, 1, 3, 3, 2, 0, 0, 0, 2, 2, 0, 1, 2, 0, 3, 2, 0, 2, 0, 0, 2, 2, 2, 0, 0, 2, 1, 0, 2, 0, 3, 0, 0, 0, 3, 0, 3, 3, 2, 2, 2, 0, 0, 2, 2, 1, 2, 0, 3, 0, 0, 1, 0, 1, 3, 2, 0, 3, 1, 3, 1, 3, 2, 2, 0, 2, 2, 1, 2, 0, 2, 0, 3, 0, 0, 1, 1, 0, 3, 3, 2, 1, 0, 3, 1, 2, 0, 3, 2, 1, 3, 0, 1, 2, 1, 0, 3, 3, 2, 1, 0, 3, 1, 2, 3, 2, 0, 1, 0, 2, 3, 1, 3, 0, 2, 2, 0, 2, 0, 2, 2, 1, 2, 0, 2, 0, 3, 1, 2, 2, 2, 3, 1, 3, 1, 3, 2, 2, 0, 1, 0, 3, 0]\n",
            "### cp_index: 8\n",
            "### Path between 7 e 8: [1, 3, 3, 3, 3, 1, 0, 0, 1, 0, 0, 1, 0, 2, 3, 1, 0, 0, 2, 3, 0, 2, 1, 3, 2, 0, 1, 0, 0, 0, 1, 2, 3, 2, 3, 0, 3, 3, 1, 1, 3, 1, 2, 2, 1, 3, 3, 1, 3, 0, 0, 3, 0, 0, 1, 3, 0, 0, 2, 1, 0, 1, 1, 0, 1, 0, 3, 3, 0, 0, 3, 1, 2, 3, 0, 2, 1, 0, 2, 0, 1, 2, 0, 3, 3, 0, 0, 3, 3, 1, 0, 2, 1, 0, 0, 0, 0, 2, 0, 0, 3, 1, 3, 1, 0, 1, 2, 0, 3, 0, 1, 2, 0, 0, 1, 0, 0, 0, 2, 3, 0, 2, 0, 3, 0, 1]\n",
            "### start_index: 64\n",
            "### end_index: 119\n",
            "[22, 30]\n",
            "[22, 30]\n",
            "[21, 29]\n",
            "[20, 29]\n",
            "[19, 29]\n",
            "[18, 29]\n",
            "[17, 29]\n",
            "[17, 28]\n",
            "[17, 27]\n",
            "[17, 28]\n",
            "[18, 28]\n",
            "[18, 27]\n",
            "[18, 26]\n",
            "[18, 27]\n",
            "[18, 26]\n",
            "[18, 25]\n",
            "[18, 24]\n",
            "[17, 24]\n",
            "[18, 24]\n",
            "[19, 24]\n",
            "[19, 23]\n",
            "[20, 23]\n",
            "[20, 22]\n",
            "[21, 22]\n",
            "[21, 21]\n",
            "[22, 21]\n",
            "[21, 21]\n",
            "[21, 20]\n",
            "[21, 19]\n",
            "[21, 18]\n",
            "[20, 18]\n",
            "[20, 17]\n",
            "[20, 16]\n",
            "[21, 16]\n",
            "[20, 16]\n",
            "[20, 15]\n",
            "[20, 14]\n",
            "[20, 13]\n",
            "[19, 13]\n",
            "[18, 13]\n",
            "[19, 13]\n",
            "[19, 14]\n",
            "[18, 14]\n",
            "[18, 13]\n",
            "[18, 12]\n",
            "[18, 13]\n",
            "[19, 13]\n",
            "[19, 14]\n",
            "[19, 15]\n",
            "[19, 14]\n",
            "[19, 13]\n",
            "[20, 13]\n",
            "[20, 14]\n",
            "[21, 14]\n",
            "[20, 12]\n",
            "### start_index --> 64, end_index --> 119, shuffled_path --> [2, 2, 1, 1, 1, 1, 1, 0, 0, 2, 3, 0, 0, 2, 0, 0, 0, 1, 3, 3, 0, 3, 0, 3, 0, 3, 1, 0, 0, 0, 0, 0, 0, 3, 1, 0, 0, 0, 1, 1, 3, 2, 1, 0, 0, 2, 3, 2, 2, 0, 0, 3, 2, 3, 0]\n",
            "### path before: [3, 3, 1, 2, 0, 2, 3, 3, 1, 2, 2, 2, 3, 2, 2, 0, 2, 1, 3, 2, 1, 3, 3, 1, 3, 1, 2, 0, 1, 1, 3, 0, 3, 0, 0, 0, 0, 1, 2, 3, 0, 1, 2, 2, 1, 3, 3, 2, 0, 0, 3, 1, 3, 1, 0, 0, 3, 3, 2, 2, 3, 2, 0, 0, 2, 0, 3, 1, 1, 3, 2, 2, 3, 1, 1, 2, 3, 3, 2, 2, 2, 2, 3, 2, 1, 0, 1, 2, 1, 3, 3, 3, 3, 2, 3, 3, 2, 1, 3, 1, 2, 0, 2, 0, 2, 0, 3, 2, 1, 0, 0, 2, 1, 1, 1, 2, 0, 3, 2, 0, 2, 2, 2, 3, 0, 1, 3, 1, 2, 0, 0, 1, 0, 1, 2, 3, 3, 0, 0, 1, 3, 0, 0, 0, 1, 2, 2, 0, 3, 3, 0, 3, 3, 1, 0, 0, 3, 2, 3, 0, 0, 0, 1, 0, 0, 1, 1, 0, 0, 3, 1, 0, 1, 1, 0, 3, 0, 2, 3, 0, 3, 2, 3, 0, 3, 1, 3, 1, 3, 1, 3, 1, 3, 1, 1, 2, 3, 0, 2, 1, 2, 2, 2, 2, 3, 3, 2, 0, 1, 3, 0, 0, 3, 1, 3, 2, 1, 2, 2, 2, 1, 0, 2, 3, 2, 3, 0, 2, 1, 2, 0, 3, 1, 1, 2, 1, 1, 3, 0, 2, 3, 2, 1, 3, 0, 1, 3, 2, 3, 2, 2, 0, 2, 0, 2, 0, 1, 3, 2, 2, 0, 3, 2, 3, 1, 3, 0, 1, 1, 1, 3, 3, 1, 3, 1, 0, 2, 2, 1, 0, 0, 2, 3, 3, 3, 1, 1, 1, 0, 0, 1, 3, 0, 3, 0, 0, 2, 2, 0, 2, 2, 0, 2, 3, 3, 3, 1, 1, 2, 2, 1, 3, 2, 2, 0, 3, 0, 1, 2, 0, 3, 2, 1, 2, 2, 2, 1, 3, 0, 3, 2, 0, 3, 1, 2, 1, 2, 3, 1, 3, 1, 0, 2, 0, 0, 2, 1, 0, 2, 0, 2, 3, 2, 0, 3, 2, 3, 1, 0, 2, 3, 1, 0, 2, 3, 0, 2, 1, 0, 2, 0, 2, 3, 1, 1, 3, 0, 3, 1, 3, 1, 3, 0, 1, 3, 3, 3, 2, 0, 3, 1, 1, 3, 1, 2, 3, 2, 0, 3, 1, 2, 1, 2, 0, 0, 1, 3, 2, 2, 2, 3, 1, 3, 3, 1, 2, 0, 1, 1, 0, 0, 1, 0, 2, 3, 0, 2, 3, 2, 1, 3, 1, 0, 0, 1, 2, 0, 3, 1, 2, 0, 3, 2, 0, 1, 3, 2, 1, 0, 1, 2, 1, 0, 3, 3, 2, 3, 3, 3, 1, 2, 0, 1, 3, 2, 2, 1, 0, 0, 2, 0, 2, 0, 1, 0, 0, 1, 3, 2, 3, 2, 2, 0, 2, 0, 1, 0, 1, 0, 3, 1, 2, 3, 1, 0, 3, 1, 1, 2, 2, 0, 2, 2, 1, 3, 0, 1, 2, 2, 3, 2, 2, 1, 2, 1, 2, 3, 0, 3, 3, 2, 0, 2, 1, 3, 3, 3, 2, 2, 0, 0, 1, 0, 2, 3, 2, 1, 3, 3, 1, 1, 0, 0, 2, 1, 0, 2, 1, 2, 2, 2, 0, 2, 0, 0, 3, 1, 3, 3, 1, 2, 2, 0, 1, 2, 0, 1, 3, 0, 0, 2, 2, 1, 2, 2, 1, 2, 2, 0, 3, 3, 1, 3, 3, 0, 2, 0, 0, 3, 0, 0, 2, 1, 0, 2, 1, 3, 2, 3, 0, 2, 0, 3, 1, 0, 3, 1, 1, 3, 3, 0, 2, 1, 3, 0, 2, 1, 3, 2, 0, 0, 2, 0, 1, 2, 0, 2, 2, 2, 0, 2, 0, 3, 1, 1, 0, 2, 0, 3, 2, 1, 2, 2, 0, 0, 2, 2, 1, 3, 1, 1, 3, 2, 3, 2, 0, 0, 2, 2, 1, 3, 1, 1, 3, 3, 0, 2, 3, 1, 3, 1, 1, 3, 3, 1, 3, 1, 0, 2, 0, 1, 3, 0, 2, 0, 3, 0, 2, 0, 2, 3, 3, 0, 0, 0, 0, 1, 0, 3, 1, 1, 0, 2, 3, 3, 1, 0, 2, 2, 1, 1, 3, 1, 0, 2, 3, 3, 2, 2, 0, 1, 1, 1, 2, 3, 1, 2, 0, 3, 3, 3, 1, 3, 3, 2, 0, 1, 0, 2, 1, 3, 1, 3, 0, 2, 0, 3, 2, 0, 0, 1, 3, 3, 2, 0, 2, 0, 0, 1, 1, 3, 0, 1, 1, 3, 1, 2, 2, 3, 0, 1, 3, 2, 0, 1, 1, 1, 3, 1, 0, 2, 2, 0, 2, 3, 0, 2, 0, 2, 2, 1, 0, 2, 2, 0, 3, 3, 1, 3, 0, 1, 2, 1, 0, 3, 2, 3, 3, 3, 2, 1, 0, 3, 1, 2, 1, 3, 0, 1, 2, 1, 1, 2, 1, 2, 3, 3, 1, 3, 0, 1, 2, 3, 1, 3, 3, 0, 0, 0, 3, 2, 3, 0, 1, 1, 3, 2, 1, 2, 2, 1, 0, 3, 0, 1, 2, 1, 1, 3, 2, 2, 3, 0, 3, 3, 1, 3, 1, 1, 1, 3, 0, 0, 3, 2, 1, 3, 0, 1, 3, 2, 2, 0, 1, 2, 3, 0, 0, 2, 1, 1, 3, 1, 2, 3, 0, 3, 0, 1, 3, 3, 3, 2, 2, 3, 0, 1, 0, 0, 1, 2, 1, 2, 0, 0, 3, 2, 0, 1, 2, 2, 0, 3, 0, 2, 0, 2, 0, 3, 2, 1, 3, 1, 1, 2, 2, 3, 3, 2, 2, 3, 1, 1, 1, 3, 3, 3, 3, 1, 0, 0, 1, 0, 0, 1, 0, 2, 3, 1, 0, 0, 2, 3, 0, 2, 1, 3, 2, 0, 1, 0, 0, 0, 1, 2, 3, 2, 3, 0, 3, 3, 1, 1, 3, 1, 2, 2, 1, 3, 3, 1, 3, 0, 0, 3, 0, 0, 1, 3, 0, 0, 2, 1, 0, 1, 1, 0, 1, 0, 3, 3, 0, 0, 3, 1, 2, 3, 0, 2, 1, 0, 2, 0, 1, 2, 0, 3, 3, 0, 0, 3, 3, 1, 0, 2, 1, 0, 0, 0, 0, 2, 0, 0, 3, 1, 3, 1, 0, 1, 2, 0, 3, 0, 1, 2, 0, 0, 1, 0, 0, 0, 2, 3, 0, 2, 0, 3, 0, 1, 2, 3, 2, 2, 0, 3, 1, 2, 3, 1, 3, 2, 3, 1, 3, 0, 0, 2, 0, 0, 3, 0, 3, 2, 0, 3, 2, 2, 2, 0, 0, 0, 1, 2, 0, 3, 2, 1, 3, 1, 0, 2, 3, 1, 3, 2, 0, 1, 0, 3, 1, 1, 3, 3, 2, 0, 1, 1, 2, 3, 3, 2, 0, 2, 0, 2, 0, 1, 3, 1, 0, 2, 0, 3, 1, 3, 1, 3, 2, 2, 0, 0, 2, 1, 0, 1, 3, 1, 1, 3, 1, 2, 2, 0, 0, 2, 2, 0, 2, 2, 0, 0, 0, 3, 3, 1, 2, 0, 2, 3, 3, 0, 1, 3, 2, 1, 3, 1, 3, 2, 0, 2, 0, 0, 2, 1, 1, 3, 0, 3, 1, 2, 3, 2, 2, 0, 0, 1, 3, 0, 1, 1, 3, 2, 1, 0, 2, 0, 3, 2, 3, 0, 2, 2, 0, 1, 3, 0, 2, 2, 0, 1, 1, 3, 3, 0, 2, 1, 3, 0, 1, 1, 1, 3, 2, 0, 3, 3, 1, 3, 1, 3, 2, 1, 1, 3, 3, 0, 2, 2, 0, 2, 0, 0, 1, 3, 2, 1, 0, 2, 3, 1, 0, 3, 1, 2, 3, 0, 1, 2, 3, 2, 0, 0, 2, 1, 0, 3, 2, 1, 3, 1, 1, 0, 2, 0, 2, 3, 0, 3, 2, 2, 0, 1, 0, 1, 3, 2, 1, 0, 2, 3, 0, 3, 1, 2, 0, 2, 3, 2, 0, 2, 2, 1, 2, 0, 2, 0, 2, 0, 3, 0, 0, 1, 1, 3, 0, 2, 3, 2, 0, 2, 2, 1, 2, 2, 0, 0, 3, 0, 0, 2, 0, 1, 3, 1, 3, 2, 0, 0, 2, 0, 2, 1, 0, 3, 1, 1, 3, 3, 1, 1, 2, 3, 1, 0, 3, 2, 3, 1, 3, 2, 0, 0, 1, 2, 0, 3, 1, 1, 2, 0, 3, 3, 1, 3, 1, 1, 3, 2, 0, 2, 3, 0, 2, 1, 1, 1, 3, 1, 2, 2, 2, 1, 2, 1, 2, 0, 3, 1, 2, 0, 0, 3, 2, 0, 3, 0, 0, 2, 1, 2, 2, 0, 2, 0, 1, 0, 2, 2, 0, 2, 0, 1, 2, 0, 0, 3, 1, 2, 3, 3, 1, 2, 3, 0, 3, 2, 1, 0, 2, 3, 2, 3, 1, 0, 2, 3, 3, 1, 1, 3, 3, 2, 0, 1, 1, 0, 2, 0, 0, 2, 2, 3, 3, 2, 3, 1, 3, 1, 2, 3, 0, 0, 1, 0, 0, 0, 2, 2, 3]\n",
            "### path before: [3, 3, 1, 2, 0, 2, 3, 3, 1, 2, 2, 2, 3, 2, 2, 0, 2, 1, 3, 2, 1, 3, 3, 1, 3, 1, 2, 0, 1, 1, 3, 0, 3, 0, 0, 0, 0, 1, 2, 3, 0, 1, 2, 2, 1, 3, 3, 2, 0, 0, 3, 1, 3, 1, 0, 0, 3, 3, 2, 2, 3, 2, 0, 0, 2, 2, 1, 1, 1, 1, 1, 0, 0, 2, 3, 0, 0, 2, 0, 0, 0, 1, 3, 3, 0, 3, 0, 3, 0, 3, 1, 0, 0, 0, 0, 0, 0, 3, 1, 0, 0, 0, 1, 1, 3, 2, 1, 0, 0, 2, 3, 2, 2, 0, 0, 3, 2, 3, 0, 0, 2, 2, 2, 3, 0, 1, 3, 1, 2, 0, 0, 1, 0, 1, 2, 3, 3, 0, 0, 1, 3, 0, 0, 0, 1, 2, 2, 0, 3, 3, 0, 3, 3, 1, 0, 0, 3, 2, 3, 0, 0, 0, 1, 0, 0, 1, 1, 0, 0, 3, 1, 0, 1, 1, 0, 3, 0, 2, 3, 0, 3, 2, 3, 0, 3, 1, 3, 1, 3, 1, 3, 1, 3, 1, 1, 2, 3, 0, 2, 1, 2, 2, 2, 2, 3, 3, 2, 0, 1, 3, 0, 0, 3, 1, 3, 2, 1, 2, 2, 2, 1, 0, 2, 3, 2, 3, 0, 2, 1, 2, 0, 3, 1, 1, 2, 1, 1, 3, 0, 2, 3, 2, 1, 3, 0, 1, 3, 2, 3, 2, 2, 0, 2, 0, 2, 0, 1, 3, 2, 2, 0, 3, 2, 3, 1, 3, 0, 1, 1, 1, 3, 3, 1, 3, 1, 0, 2, 2, 1, 0, 0, 2, 3, 3, 3, 1, 1, 1, 0, 0, 1, 3, 0, 3, 0, 0, 2, 2, 0, 2, 2, 0, 2, 3, 3, 3, 1, 1, 2, 2, 1, 3, 2, 2, 0, 3, 0, 1, 2, 0, 3, 2, 1, 2, 2, 2, 1, 3, 0, 3, 2, 0, 3, 1, 2, 1, 2, 3, 1, 3, 1, 0, 2, 0, 0, 2, 1, 0, 2, 0, 2, 3, 2, 0, 3, 2, 3, 1, 0, 2, 3, 1, 0, 2, 3, 0, 2, 1, 0, 2, 0, 2, 3, 1, 1, 3, 0, 3, 1, 3, 1, 3, 0, 1, 3, 3, 3, 2, 0, 3, 1, 1, 3, 1, 2, 3, 2, 0, 3, 1, 2, 1, 2, 0, 0, 1, 3, 2, 2, 2, 3, 1, 3, 3, 1, 2, 0, 1, 1, 0, 0, 1, 0, 2, 3, 0, 2, 3, 2, 1, 3, 1, 0, 0, 1, 2, 0, 3, 1, 2, 0, 3, 2, 0, 1, 3, 2, 1, 0, 1, 2, 1, 0, 3, 3, 2, 3, 3, 3, 1, 2, 0, 1, 3, 2, 2, 1, 0, 0, 2, 0, 2, 0, 1, 0, 0, 1, 3, 2, 3, 2, 2, 0, 2, 0, 1, 0, 1, 0, 3, 1, 2, 3, 1, 0, 3, 1, 1, 2, 2, 0, 2, 2, 1, 3, 0, 1, 2, 2, 3, 2, 2, 1, 2, 1, 2, 3, 0, 3, 3, 2, 0, 2, 1, 3, 3, 3, 2, 2, 0, 0, 1, 0, 2, 3, 2, 1, 3, 3, 1, 1, 0, 0, 2, 1, 0, 2, 1, 2, 2, 2, 0, 2, 0, 0, 3, 1, 3, 3, 1, 2, 2, 0, 1, 2, 0, 1, 3, 0, 0, 2, 2, 1, 2, 2, 1, 2, 2, 0, 3, 3, 1, 3, 3, 0, 2, 0, 0, 3, 0, 0, 2, 1, 0, 2, 1, 3, 2, 3, 0, 2, 0, 3, 1, 0, 3, 1, 1, 3, 3, 0, 2, 1, 3, 0, 2, 1, 3, 2, 0, 0, 2, 0, 1, 2, 0, 2, 2, 2, 0, 2, 0, 3, 1, 1, 0, 2, 0, 3, 2, 1, 2, 2, 0, 0, 2, 2, 1, 3, 1, 1, 3, 2, 3, 2, 0, 0, 2, 2, 1, 3, 1, 1, 3, 3, 0, 2, 3, 1, 3, 1, 1, 3, 3, 1, 3, 1, 0, 2, 0, 1, 3, 0, 2, 0, 3, 0, 2, 0, 2, 3, 3, 0, 0, 0, 0, 1, 0, 3, 1, 1, 0, 2, 3, 3, 1, 0, 2, 2, 1, 1, 3, 1, 0, 2, 3, 3, 2, 2, 0, 1, 1, 1, 2, 3, 1, 2, 0, 3, 3, 3, 1, 3, 3, 2, 0, 1, 0, 2, 1, 3, 1, 3, 0, 2, 0, 3, 2, 0, 0, 1, 3, 3, 2, 0, 2, 0, 0, 1, 1, 3, 0, 1, 1, 3, 1, 2, 2, 3, 0, 1, 3, 2, 0, 1, 1, 1, 3, 1, 0, 2, 2, 0, 2, 3, 0, 2, 0, 2, 2, 1, 0, 2, 2, 0, 3, 3, 1, 3, 0, 1, 2, 1, 0, 3, 2, 3, 3, 3, 2, 1, 0, 3, 1, 2, 1, 3, 0, 1, 2, 1, 1, 2, 1, 2, 3, 3, 1, 3, 0, 1, 2, 3, 1, 3, 3, 0, 0, 0, 3, 2, 3, 0, 1, 1, 3, 2, 1, 2, 2, 1, 0, 3, 0, 1, 2, 1, 1, 3, 2, 2, 3, 0, 3, 3, 1, 3, 1, 1, 1, 3, 0, 0, 3, 2, 1, 3, 0, 1, 3, 2, 2, 0, 1, 2, 3, 0, 0, 2, 1, 1, 3, 1, 2, 3, 0, 3, 0, 1, 3, 3, 3, 2, 2, 3, 0, 1, 0, 0, 1, 2, 1, 2, 0, 0, 3, 2, 0, 1, 2, 2, 0, 3, 0, 2, 0, 2, 0, 3, 2, 1, 3, 1, 1, 2, 2, 3, 3, 2, 2, 3, 1, 1, 1, 3, 3, 3, 3, 1, 0, 0, 1, 0, 0, 1, 0, 2, 3, 1, 0, 0, 2, 3, 0, 2, 1, 3, 2, 0, 1, 0, 0, 0, 1, 2, 3, 2, 3, 0, 3, 3, 1, 1, 3, 1, 2, 2, 1, 3, 3, 1, 3, 0, 0, 3, 0, 0, 1, 3, 0, 0, 2, 1, 0, 1, 1, 0, 1, 0, 3, 3, 0, 0, 3, 1, 2, 3, 0, 2, 1, 0, 2, 0, 1, 2, 0, 3, 3, 0, 0, 3, 3, 1, 0, 2, 1, 0, 0, 0, 0, 2, 0, 0, 3, 1, 3, 1, 0, 1, 2, 0, 3, 0, 1, 2, 0, 0, 1, 0, 0, 0, 2, 3, 0, 2, 0, 3, 0, 1, 2, 3, 2, 2, 0, 3, 1, 2, 3, 1, 3, 2, 3, 1, 3, 0, 0, 2, 0, 0, 3, 0, 3, 2, 0, 3, 2, 2, 2, 0, 0, 0, 1, 2, 0, 3, 2, 1, 3, 1, 0, 2, 3, 1, 3, 2, 0, 1, 0, 3, 1, 1, 3, 3, 2, 0, 1, 1, 2, 3, 3, 2, 0, 2, 0, 2, 0, 1, 3, 1, 0, 2, 0, 3, 1, 3, 1, 3, 2, 2, 0, 0, 2, 1, 0, 1, 3, 1, 1, 3, 1, 2, 2, 0, 0, 2, 2, 0, 2, 2, 0, 0, 0, 3, 3, 1, 2, 0, 2, 3, 3, 0, 1, 3, 2, 1, 3, 1, 3, 2, 0, 2, 0, 0, 2, 1, 1, 3, 0, 3, 1, 2, 3, 2, 2, 0, 0, 1, 3, 0, 1, 1, 3, 2, 1, 0, 2, 0, 3, 2, 3, 0, 2, 2, 0, 1, 3, 0, 2, 2, 0, 1, 1, 3, 3, 0, 2, 1, 3, 0, 1, 1, 1, 3, 2, 0, 3, 3, 1, 3, 1, 3, 2, 1, 1, 3, 3, 0, 2, 2, 0, 2, 0, 0, 1, 3, 2, 1, 0, 2, 3, 1, 0, 3, 1, 2, 3, 0, 1, 2, 3, 2, 0, 0, 2, 1, 0, 3, 2, 1, 3, 1, 1, 0, 2, 0, 2, 3, 0, 3, 2, 2, 0, 1, 0, 1, 3, 2, 1, 0, 2, 3, 0, 3, 1, 2, 0, 2, 3, 2, 0, 2, 2, 1, 2, 0, 2, 0, 2, 0, 3, 0, 0, 1, 1, 3, 0, 2, 3, 2, 0, 2, 2, 1, 2, 2, 0, 0, 3, 0, 0, 2, 0, 1, 3, 1, 3, 2, 0, 0, 2, 0, 2, 1, 0, 3, 1, 1, 3, 3, 1, 1, 2, 3, 1, 0, 3, 2, 3, 1, 3, 2, 0, 0, 1, 2, 0, 3, 1, 1, 2, 0, 3, 3, 1, 3, 1, 1, 3, 2, 0, 2, 3, 0, 2, 1, 1, 1, 3, 1, 2, 2, 2, 1, 2, 1, 2, 0, 3, 1, 2, 0, 0, 3, 2, 0, 3, 0, 0, 2, 1, 2, 2, 0, 2, 0, 1, 0, 2, 2, 0, 2, 0, 1, 2, 0, 0, 3, 1, 2, 3, 3, 1, 2, 3, 0, 3, 2, 1, 0, 2, 3, 2, 3, 1, 0, 2, 3, 3, 1, 1, 3, 3, 2, 0, 1, 1, 0, 2, 0, 0, 2, 2, 3, 3, 2, 3, 1, 3, 1, 2, 3, 0, 0, 1, 0, 0, 0, 2, 2, 3]\n"
          ]
        }
      ]
    },
    {
      "cell_type": "code",
      "source": [
        "def nextPopulation(actualPopulation, mutation_rate):\n",
        "\n",
        "  ranked_pop = rankPopulation(actualPopulation)\n",
        "\n",
        "  for elements in ranked_pop:\n",
        "    print(elements.fitness)\n",
        "\n",
        "  mating_pool = matingPool(ranked_pop)\n",
        "  next_population = reproducePopulation(mating_pool)\n",
        "  mutatePopulation(next_population,mutation_rate)\n",
        "  findFitness(next_population)\n",
        "\n",
        "  return next_population"
      ],
      "metadata": {
        "id": "HhMEz4fxmMjU"
      },
      "execution_count": 170,
      "outputs": []
    },
    {
      "cell_type": "code",
      "source": [
        "pop = initPopulation(10)\n",
        "for i in range(1):\n",
        "\n",
        "  pop = nextPopulation(pop, 0.1)"
      ],
      "metadata": {
        "id": "RsaUpMFcnx1d",
        "colab": {
          "base_uri": "https://localhost:8080/"
        },
        "outputId": "004370fd-b1fb-479b-f098-1c2e925f084f"
      },
      "execution_count": 183,
      "outputs": [
        {
          "output_type": "stream",
          "name": "stdout",
          "text": [
            "8.76271186440678\n",
            "10.898305084745763\n",
            "12.389830508474576\n",
            "12.796610169491526\n",
            "13.864406779661017\n",
            "14.169491525423728\n",
            "14.338983050847459\n",
            "16.661016949152543\n",
            "17.64406779661017\n",
            "18.372881355932204\n",
            "(Path: [2, 3, 3, 3, 0, 2, 3, 0, 3, 2, 1, 1, 2, 0, 3, 0, 3, 1, 2, 0, 2, 3, 1, 0, 2, 0, 3, 2, 2, 0, 3, 0, 2, 2, 0, 0, 2, 0, 0, 2, 3, 0, 1, 3, 2, 1, 0, 1, 2, 3, 3, 2, 1, 3, 1, 3, 3, 1, 3, 1, 1, 0, 0, 3, 0, 1, 2, 1, 2, 3, 2, 3, 2, 0, 2, 0, 3, 1, 3, 0, 0, 2, 1, 0, 3, 3, 1, 2, 2, 3, 1, 0, 0, 2, 1, 1, 2, 3, 1, 2, 0, 3, 3, 3, 1, 0, 0, 2, 1, 2, 3, 0, 3, 3, 1, 3, 1, 2, 2, 2, 1, 2, 3, 2, 2, 0, 2, 1, 1, 2, 0, 0, 2, 3, 0, 1, 1, 1, 3, 3, 1, 3, 3, 2, 1, 0, 3, 2, 0, 2, 1, 3, 3, 2, 2, 2, 2, 0, 2, 1, 1, 1, 2, 0, 2, 2, 0, 2, 3, 3, 0, 1, 2, 1, 3, 1, 1, 3, 0, 0, 2, 3, 2, 2, 1, 0, 3, 2, 1, 3, 0, 0, 3, 1, 1, 2, 1, 3, 3, 0, 1, 2, 2, 0, 3, 0, 2, 3, 1, 0, 2, 0, 2, 2, 1, 0, 2, 2, 3, 2, 3, 1, 3, 2, 0, 0, 3, 1, 3, 1, 1, 0, 1, 0, 0, 0, 3, 3, 3, 0, 0, 1, 3, 3, 1, 1, 3, 3, 0, 3, 0, 0, 0, 3, 1, 0, 3, 1, 0, 0, 1, 3, 0, 3, 0, 1, 1, 0, 3, 0, 3, 1, 2, 2, 1, 3, 3, 1, 3, 2, 2, 1, 0, 3, 1, 3, 3, 1, 2, 0, 0, 1, 1, 0, 2, 1, 1, 3, 1, 2, 3, 1, 0, 2, 2, 0, 3, 0, 0, 3, 2, 0, 3, 2, 1, 2, 2, 3, 3, 1, 1, 2, 1, 0, 3, 1, 3, 3, 0, 3, 2, 0, 1, 2, 0, 1, 2, 1, 2, 3, 0, 2, 3, 3, 2, 3, 2, 2, 0, 2, 3, 1, 0, 2, 1, 3, 0, 2, 3, 3, 1, 1, 0, 1, 1, 2, 2, 1, 1, 3, 2, 1, 2, 3, 1, 3, 3, 0, 3, 1, 2, 3, 3, 0, 3, 0, 0, 3, 1, 3, 1, 1, 0, 3, 0, 0, 2, 2, 1, 2, 0, 1, 2, 3, 3, 3, 1, 2, 0, 1, 1, 2, 0, 0, 2, 3, 3, 2, 2, 3, 2, 0, 3, 1, 2, 0, 1, 0, 2, 0, 0, 1, 3, 0, 1, 3, 0, 0, 2, 1, 0, 3, 3, 3, 1, 3, 0, 1, 1, 1, 2, 1, 1, 3, 0, 3, 2, 3, 0, 2, 2, 1, 2, 3, 1, 2, 0, 3, 2, 1, 0, 2, 0, 0, 3, 0, 3, 1, 0, 1, 2, 2, 1, 3, 1, 0, 3, 1, 2, 3, 2, 3, 0, 0, 2, 2, 0, 3, 0, 0, 1, 2, 1, 0, 2, 3, 1, 3, 1, 0, 2, 3, 3, 1, 2, 0, 3, 3, 2, 2, 0, 3, 1, 0, 0, 2, 2, 1, 0, 3, 2, 1, 1, 1, 2, 1, 3, 3, 2, 2, 0, 0, 2, 3, 1, 3, 1, 2, 2, 3, 1, 0, 2, 0, 2, 3, 3, 2, 2, 1, 2, 1, 0, 1, 2, 2, 1, 3, 1, 3, 2, 1, 0, 2, 1, 1, 2, 2, 1, 3, 3, 1, 2, 3, 3, 2, 2, 0, 2, 1, 0, 3, 3, 1, 3, 3, 2, 0, 2, 0, 3, 0, 0, 2, 2, 0, 2, 0, 0, 2, 2, 1, 3, 1, 3, 0, 0, 2, 2, 3, 3, 2, 3, 0, 2, 2, 3, 2, 1, 2, 1, 0, 1, 2, 3, 2, 1, 3, 0, 1, 0, 1, 1, 2, 3, 2, 2, 0, 2, 1, 0, 2, 3, 3, 1, 0, 2, 1, 3, 0, 2, 1, 1, 3, 2, 0, 3, 3, 0, 1, 2, 0, 1, 3, 1, 3, 0, 2, 2, 0, 2, 0, 1, 2, 2, 0, 3, 0, 3, 2, 1, 0, 0, 1, 1, 0, 2, 0, 1, 3, 2, 2, 2, 2, 2, 3, 0, 0, 2, 1, 1, 2, 2, 0, 2, 2, 3, 3, 1, 3, 3, 1, 1, 3, 1, 3, 3, 0, 0, 1, 3, 1, 3, 3, 0, 0, 1, 3, 1, 0, 0, 3, 3, 1, 0, 0, 1, 3, 1, 1, 0, 2, 0, 0, 1, 0, 0, 1, 1, 3, 1, 2, 0, 0, 0, 0, 2, 1, 3, 2, 3, 3, 1, 3, 0, 2, 1, 0, 0, 2, 3, 2, 1, 0, 0, 1, 3, 2, 0, 3, 0, 2, 0, 3, 0, 3, 1, 1, 0, 1, 0, 0, 2, 0, 0, 2, 0, 0, 0, 1, 0, 0, 2, 3, 3, 2, 3, 2, 0, 0, 2, 3, 3, 1, 0, 3, 2, 3, 1, 2, 0, 0, 3, 3, 1, 2, 0, 0, 2, 0, 1, 1, 2, 0, 2, 2, 0, 2, 3, 0, 1, 0, 0, 1, 1, 1, 1, 3, 3, 1, 1, 0, 0, 1, 0, 3, 2, 0, 2, 1, 0, 3, 3, 1, 3, 1, 2, 0, 3, 1, 1, 3, 3, 1, 1, 3, 3, 1, 2, 2, 0, 0, 3, 1, 2, 0, 2, 0, 2, 0, 3, 1, 1, 3, 1, 1, 2, 3, 0, 2, 3, 2, 0, 1, 1, 0, 2, 2, 3, 2, 3, 0, 3, 1, 0, 2, 3, 1, 3, 1, 0, 2, 1, 3, 3, 1, 0, 0, 2, 0, 2, 0, 3, 1, 3, 1, 2, 2, 0, 0, 1, 3, 3, 1, 3, 1, 2, 0, 3, 1, 2, 1, 0, 2, 3, 1, 3, 0, 3, 1, 2, 1, 3, 0, 1, 2, 3, 1, 3, 0, 3, 1, 2, 0, 3, 1, 2, 0, 1, 3, 3, 1, 2, 0, 3, 1, 3, 1, 3, 1, 3, 1, 3, 1, 1, 2, 2, 1, 3, 1, 0, 0, 1, 3, 3, 1, 3, 2, 2, 3, 3, 1, 3, 1, 0, 1, 3, 0, 2, 0, 1, 3, 3, 1, 1, 3, 3, 1, 2, 2, 1, 0, 0, 2, 0, 3, 2, 0, 1, 3, 3, 1, 3, 1, 2, 0, 2, 0, 1, 3, 3, 1, 3, 1, 1, 3, 2, 0, 2, 1, 3, 0, 2, 0, 3, 1, 2, 0, 1, 3, 3, 1, 3, 1, 1, 1, 3, 1, 2, 3, 2, 1, 0, 2, 2, 0, 2, 2, 3, 3, 3, 0, 0, 1, 0, 1, 1, 0, 2, 3, 0, 2, 1, 3, 3, 1, 0, 2, 3, 0, 1, 1, 3, 2, 0, 2, 3, 2, 3, 2, 0, 1, 1, 1, 0, 3, 2, 0, 3, 0, 2, 0, 2, 0, 2, 0, 3, 1, 1, 2, 1, 3, 0, 2, 3, 0, 1, 1, 2, 3, 2, 0, 2, 1, 0, 0, 3, 3, 3, 1, 2, 2, 1, 0, 0, 2, 3, 1, 0, 3, 3, 1, 2, 0, 1, 3, 1, 2, 3, 0, 2, 0, 2, 1, 3, 0, 3, 1, 1, 1, 2, 3, 2, 0, 2, 3, 3, 1, 0, 0, 3, 1, 3, 1, 3, 1, 1, 2, 0, 2, 1, 3, 0, 1, 2, 0, 1, 3, 3, 3, 3, 1, 3, 1, 3, 1, 3, 1, 3, 1, 3, 1, 2, 0, 2, 0, 1, 2, 0, 1, 3, 2, 3, 1, 0, 1, 2, 3, 1, 3, 3, 0, 2, 0, 1, 1, 2, 0, 3, 2, 1, 0, 3, 3, 1, 2, 0, 2, 3, 0, 1, 3, 3, 1, 2, 0, 2, 0, 3, 1, 3, 1, 2, 0, 1, 1, 3, 1, 2, 3, 1, 2, 0, 3, 2, 0, 2, 0, 3, 0, 3, 1, 1, 1, 3, 3, 3, 1, 2, 1, 3, 1, 3, 0, 1, 3, 2, 2, 2, 3, 1, 2, 3, 1, 2, 0, 0, 1, 3, 2, 3, 3, 3, 1, 0, 2, 2, 0, 3, 1, 0, 2, 2, 0, 3, 3, 0, 1, 3, 0, 2, 3, 1, 2, 1, 0, 3, 2, 0, 1, 3, 3, 0, 3, 1, 2, 0, 0, 0, 2, 2, 0, 3, 0, 3, 1, 2, 2, 3, 2, 1, 0, 2, 3, 1, 3, 2, 0, 2, 0, 2, 2, 0, 0, 3, 1, 1, 2, 0, 1, 2, 3, 3, 2, 0, 0, 2, 0, 1, 2, 2, 3, 3, 1, 3, 0, 1, 1, 2, 0, 2, 3, 3, 0, 2, 1, 1, 3, 1, 3, 3, 2, 0, 2, 0, 2, 3, 1, 0, 2, 3, 1, 3, 1, 3, 1, 0, 1, 3, 1, 1, 3, 1, 2, 0, 0, 2, 2, 0, 2, 0, 1, 2, 3, 2, 0, 0, 2, 0, 3, 1, 2, 0, 3, 0, 2, 1, 1, 2, 3, 0, 2, 0, 1, 3, 0, 2, 2, 1, 3, 0, 1, 2, 0, 0, 2, 3, 3, 1, 3, 1, 1, 2, 1, 3, 0, 3, 0, 3, 2, 0, 3, 0, 2, 2, 1, 0, 3, 1, 1, 3, 3, 1, 2, 1, 1, 3, 1, 2, 3, 1, 0, 2, 0, 3, 2, 0, 0, 2, 1, 1, 2, 3, 0, 2, 1, 0, 3, 2, 1, 3, 2, 0, 3, 0, 1, 2, 0, 3, 3, 3, 0, 0, 0, 1, 3, 1, 2, 3, 0, 0, 3, 1, 0, 3, 2, 1, 2, 0, 2, 0, 3, 0, 2, 0, 2, 3, 3, 1, 0, 1, 2, 0, 1, 3, 3, 2, 1, 0, 2, 3, 0, 3, 1, 3, 2, 2, 0, 0, 1, 2, 3, 2, 2, 1, 3, 1, 2, 0, 2, 0, 2, 2, 2, 3, 0], fitness: 13.864406779661017, number_of_cp_reached: 9) (Path: [3, 2, 2, 3, 1, 3, 3, 1, 1, 3, 2, 3, 0, 0, 1, 3, 0, 2, 2, 0, 1, 3, 0, 1, 2, 2, 3, 2, 2, 0, 0, 0, 2, 2, 0, 2, 0, 0, 1, 2, 0, 2, 3, 1, 1, 3, 3, 0, 2, 2, 0, 2, 0, 2, 0, 1, 0, 2, 1, 0, 3, 3, 2, 0, 3, 0, 3, 3, 2, 2, 2, 0, 1, 0, 2, 3, 0, 1, 2, 3, 3, 0, 0, 2, 2, 0, 3, 0, 1, 0, 2, 2, 0, 3, 0, 0, 1, 2, 0, 2, 0, 0, 3, 3, 3, 1, 1, 3, 2, 1, 1, 2, 2, 0, 3, 2, 3, 2, 2, 3, 1, 3, 2, 0, 2, 0, 1, 2, 2, 1, 1, 1, 3, 1, 0, 2, 2, 0, 3, 3, 2, 1, 3, 2, 0, 0, 0, 2, 3, 1, 1, 1, 1, 2, 3, 2, 0, 1, 2, 3, 0, 0, 3, 2, 1, 2, 0, 3, 3, 2, 3, 1, 1, 3, 1, 2, 2, 3, 1, 3, 2, 1, 2, 2, 2, 2, 2, 2, 1, 2, 0, 3, 2, 2, 3, 1, 3, 2, 1, 0, 3, 0, 0, 1, 0, 2, 0, 3, 1, 2, 3, 1, 2, 0, 0, 0, 3, 0, 3, 0, 0, 0, 3, 0, 0, 3, 0, 0, 1, 2, 0, 1, 3, 1, 0, 0, 1, 2, 0, 2, 0, 2, 2, 3, 2, 2, 3, 1, 0, 3, 3, 0, 1, 1, 3, 3, 1, 2, 0, 3, 1, 1, 1, 1, 3, 1, 1, 3, 1, 0, 3, 1, 2, 3, 3, 3, 3, 2, 3, 0, 3, 0, 0, 0, 2, 1, 2, 0, 1, 0, 2, 3, 2, 3, 1, 2, 2, 0, 3, 1, 0, 2, 0, 0, 1, 3, 1, 1, 2, 0, 3, 0, 3, 1, 1, 0, 3, 0, 0, 3, 1, 3, 2, 3, 1, 2, 3, 0, 1, 0, 1, 0, 0, 2, 1, 0, 3, 1, 2, 0, 2, 1, 0, 1, 1, 2, 2, 1, 3, 3, 2, 0, 2, 2, 0, 3, 1, 0, 3, 3, 0, 3, 2, 3, 1, 0, 3, 0, 2, 0, 2, 1, 2, 0, 0, 3, 1, 1, 3, 3, 3, 1, 2, 1, 2, 0, 2, 2, 2, 0, 2, 1, 0, 3, 3, 2, 0, 2, 3, 0, 1, 3, 3, 1, 1, 3, 0, 1, 3, 1, 2, 3, 2, 1, 3, 0, 2, 2, 0, 0, 2, 0, 0, 1, 3, 1, 2, 2, 3, 3, 1, 1, 2, 1, 1, 3, 0, 3, 3, 1, 3, 2, 1, 2, 3, 1, 3, 3, 2, 3, 2, 3, 1, 1, 1, 2, 2, 2, 1, 3, 1, 3, 2, 3, 2, 0, 1, 3, 1, 2, 0, 3, 3, 2, 1, 2, 2, 1, 1, 1, 3, 0, 3, 3, 0, 3, 1, 2, 0, 1, 2, 3, 1, 3, 0, 1, 2, 3, 1, 2, 2, 0, 2, 1, 3, 0, 3, 1, 3, 1, 0, 1, 3, 3, 1, 3, 0, 1, 0, 0, 3, 0, 2, 0, 1, 3, 1, 3, 3, 0, 0, 2, 0, 3, 1, 1, 3, 2, 0, 3, 1, 2, 0, 2, 0, 2, 0, 1, 3, 2, 0, 0, 0, 0, 2, 2, 1, 2, 0, 1, 0, 3, 0, 1, 2, 1, 0, 3, 2, 0, 2, 0, 0, 3, 2, 0, 2, 1, 1, 2, 1, 3, 2, 3, 1, 3, 3, 1, 2, 1, 1, 2, 0, 3, 3, 2, 0, 3, 3, 3, 1, 0, 1, 3, 1, 0, 3, 0, 1, 2, 2, 0, 2, 2, 3, 2, 0, 1, 0, 0, 3, 3, 3, 0, 1, 2, 0, 2, 0, 0, 1, 1, 2, 2, 2, 2, 3, 1, 0, 2, 1, 2, 0, 2, 1, 3, 1, 0, 2, 1, 1, 3, 1, 0, 2, 3, 1, 2, 0, 0, 3, 3, 0, 2, 2, 1, 2, 0, 1, 2, 0, 1, 3, 2, 3, 3, 2, 1, 2, 1, 2, 0, 1, 3, 3, 1, 0, 3, 0, 2, 2, 0, 0, 3, 1, 2, 3, 0, 2, 2, 3, 2, 2, 1, 3, 2, 0, 1, 2, 2, 0, 3, 2, 2, 2, 0, 2, 3, 2, 1, 2, 1, 3, 2, 0, 1, 2, 0, 2, 2, 3, 3, 3, 3, 1, 3, 2, 1, 2, 2, 1, 2, 1, 0, 3, 0, 3, 2, 1, 3, 2, 0, 2, 2, 0, 0, 3, 0, 2, 1, 0, 0, 3, 2, 1, 2, 1, 1, 3, 2, 3, 2, 1, 3, 3, 1, 0, 2, 3, 1, 3, 3, 3, 1, 0, 0, 2, 0, 0, 1, 1, 0, 2, 0, 2, 2, 2, 0, 2, 0, 0, 2, 1, 0, 2, 0, 2, 3, 2, 0, 3, 0, 1, 2, 2, 2, 0, 0, 3, 0, 3, 2, 1, 0, 1, 3, 2, 0, 2, 0, 3, 2, 0, 3, 1, 0, 0, 1, 3, 1, 2, 0, 1, 3, 3, 1, 2, 2, 3, 1, 0, 1, 3, 2, 0, 1, 1, 1, 2, 3, 1, 2, 3, 1, 2, 3, 3, 2, 0, 1, 3, 0, 0, 2, 0, 2, 3, 3, 0, 2, 0, 3, 0, 3, 1, 1, 2, 0, 1, 3, 2, 2, 0, 0, 2, 3, 0, 2, 0, 2, 0, 2, 0, 1, 0, 1, 1, 2, 2, 3, 2, 1, 3, 0, 1, 2, 0, 3, 1, 2, 1, 2, 2, 2, 2, 0, 0, 3, 1, 1, 2, 1, 3, 3, 0, 3, 0, 2, 0, 0, 1, 0, 3, 3, 1, 3, 1, 0, 3, 1, 2, 3, 2, 0, 1, 1, 1, 3, 2, 1, 3, 3, 1, 2, 3, 0, 2, 2, 1, 2, 0, 0, 3, 1, 0, 3, 2, 0, 3, 0, 3, 2, 0, 0, 1, 0, 0, 1, 3, 3, 1, 3, 2, 1, 2, 3, 2, 3, 0, 2, 3, 3, 1, 3, 0, 2, 0, 0, 2, 0, 1, 2, 3, 0, 2, 0, 0, 1, 2, 1, 2, 0, 1, 1, 1, 1, 3, 0, 0, 0, 1, 3, 2, 2, 0, 2, 0, 0, 2, 0, 1, 3, 2, 0, 3, 0, 2, 0, 0, 1, 3, 1, 0, 2, 3, 1, 3, 0, 2, 2, 0, 1, 0, 3, 1, 3, 1, 0, 3, 3, 3, 1, 2, 0, 2, 1, 2, 1, 3, 3, 2, 3, 3, 2, 1, 0, 2, 0, 2, 2, 3, 3, 2, 1, 0, 1, 0, 2, 0, 1, 0, 2, 0, 0, 2, 1, 3, 1, 0, 3, 1, 2, 0, 1, 0, 0, 3, 0, 0, 2, 0, 0, 1, 3, 2, 1, 0, 1, 3, 1, 1, 2, 2, 0, 2, 1, 0, 3, 2, 0, 3, 3, 3, 2, 2, 0, 2, 3, 2, 1, 0, 3, 2, 1, 0, 2, 1, 2, 3, 3, 3, 1, 2, 1, 2, 3, 3, 2, 0, 0, 2, 2, 0, 1, 3, 3, 2, 3, 1, 2, 2, 3, 2, 0, 1, 2, 2, 0, 1, 3, 1, 2, 3, 1, 0, 1, 3, 2, 0, 3, 2, 1, 3, 1, 0, 2, 1, 2, 2, 0, 2, 0, 1, 1, 0, 3, 0, 2, 2, 0, 1, 2, 1, 3, 2, 2, 1, 3, 1, 3, 3, 2, 0, 1, 0, 2, 3, 3, 1, 1, 0, 1, 2, 1, 3, 2, 0, 3, 0, 1, 1, 2, 3, 3, 3, 3, 2, 2, 1, 1, 1, 3, 1, 3, 3, 0, 0, 2, 0, 3, 3, 0, 1, 0, 1, 0, 0, 1, 0, 2, 3, 3, 0, 2, 1, 0, 2, 0, 2, 1, 3, 0, 1, 0, 0, 0, 1, 0, 1, 3, 0, 2, 0, 3, 1, 0, 3, 3, 3, 2, 3, 0, 0, 0, 0, 3, 2, 1, 3, 3, 0, 2, 0, 1, 2, 2, 1, 1, 2, 1, 0, 3, 1, 0, 2, 3, 3, 3, 0, 3, 0, 0, 0, 0, 0, 2, 1, 1, 1, 3, 1, 2, 2, 1, 0, 3, 1, 3, 3, 0, 2, 3, 0, 1, 2, 1, 3, 2, 0, 2, 0, 0, 0, 3, 1, 1, 3, 1, 2, 2, 0, 0, 2, 0, 3, 2, 0, 2, 2, 0, 3, 3, 0, 2, 1, 0, 1, 2, 1, 2, 0, 0, 2, 0, 2, 3, 3, 1, 3, 1, 0, 3, 1, 1, 3, 1, 2, 1, 1, 0, 0, 2, 0, 2, 0, 0, 1, 0, 0, 0, 3, 3, 1, 3, 3, 1, 0, 3, 0, 0, 1, 2, 0, 1, 3, 1, 3, 3, 0, 3, 3, 1, 2, 0, 3, 3, 2, 0, 3, 1, 1, 1, 1, 3, 2, 0, 2, 2, 1, 3, 3, 2, 1, 2, 3, 2, 3, 2, 0, 0, 0, 0, 2, 1, 2, 2, 3, 0, 2, 0, 0, 2, 2, 1, 0, 0, 3, 2, 2, 1, 3, 2, 3, 3, 2, 2, 0, 0, 1, 1, 3, 1, 3, 1, 0, 0, 1, 2, 0, 1, 1, 3, 0, 2, 3, 1, 0, 2, 0, 1, 3, 3, 2, 3, 2, 0, 0, 2, 2, 2, 0, 0, 2, 0, 0, 2, 1, 3, 0, 1, 0, 2, 2, 2, 0, 2, 1, 3, 0, 1, 3, 0, 0, 2, 2, 1, 3, 2, 1, 2, 2, 2, 3, 1, 0, 0, 0, 2, 0, 2, 0, 2, 0, 3, 0, 2, 0, 3, 1, 3, 2, 1, 0, 2, 0, 2, 3, 2, 0, 2, 0, 1, 0, 0, 2, 2, 3, 1, 3, 0, 0, 2, 1, 3, 2, 2, 0, 2, 0, 2, 0, 0, 0, 0, 1, 1, 2, 0, 1, 2, 2, 0, 3, 0, 0, 0, 1, 3, 2, 0, 2, 2, 1, 0, 3, 2, 3, 3, 2, 1, 3, 0, 1, 3, 1, 1, 2, 1, 2, 2, 2, 1, 0, 1, 3, 3, 3, 2, 0, 1, 3, 2, 1, 0, 2, 3, 2, 3, 1, 1, 0, 3, 0, 2, 0, 2, 0, 3, 1, 2, 1, 1, 3, 2, 3, 0, 1, 1, 0, 2, 0, 2, 0, 1, 2, 1, 0, 3, 1, 0, 2, 1, 1, 2, 3, 3, 0, 0, 1, 2, 0, 0, 2, 3, 3, 2, 3, 3, 2, 2, 0, 3, 2, 3, 1, 2, 0, 3, 2, 2, 0, 0, 2, 3, 2, 2, 3, 3, 0, 3, 1, 0, 0, 2, 0, 0, 3, 2, 1, 0, 1, 1, 3, 1, 0, 0, 0, 2, 2, 2, 0, 2, 0, 2, 0, 0, 2, 2, 0, 0, 0, 0, 2, 2, 0, 2, 0, 1, 3, 0, 2, 2, 0, 0, 0, 2, 2, 0, 0, 3, 0, 1, 1, 3, 2, 2, 2, 2, 2, 2, 0, 2, 3, 1, 0, 2, 0, 0, 0, 1, 2, 2, 1, 1, 2, 3, 0, 2, 2, 1, 0, 1, 3, 3, 1, 1, 3, 0, 2, 0, 0, 1, 3, 3, 1, 3, 2, 0, 2, 0, 3, 3, 0, 0, 0, 0, 3, 2, 0, 3, 2, 0, 2, 0, 2, 0, 2, 1, 3, 0, 1, 3, 3, 1, 3, 2, 1, 0, 2, 3, 0, 2, 2, 0, 2, 0, 1, 3, 2, 0, 2, 2, 0, 0, 1, 3, 2, 2, 0, 2, 0, 0, 1, 0, 1, 2, 0, 3, 3, 2, 1, 0, 1, 1, 2, 0, 3, 2, 3, 1, 3, 3, 2, 0, 2, 0, 2, 0, 2, 2, 0, 2, 0, 0, 2, 0, 0, 2, 1, 0, 3, 2, 0, 2, 1, 0, 1, 3, 3, 1, 3, 2, 0, 1, 1, 2, 0, 1, 3, 2, 0, 2, 3, 1, 0, 2, 3, 0, 2, 3, 1, 3, 0, 2, 2, 0, 0, 2, 1, 3, 2, 0, 0, 2, 2, 0, 2, 0, 1, 3, 0, 1, 3, 1, 1, 2, 3, 0, 3, 1, 1, 2, 0, 3, 2, 1, 0, 3, 2, 1, 0, 1, 2, 3, 0, 3, 2, 0, 1, 3, 1, 1, 3, 3, 1, 3, 2, 0, 2, 3, 2, 2, 0, 2, 1, 2, 0, 3, 1, 2, 0, 2, 0, 2, 0, 3, 1, 2, 0, 3, 0, 0, 2, 0, 0, 1, 3, 2, 2, 2, 1, 3, 0, 0, 2, 0, 0, 1, 1, 2, 0, 3, 2, 3, 0, 2, 2, 2, 1, 2, 2, 3], fitness: 17.64406779661017, number_of_cp_reached: 9)\n",
            "(Path: [3, 2, 3, 2, 2, 0, 2, 0, 1, 2, 1, 3, 3, 2, 0, 0, 1, 1, 2, 0, 3, 3, 0, 0, 2, 1, 3, 2, 1, 1, 2, 3, 2, 3, 1, 3, 0, 2, 0, 3, 0, 0, 3, 1, 1, 3, 1, 3, 2, 2, 2, 0, 1, 2, 0, 3, 2, 0, 3, 1, 3, 3, 3, 0, 1, 0, 3, 0, 3, 1, 1, 3, 2, 0, 3, 1, 1, 3, 3, 0, 1, 3, 2, 0, 1, 0, 3, 2, 3, 0, 2, 0, 1, 2, 2, 0, 1, 2, 0, 2, 3, 2, 2, 0, 1, 3, 1, 2, 2, 1, 0, 3, 1, 0, 2, 3, 3, 0, 3, 3, 2, 0, 2, 0, 1, 3, 1, 0, 1, 3, 2, 0, 2, 0, 0, 2, 0, 2, 1, 3, 1, 3, 3, 0, 2, 3, 3, 1, 2, 1, 2, 3, 3, 1, 1, 3, 1, 0, 3, 2, 0, 3, 2, 1, 2, 1, 1, 2, 1, 1, 0, 0, 0, 2, 3, 0, 2, 0, 0, 2, 2, 0, 1, 3, 1, 0, 2, 1, 1, 3, 0, 2, 2, 0, 3, 3, 3, 3, 1, 0, 0, 2, 0, 1, 3, 0, 0, 2, 2, 3, 2, 1, 0, 1, 3, 1, 3, 3, 1, 1, 0, 1, 2, 0, 0, 2, 3, 2, 2, 2, 1, 3, 1, 2, 2, 2, 1, 3, 1, 2, 3, 1, 2, 2, 1, 1, 2, 1, 3, 2, 3, 1, 2, 3, 2, 0, 1, 2, 2, 0, 3, 0, 1, 0, 2, 0, 3, 2, 1, 2, 3, 0, 3, 3, 2, 0, 3, 2, 2, 2, 2, 2, 2, 2, 2, 0, 1, 0, 3, 2, 0, 3, 0, 0, 0, 2, 3, 3, 2, 2, 0, 2, 0, 0, 0, 0, 0, 2, 3, 0, 3, 0, 1, 0, 3, 1, 1, 1, 0, 0, 3, 3, 1, 1, 3, 0, 2, 3, 0, 2, 0, 2, 2, 0, 2, 0, 1, 2, 3, 1, 1, 3, 0, 3, 0, 0, 0, 0, 0, 0, 3, 1, 0, 2, 1, 3, 1, 3, 1, 1, 3, 1, 3, 3, 2, 1, 0, 0, 2, 3, 1, 3, 1, 3, 3, 0, 0, 2, 1, 0, 1, 3, 2, 1, 0, 3, 2, 1, 0, 3, 1, 0, 1, 3, 1, 3, 0, 1, 1, 2, 1, 2, 3, 3, 0, 0, 2, 0, 3, 2, 0, 3, 3, 1, 3, 1, 2, 2, 3, 1, 2, 2, 0, 3, 2, 0, 3, 1, 1, 3, 2, 1, 3, 3, 0, 1, 1, 1, 3, 2, 2, 2, 1, 0, 2, 0, 0, 2, 3, 3, 2, 3, 0, 1, 2, 0, 3, 1, 2, 2, 1, 0, 2, 2, 0, 2, 0, 0, 3, 0, 2, 2, 2, 3, 1, 0, 0, 3, 1, 1, 2, 3, 1, 2, 3, 0, 2, 1, 2, 2, 3, 1, 3, 0, 1, 3, 0, 3, 1, 0, 3, 1, 0, 2, 3, 2, 0, 1, 3, 2, 0, 1, 0, 3, 2, 3, 2, 0, 1, 1, 2, 1, 3, 1, 3, 3, 1, 0, 2, 2, 2, 3, 1, 1, 2, 0, 1, 2, 3, 0, 2, 3, 2, 0, 3, 0, 3, 3, 1, 3, 2, 0, 2, 3, 1, 0, 1, 1, 2, 1, 0, 2, 3, 0, 2, 2, 0, 0, 1, 2, 2, 3, 0, 2, 1, 1, 2, 2, 1, 2, 0, 2, 3, 3, 3, 2, 1, 2, 3, 0, 2, 2, 1, 0, 2, 2, 0, 3, 2, 0, 2, 1, 2, 2, 1, 1, 3, 3, 1, 2, 1, 2, 2, 1, 2, 2, 1, 1, 2, 2, 1, 2, 3, 0, 2, 1, 0, 3, 2, 1, 3, 1, 0, 2, 1, 3, 3, 3, 0, 2, 1, 1, 3, 0, 1, 3, 0, 0, 3, 1, 2, 3, 1, 3, 3, 2, 3, 2, 1, 0, 2, 0, 2, 3, 0, 1, 3, 0, 3, 2, 0, 0, 2, 2, 2, 3, 1, 0, 2, 0, 3, 3, 0, 1, 3, 0, 1, 2, 2, 1, 3, 0, 1, 2, 1, 3, 2, 3, 3, 3, 1, 1, 3, 3, 3, 3, 1, 1, 1, 0, 2, 0, 0, 1, 0, 2, 3, 0, 0, 3, 3, 3, 0, 1, 1, 0, 3, 3, 3, 1, 3, 0, 1, 1, 1, 3, 3, 1, 3, 3, 1, 0, 1, 3, 1, 1, 0, 0, 1, 0, 0, 1, 0, 0, 3, 3, 1, 1, 3, 0, 0, 0, 3, 1, 3, 3, 0, 2, 0, 3, 2, 1, 0, 0, 3, 2, 2, 0, 1, 3, 0, 1, 1, 0, 0, 0, 0, 1, 0, 3, 0, 1, 3, 2, 2, 3, 0, 0, 0, 0, 1, 3, 0, 1, 3, 3, 0, 2, 3, 2, 2, 2, 3, 2, 1, 3, 0, 0, 1, 3, 1, 1, 2, 3, 0, 3, 1, 1, 2, 1, 3, 3, 3, 0, 3, 1, 3, 0, 0, 3, 3, 3, 0, 2, 1, 1, 3, 1, 1, 2, 2, 1, 3, 1, 0, 3, 0, 2, 2, 2, 0, 2, 2, 1, 0, 3, 0, 0, 0, 0, 2, 3, 3, 0, 3, 2, 2, 0, 0, 2, 1, 1, 0, 2, 0, 2, 1, 2, 2, 1, 2, 2, 3, 0, 2, 0, 0, 0, 0, 2, 2, 1, 2, 3, 2, 0, 2, 0, 2, 0, 1, 1, 3, 3, 1, 3, 1, 0, 3, 0, 1, 3, 1, 2, 3, 0, 0, 3, 1, 0, 3, 3, 1, 2, 0, 2, 3, 1, 0, 3, 2, 0, 3, 1, 3, 2, 2, 0, 1, 0, 1, 3, 3, 1, 2, 1, 3, 3, 1, 3, 1, 1, 1, 3, 0, 3, 3, 2, 1, 0, 1, 3, 3, 1, 2, 0, 1, 2, 3, 0, 1, 3, 3, 2, 1, 3, 1, 3, 0, 2, 2, 0, 0, 2, 0, 1, 2, 3, 0, 2, 1, 1, 3, 1, 0, 3, 2, 0, 2, 1, 1, 2, 0, 0, 3, 2, 0, 3, 1, 1, 2, 0, 3, 3, 3, 1, 3, 2, 0, 2, 2, 2, 0, 0, 2, 0, 2, 0, 2, 0, 1, 3, 1, 0, 2, 0, 1, 3, 1, 1, 3, 1, 1, 3, 1, 3, 3, 1, 3, 2, 1, 0, 3, 2, 0, 3, 2, 1, 0, 3, 1, 3, 2, 1, 0, 3, 2, 0, 3, 1, 3, 2, 0, 1, 1, 2, 3, 0, 3, 1, 3, 1, 2, 3, 0, 2, 0, 1, 3, 2, 2, 0, 0, 1, 2, 1, 0, 2, 3, 1, 0, 3, 3, 2, 2, 0, 1, 0, 2, 0, 2, 3, 2, 2, 0, 2, 0, 0, 1, 0, 2, 0, 1, 1, 2, 0, 2, 2, 2, 2, 2, 1, 1, 3, 3, 2, 0, 1, 0, 3, 0, 1, 2, 2, 3, 0, 2, 0, 2, 0, 0, 0, 1, 2, 2, 2, 0, 3, 0, 0, 2, 2, 0, 0, 2, 0, 0, 0, 3, 2, 1, 2, 2, 0, 2, 2, 2, 1, 3, 0, 2, 2, 0, 2, 0, 2, 3, 1, 0, 0, 0, 0, 2, 2, 0, 1, 3, 0, 0, 3, 0, 3, 3, 1, 1, 3, 3, 2, 1, 3, 0, 1, 2, 3, 2, 2, 0, 0, 0, 1, 2, 0, 3, 2, 0, 2, 1, 1, 0, 2, 3, 0, 2, 1, 1, 3, 1, 3, 0, 3, 1, 2, 3, 0, 2, 3, 0, 2, 1, 0, 3, 2, 0, 1, 3, 1, 3, 1, 3, 2, 0, 1, 2, 0, 2, 0, 1, 2, 3, 3, 2, 2, 1, 2, 2, 3], fitness: 10.898305084745763, number_of_cp_reached: 9) (Path: [3, 1, 2, 2, 2, 1, 0, 3, 2, 3, 0, 0, 2, 3, 0, 3, 3, 0, 3, 0, 0, 1, 3, 1, 3, 1, 3, 2, 1, 0, 3, 0, 3, 2, 2, 2, 1, 1, 1, 3, 3, 1, 3, 1, 3, 1, 2, 3, 2, 2, 1, 3, 3, 0, 2, 1, 2, 0, 0, 0, 2, 0, 3, 2, 3, 0, 2, 0, 1, 3, 0, 1, 3, 0, 2, 2, 3, 3, 1, 0, 2, 1, 0, 2, 2, 0, 0, 3, 1, 2, 3, 3, 1, 1, 3, 1, 3, 1, 3, 1, 2, 0, 3, 0, 3, 2, 2, 0, 2, 0, 3, 1, 1, 0, 1, 2, 1, 3, 0, 0, 2, 0, 0, 2, 3, 1, 2, 3, 0, 2, 0, 1, 3, 3, 0, 2, 2, 1, 1, 1, 3, 2, 1, 0, 3, 1, 1, 3, 1, 1, 3, 1, 1, 2, 1, 1, 2, 0, 3, 2, 1, 1, 2, 0, 3, 3, 3, 1, 3, 1, 3, 2, 3, 3, 3, 2, 0, 0, 0, 2, 3, 0, 0, 3, 3, 2, 2, 0, 2, 2, 0, 0, 1, 0, 2, 1, 2, 0, 2, 0, 1, 3, 1, 1, 2, 3, 2, 0, 1, 2, 3, 2, 1, 2, 0, 2, 2, 0, 0, 3, 0, 1, 3, 0, 1, 3, 2, 0, 2, 0, 0, 2, 1, 0, 2, 3, 1, 3, 0, 2, 2, 1, 3, 2, 0, 0, 3, 1, 0, 2, 0, 2, 2, 0, 0, 2, 0, 3, 3, 0, 1, 3, 1, 3, 1, 1, 0, 3, 2, 1, 2, 2, 2, 0, 2, 2, 3, 1, 0, 0, 0, 2, 2, 1, 0, 2, 3, 0, 2, 2, 0, 0, 3, 0, 2, 0, 3, 1, 0, 1, 2, 2, 2, 2, 3, 3, 2, 3, 1, 1, 3, 1, 3, 3, 3, 2, 1, 3, 2, 3, 2, 1, 1, 0, 2, 0, 0, 2, 3, 0, 2, 0, 0, 1, 3, 1, 2, 1, 0, 1, 3, 2, 1, 2, 0, 2, 0, 1, 3, 0, 1, 2, 1, 3, 0, 3, 3, 2, 1, 3, 0, 0, 2, 2, 0, 3, 1, 0, 2, 2, 1, 0, 2, 0, 2, 2, 0, 2, 0, 2, 0, 3, 0, 3, 2, 3, 0, 2, 3, 1, 1, 3, 0, 1, 3, 1, 1, 1, 2, 3, 3, 1, 0, 0, 2, 1, 1, 1, 2, 0, 2, 2, 0, 0, 3, 3, 3, 2, 1, 1, 0, 1, 0, 2, 3, 2, 0, 0, 3, 3, 1, 1, 2, 3, 0, 3, 3, 1, 2, 2, 0, 1, 3, 1, 2, 1, 1, 2, 1, 1, 2, 1, 0, 3, 0, 0, 0, 0, 3, 3, 2, 0, 2, 3, 2, 3, 0, 1, 3, 1, 0, 0, 2, 0, 2, 1, 2, 3, 0, 0, 3, 0, 2, 0, 1, 2, 2, 0, 1, 3, 1, 3, 2, 1, 3, 2, 0, 0, 3, 1, 3, 0, 2, 1, 3, 0, 2, 0, 3, 3, 2, 0, 3, 1, 2, 3, 1, 0, 0, 2, 2, 0, 1, 0, 3, 1, 3, 0, 1, 0, 1, 3, 3, 1, 2, 2, 0, 1, 1, 0, 3, 2, 3, 2, 3, 2, 2, 0, 2, 0, 0, 3, 2, 0, 3, 2, 0, 0, 2, 0, 3, 1, 2, 1, 2, 0, 1, 2, 1, 0, 1, 1, 0, 3, 0, 2, 3, 3, 0, 2, 2, 0, 2, 3, 1, 1, 3, 1, 2, 1, 0, 3, 3, 1, 1, 0, 2, 2, 3, 0, 2, 0, 1, 3, 3, 1, 1, 0, 3, 2, 2, 0, 1, 3, 1, 2, 2, 0, 2, 1, 0, 2, 3, 0, 2, 0, 1, 3, 3, 0, 2, 0, 3, 2, 2, 0, 1, 1, 1, 3, 3, 3, 2, 2, 0, 2, 0, 2, 1, 2, 2, 2, 0, 3, 1, 2, 0, 1, 2, 2, 0, 3, 0, 2, 0, 3, 2, 1, 3, 1, 0, 0, 2, 0, 1, 3, 0, 3, 2, 2, 3, 2, 2, 2, 1, 2, 1, 2, 0, 3, 2, 2, 2, 1, 3, 1, 1, 1, 0, 2, 1, 3, 3, 3, 3, 1, 0, 2, 2, 2, 2, 3, 1, 2, 0, 0, 0, 0, 2, 2, 0, 0, 1, 0, 0, 2, 0, 1, 1, 3, 1, 0, 0, 2, 0, 0, 0, 0, 3, 3, 0, 3, 1, 3, 3, 2, 0, 0, 1, 2, 3, 0, 3, 0, 3, 3, 1, 0, 0, 1, 3, 3, 0, 1, 2, 1, 0, 0, 0, 2, 2, 3, 0, 0, 2, 0, 1, 3, 2, 2, 3, 2, 1, 2, 2, 1, 3, 1, 1, 0, 1, 0, 2, 1, 3, 3, 1, 0, 2, 1, 3, 0, 0, 2, 3, 3, 1, 3, 2, 2, 3, 2, 0, 3, 1, 0, 3, 1, 1, 0, 0, 1, 2, 0, 1, 2, 3, 0, 3, 2, 3, 2, 2, 3, 0, 2, 2, 0, 1, 2, 3, 1, 0, 3, 0, 1, 0, 0, 0, 0, 3, 1, 2, 2, 1, 3, 3, 1, 2, 0, 2, 3, 2, 3, 0, 2, 2, 2, 2, 2, 0, 3, 0, 1, 2, 2, 0, 0, 2, 2, 3, 2, 0, 2, 0, 1, 1, 1, 2, 3, 0, 2, 2, 0, 2, 1, 3, 2, 1, 0, 3, 3, 3, 1, 1, 2, 2, 1, 1, 3, 3, 0, 3, 2, 3, 2, 0, 3, 1, 2, 3, 1, 0, 1, 3, 3, 0, 0, 1, 0, 0, 2, 0, 2, 2, 3, 2, 2, 1, 3, 1, 1, 2, 0, 1, 2, 1, 0, 3, 0, 2, 3, 1, 2, 3, 0, 1, 3, 0, 2, 3, 1, 1, 2, 1, 2, 3, 0, 2, 2, 2, 0, 2, 2, 3, 2, 0, 0, 3, 3, 1, 3, 1, 1, 3, 1, 3, 2, 0, 0, 3, 0, 2, 1, 1, 2, 3, 3, 2, 1, 0, 1, 3, 3, 2, 2, 0, 1, 3, 1, 3, 2, 0, 3, 1, 0, 0, 2, 2, 2, 2, 0, 0, 1, 3, 3, 1, 3, 1, 2, 2, 1, 2, 0, 3, 1, 1, 0, 0, 2, 2, 3, 1, 0, 2, 1, 1, 3, 2, 1, 3, 0, 1, 2, 0, 1, 3, 3, 2, 2, 0, 0, 2, 2, 0, 0, 2, 0, 3, 0, 0, 2, 1, 3, 2, 1, 2, 2, 0, 1, 2, 1, 3, 2, 2, 2, 2, 3, 1, 3, 2, 3, 3, 1, 1, 3, 2, 0, 3, 0, 1, 2, 3, 1, 3, 2, 0, 2, 0, 0, 2, 1, 3, 0, 1, 0, 3, 1, 1, 2, 3, 1, 2, 3, 3, 0, 2, 2, 3, 1, 1, 2, 0, 0, 3, 1, 2, 2, 1, 2, 3, 0, 2, 3, 1, 1, 3, 0, 0, 3, 1, 3, 0, 0, 2, 2, 3, 3, 2, 1, 2, 3, 3, 3, 1, 1, 3, 0, 2, 0, 1, 3, 1, 1, 3, 2, 1, 0, 0, 3, 3, 0, 1, 3, 1, 0, 1, 0, 0, 0, 0, 1, 3, 1, 3, 1, 0, 0, 3, 3, 0, 2, 3, 1, 0, 2, 1, 1, 1, 0, 0, 3, 0, 2, 0, 3, 2, 1, 3, 3, 0, 1, 3, 2, 0, 0, 0, 1, 2, 1, 3, 1, 1, 0, 0, 2, 0, 3, 0, 3, 0, 0, 3, 3, 1, 1, 1, 1, 1, 2, 2, 0, 2, 3, 3, 2, 3, 0, 3, 0, 0, 2, 3, 1, 0, 3, 1, 3, 1, 0, 2, 3, 1, 1, 1, 3, 1, 0, 0, 3, 1, 0, 0, 2, 0, 3, 0, 3, 3, 1, 1, 3, 1, 0, 2, 2, 3, 3, 2, 1, 0, 1, 0, 1, 1, 0, 2, 0, 3, 1, 2, 0, 2, 3, 3, 1, 0, 0, 0, 0, 3, 3, 0, 2, 2, 3, 3, 1, 1, 2, 2, 3, 3, 3, 2, 0, 0, 1, 2, 1, 1, 2, 3, 3, 0, 2, 3, 0, 0, 0, 0, 3, 3, 3, 1, 3, 2, 0, 1, 0, 3, 1, 3, 2, 2, 2, 0, 2, 1, 2, 0, 2, 0, 2, 0, 3, 0, 2, 0, 0, 1, 0, 1, 3, 2, 3, 2, 2, 0, 2, 0, 2, 1, 2, 0, 2, 2, 0, 0, 2, 0, 3, 0, 0, 1, 3, 0, 1, 3, 1, 2, 0, 2, 3, 0, 1, 2, 3, 2, 2, 0, 2, 1, 2, 0, 3, 0, 2, 0, 0, 1, 0, 1, 3, 2, 3, 0, 2, 1, 3, 1, 0, 1, 2, 0, 3, 2, 3, 2, 0, 0, 2, 1, 0, 2, 0, 2, 0, 2, 3, 1, 3, 1, 3, 2, 2, 1, 3, 0, 0, 2, 0, 1, 3, 2, 0, 2, 0, 1, 3, 2, 2, 0, 2, 1, 3, 1, 2, 0, 2, 0, 2, 0, 2, 0, 2, 0, 3, 1, 2, 0, 3, 0, 2, 0, 0, 2, 0, 0, 1, 3, 1, 2, 0, 2, 3, 2, 2, 0, 2, 0, 0, 1, 1, 3, 0, 1, 2, 3, 3, 2, 0, 0, 1, 3, 1, 2, 1, 0, 2, 3, 3, 2, 0, 2, 0, 1, 3, 2, 0, 1, 3, 0, 2, 2, 0, 1, 0, 3, 1, 3, 1, 2, 0, 3, 1, 2, 1, 1, 2, 0, 0, 3, 1, 1, 1, 1, 2, 3, 1, 1, 2, 0, 2, 3, 0, 3, 0, 1, 2, 3, 2, 0, 2, 2, 1, 3, 2, 3, 2, 0, 1, 2, 2, 1, 0, 0, 0, 2, 0, 3, 2, 2, 1, 3, 2, 0, 2, 0, 0, 2, 0, 3, 3, 2, 1, 3, 0, 1, 3, 1, 1, 2, 1, 0, 3, 0, 3, 3, 0, 0, 2, 2, 1, 3, 1, 2, 2, 0, 0, 3, 1, 2, 2, 3, 2, 3, 3, 3, 1, 3, 2, 1, 2, 1, 3, 3, 2, 1, 0, 3, 0, 0, 2, 1, 2, 3, 0, 2, 1, 3, 1, 3, 0, 2, 0, 1, 0, 3, 1, 0, 3], fitness: 14.338983050847459, number_of_cp_reached: 9)\n",
            "(Path: [3, 1, 3, 2, 0, 2, 2, 1, 2, 0, 3, 1, 2, 0, 3, 2, 1, 0, 3, 3, 1, 2, 3, 1, 0, 1, 3, 3, 3, 0, 2, 2, 3, 3, 2, 2, 0, 2, 0, 0, 3, 2, 0, 2, 1, 0, 2, 2, 0, 2, 0, 0, 0, 3, 2, 1, 3, 0, 1, 2, 0, 0, 0, 3, 2, 2, 2, 2, 2, 0, 2, 3, 1, 3, 0, 1, 3, 1, 0, 1, 0, 3, 1, 2, 0, 2, 1, 1, 0, 0, 2, 1, 0, 2, 0, 0, 3, 3, 3, 3, 0, 2, 3, 0, 0, 1, 0, 3, 1, 3, 2, 2, 3, 1, 1, 1, 1, 2, 0, 1, 2, 0, 1, 3, 3, 1, 3, 3, 0, 3, 0, 1, 2, 0, 3, 3, 2, 2, 1, 2, 1, 3, 3, 3, 1, 1, 3, 2, 3, 0, 2, 3, 2, 0, 3, 0, 2, 1, 0, 2, 0, 1, 1, 0, 1, 2, 3, 2, 2, 0, 3, 1, 0, 2, 3, 1, 1, 2, 0, 3, 2, 0, 1, 3, 0, 1, 3, 0, 1, 2, 0, 2, 2, 3, 2, 0, 3, 0, 2, 1, 0, 3, 0, 0, 1, 1, 1, 2, 0, 1, 2, 1, 2, 2, 2, 2, 2, 0, 3, 1, 3, 1, 3, 1, 1, 2, 0, 0, 3, 0, 1, 2, 2, 2, 3, 0, 3, 1, 2, 0, 2, 2, 1, 2, 2, 0, 3, 0, 0, 0, 0, 1, 2, 2, 3, 0, 1, 3, 3, 1, 1, 3, 3, 1, 2, 1, 2, 3, 0, 0, 2, 0, 0, 0, 2, 1, 2, 3, 0, 0, 3, 3, 2, 3, 3, 0, 0, 0, 3, 3, 3, 1, 2, 2, 2, 0, 0, 2, 2, 0, 2, 2, 2, 1, 1, 1, 3, 2, 0, 3, 3, 1, 1, 3, 2, 1, 2, 3, 1, 0, 2, 3, 3, 0, 1, 1, 3, 1, 0, 3, 2, 1, 3, 2, 0, 3, 2, 0, 0, 2, 1, 3, 2, 0, 3, 2, 3, 3, 2, 2, 0, 2, 0, 2, 2, 0, 1, 1, 2, 0, 2, 1, 0, 2, 1, 2, 1, 3, 2, 2, 1, 1, 2, 2, 3, 2, 1, 3, 3, 1, 2, 0, 0, 1, 3, 3, 3, 3, 1, 3, 3, 1, 1, 3, 1, 1, 3, 2, 3, 0, 0, 2, 3, 3, 2, 1, 0, 2, 1, 0, 2, 0, 3, 3, 0, 1, 3, 1, 0, 0, 1, 2, 3, 1, 3, 0, 1, 1, 0, 0, 3, 3, 1, 0, 3, 0, 1, 3, 1, 1, 0, 3, 1, 3, 0, 1, 3, 1, 0, 0, 3, 0, 1, 0, 2, 2, 3, 1, 1, 3, 1, 2, 3, 0, 2, 0, 3, 3, 1, 3, 3, 0, 3, 2, 1, 0, 1, 1, 1, 0, 0, 0, 1, 3, 1, 3, 0, 2, 3, 3, 3, 1, 1, 0, 1, 3, 0, 2, 3, 1, 1, 3, 0, 1, 3, 2, 2, 3, 2, 3, 1, 1, 3, 0, 0, 0, 3, 1, 2, 2, 0, 0, 3, 1, 2, 2, 1, 3, 2, 2, 1, 3, 1, 2, 0, 3, 0, 2, 0, 3, 2, 0, 0, 1, 0, 1, 3, 2, 2, 3, 3, 1, 2, 0, 1, 2, 0, 0, 3, 1, 3, 2, 0, 1, 2, 1, 3, 3, 2, 2, 3, 2, 0, 2, 2, 0, 2, 0, 3, 1, 2, 3, 1, 2, 1, 3, 3, 0, 2, 3, 1, 2, 0, 0, 2, 2, 2, 0, 2, 0, 2, 1, 1, 2, 2, 2, 0, 0, 2, 3, 2, 3, 0, 1, 1, 0, 0, 2, 2, 2, 3, 0, 2, 1, 0, 0, 1, 2, 1, 0, 3, 2, 1, 0, 1, 2, 3, 1, 2, 0, 1, 3, 3, 1, 0, 2, 1, 3, 0, 2, 3, 0, 0, 0, 3, 3, 2, 3, 1, 2, 2, 1, 3, 3, 1, 0, 2, 1, 1, 3, 1, 0, 2, 0, 3, 2, 3, 0, 2, 1, 1, 3, 3, 3, 0, 2, 0, 0, 3, 0, 0, 1, 1, 3, 1, 0, 2, 0, 3, 3, 0, 0, 2, 2, 2, 3, 1, 0, 2, 1, 0, 3, 0, 1, 2, 0, 3, 3, 0, 3, 2, 2, 3, 1, 0, 3, 2, 0, 0, 2, 0, 2, 1, 2, 0, 1, 0, 0, 2, 3, 2, 1, 0, 3, 1, 1, 3, 1, 3, 3, 2, 3, 2, 1, 0, 2, 0, 1, 1, 2, 1, 0, 2, 1, 2, 2, 0, 2, 2, 3, 1, 2, 0, 0, 0, 2, 2, 3, 2, 0, 2, 1, 3, 0, 3, 1, 2, 1, 3, 2, 0, 0, 3, 3, 1, 0, 0, 2, 0, 1, 0, 2, 0, 0, 3, 0, 3, 1, 1, 1, 3, 3, 2, 2, 2, 1, 3, 1, 1, 2, 0, 1, 2, 2, 1, 3, 1, 3, 3, 2, 0, 2, 0, 3, 3, 1, 3, 0, 2, 0, 0, 1, 3, 2, 0, 0, 2, 0, 0, 3, 1, 3, 0, 0, 0, 2, 3, 3, 1, 2, 3, 2, 1, 3, 1, 3, 1, 1, 1, 0, 3, 2, 0, 2, 0, 1, 2, 3, 0, 2, 3, 0, 2, 3, 1, 1, 3, 3, 1, 0, 0, 1, 0, 2, 1, 1, 2, 3, 2, 1, 3, 0, 1, 3, 3, 0, 1, 2, 3, 1, 1, 3, 3, 1, 2, 3, 3, 3, 2, 2, 0, 2, 0, 3, 1, 3, 1, 1, 0, 3, 1, 2, 0, 1, 0, 2, 1, 1, 3, 3, 1, 2, 0, 1, 1, 2, 3, 3, 2, 2, 0, 2, 0, 3, 1, 1, 1, 3, 0, 1, 3, 1, 2, 2, 0, 0, 3, 2, 3, 2, 0, 3, 1, 3, 1, 2, 0, 2, 2, 3, 2, 2, 3, 0, 1, 0, 3, 2, 0, 0, 2, 3, 2, 2, 2, 0, 1, 0, 1, 2, 1, 2, 3, 3, 0, 1, 1, 3, 1, 3, 2, 2, 3, 2, 1, 2, 1, 2, 1, 1, 3, 3, 3, 2, 0, 0, 1, 1, 0, 2, 3, 3, 1, 1, 0, 2, 2, 2, 2, 0, 0, 2, 0, 0, 3, 3, 0, 2, 0, 0, 2, 2, 3, 1, 2, 1, 0, 0, 1, 2, 2, 0, 3, 1, 3, 3, 2, 1, 0, 2, 0, 3, 0, 1, 2, 3, 1, 2, 0, 2, 3, 0, 1, 2, 0, 1, 2, 0, 1, 2, 2, 0, 2, 0, 0, 2, 2, 3, 2, 1, 2, 2, 1, 3, 2, 1, 1, 3, 3, 3, 2, 0, 1, 2, 2, 1, 3, 0, 2, 3, 0, 1, 3, 1, 0, 2, 2, 0, 2, 1, 0, 3, 0, 2, 2, 3, 1, 3, 3, 1, 2, 2, 0, 3, 3, 0, 2, 1, 0, 2, 3, 1, 3, 3, 0, 1, 0, 2, 1, 0, 1, 2, 2, 3, 2, 2, 3, 2, 0, 3, 2, 1, 0, 2, 0, 2, 0, 1, 0, 2, 1, 0, 2, 2, 0, 2, 0, 2, 0, 3, 1, 2, 2, 0, 2, 1, 0, 2, 0, 1, 2, 0, 0, 2, 1, 0, 3, 3, 0, 3, 2, 3, 0, 0, 2, 2, 3, 1, 3, 3, 3, 2, 0, 1, 1, 3, 3, 2, 0, 0, 2, 2, 1, 1, 0, 1, 0, 2, 0, 0, 0, 3, 2, 3, 1, 0, 2, 3, 2, 3, 1, 2, 1, 1, 0, 1, 0, 2, 0, 1, 3, 0, 1, 2, 3, 3, 3, 0, 0, 2, 2, 0, 1, 0, 3, 2, 0, 3, 2, 2, 1, 1, 3, 1, 3, 0, 0, 1, 1, 0, 2, 1, 0, 2, 3, 0, 3, 2, 1, 3, 0, 0, 3, 2, 3, 1, 3, 1, 2, 0, 1, 2, 2, 2, 3, 3, 0, 1, 2, 0, 2, 0, 3, 2, 0, 0, 2, 2, 0, 2, 2, 0, 1, 1, 2, 0, 1, 3, 2, 2, 1, 3, 0, 0, 2, 2, 0, 2, 0, 1, 3, 1, 1, 3, 3, 0, 3, 3, 0, 2, 0, 1, 2, 3, 1, 0, 3, 3, 0, 2, 1, 1, 3, 2, 2, 2, 1, 1, 0, 0, 2, 1, 2, 2, 0, 0, 3, 1, 2, 2, 1, 1, 3, 3, 2, 3, 1, 0, 2, 3, 1, 3, 1, 0, 0, 1, 3, 3, 0, 2, 0, 0, 1, 2, 2, 1, 2, 2, 0, 2, 1, 0, 2, 1, 3, 3, 3, 1, 3, 3, 1, 3, 3, 3, 0, 1, 0, 1, 0, 1, 3, 1, 2, 0, 0, 1, 0, 0, 1, 0, 0, 0, 3, 0, 2, 0, 3, 0, 0, 0, 0, 3, 3, 2, 0, 1, 2, 0, 2, 0, 3, 2, 1, 3, 1, 0, 3, 0, 2, 3, 0, 3, 1, 2, 2, 1, 0, 0, 0, 1, 1, 3, 3, 0, 0, 0, 2, 0, 1, 0, 0, 3, 1, 0, 2, 2, 0, 2, 0, 0, 1, 1, 0, 3, 3, 3, 1, 1, 3, 2, 0, 3, 3, 2, 0, 2, 0, 1, 3, 1, 0, 1, 1, 3, 1, 0, 3, 2, 2, 0, 1, 1, 0, 0, 0, 1, 3, 1, 0, 1, 1, 0, 1, 1, 2, 3, 1, 3, 0, 3, 2, 3, 2, 0, 0, 1, 2, 0, 3, 2, 3, 0, 3, 1, 3, 1, 3, 1, 3, 1, 2, 0, 3, 1, 3, 1, 1, 2, 1, 3, 0, 1, 3, 3, 1, 2, 0, 3, 1, 2, 3, 0, 2, 0, 3, 1, 2, 1, 3, 0, 2, 0, 1, 2, 0, 1, 2, 0, 2, 3, 0, 2, 1, 0, 3, 1, 3, 2, 0, 3, 1, 1, 3, 2, 1, 0, 3, 1, 2, 0, 2, 3, 1, 1, 0, 2, 1, 3, 3, 1, 0, 2, 1, 3, 3, 1, 3, 0, 3, 3, 2, 0, 2, 0, 2, 0, 2, 2, 0, 2, 1, 3, 2, 3, 3, 2, 3, 3, 0, 0, 3, 3, 3, 1, 2, 0, 0, 0, 1, 3, 1, 2, 3, 0, 1, 3, 3, 1, 3, 1, 3, 3, 3, 2, 0, 3, 3, 2, 1, 1, 3, 0, 3, 1, 1, 3, 2, 0, 2, 0, 2, 0, 2, 1, 0, 3, 3, 2, 1, 3, 1, 3, 0, 1, 2, 0, 3, 1, 1, 2, 0, 2, 0, 3, 1, 1, 2, 3, 1, 2, 0, 0, 3, 2, 3, 3, 0, 1, 3, 1, 1, 2, 0, 3, 3, 1, 2, 0, 1, 2, 0, 2, 1, 3, 1, 3, 3, 0, 1, 3, 2, 0, 3, 2, 1, 0, 1, 1, 3, 1, 2, 3, 3, 0, 2, 0, 3, 1, 2, 3, 1, 1, 0, 3, 2, 0, 2, 3, 1, 0, 1, 3, 2, 0, 3, 2, 2, 0, 2, 0, 2, 2, 0, 0, 2, 0, 1, 3, 2, 0, 1, 0, 3, 2, 1, 0, 3, 1, 3, 1, 2, 0, 2, 0, 2, 3, 0, 2, 1, 0, 3, 2, 1, 0, 2, 3, 1, 3, 2, 0, 1, 3, 2, 0, 2, 0, 1, 1, 0, 2, 1, 3, 3, 0, 2, 0, 1, 2, 3, 1, 1, 2, 1, 2, 3, 1, 2, 3, 0, 2, 0, 2, 0, 0, 2, 0, 2, 0, 0, 2, 2, 0, 2, 0, 1, 2, 1, 1, 3, 2, 1, 2, 2, 3, 0, 1, 3, 3, 0, 1, 3, 3, 0, 2, 2, 0, 2, 1, 1, 2, 2, 2, 0, 0, 2, 3, 1, 0, 0, 0, 1, 2, 3, 1, 2, 0, 1, 2, 0, 0, 3, 2, 3, 3, 0, 3, 0, 2, 1, 2, 0, 2, 3, 2, 0, 2, 3, 1, 0, 1, 0, 2, 3, 1, 3, 2, 0, 2, 0, 1, 3, 1, 0, 2, 0, 3, 2, 0, 0, 0, 2, 1, 2, 2, 0, 2, 0, 1, 2, 0, 1, 3, 2, 2, 0, 0, 2, 3, 0, 2, 0, 0, 3, 2, 2, 0, 0, 0, 2, 0, 2, 2, 0, 1, 0, 3, 0, 0, 3, 3, 3, 1, 1, 1, 2, 0, 3, 2, 3, 0, 2, 1, 0, 2, 1, 0, 3, 3, 2, 3, 0, 2, 2, 2, 1, 3, 0, 2, 0, 0, 0, 2, 1, 0, 2, 0, 1, 2, 0, 1, 3, 3, 3, 1, 2, 0, 2, 3, 2, 2, 0, 2, 0, 0, 2, 0, 2, 0, 2, 0, 0, 1, 2, 0, 2, 0, 3, 1, 2, 0, 2, 0, 2, 0, 2, 0, 2, 0, 2, 0, 1, 1, 2, 3, 3, 3, 2, 0, 1, 1, 0, 3, 2, 3, 2, 0, 1, 3, 2, 2, 1, 3, 0, 2, 0, 0, 2, 2, 1, 2, 0, 2, 2, 2, 3, 1, 1, 1, 3, 1, 0, 2, 0, 0, 2, 1, 0, 3, 2, 2, 3, 1, 3, 1, 3, 3, 0, 3], fitness: 18.372881355932204, number_of_cp_reached: 9) (Path: [2, 0, 0, 0, 0, 1, 3, 2, 2, 2, 3, 1, 3, 1, 1, 0, 3, 1, 2, 1, 2, 2, 1, 0, 3, 2, 1, 3, 0, 0, 3, 1, 0, 2, 2, 0, 3, 1, 2, 2, 1, 3, 2, 3, 2, 0, 2, 0, 3, 1, 3, 0, 0, 0, 2, 0, 0, 2, 2, 2, 2, 1, 3, 0, 3, 3, 2, 2, 2, 0, 2, 3, 0, 0, 3, 1, 3, 3, 1, 3, 3, 1, 2, 0, 0, 2, 0, 2, 3, 1, 0, 3, 2, 0, 2, 0, 2, 0, 3, 0, 0, 1, 3, 3, 3, 1, 1, 0, 2, 1, 0, 3, 1, 0, 3, 0, 3, 1, 2, 3, 1, 2, 0, 3, 1, 0, 3, 1, 2, 2, 1, 1, 3, 2, 3, 3, 3, 1, 1, 0, 2, 2, 2, 0, 3, 0, 0, 1, 0, 3, 1, 2, 3, 2, 3, 0, 2, 3, 2, 1, 3, 3, 1, 3, 0, 1, 0, 2, 2, 2, 0, 1, 1, 1, 2, 0, 1, 3, 3, 0, 1, 1, 1, 2, 0, 1, 3, 0, 2, 2, 1, 3, 3, 0, 0, 3, 2, 2, 2, 0, 0, 2, 2, 0, 2, 1, 1, 2, 2, 0, 2, 2, 2, 3, 0, 1, 2, 3, 3, 3, 3, 3, 2, 2, 2, 0, 2, 0, 2, 0, 2, 0, 0, 0, 2, 2, 2, 1, 2, 1, 1, 0, 0, 3, 3, 2, 2, 1, 2, 1, 0, 3, 2, 0, 3, 2, 3, 1, 2, 3, 1, 1, 3, 0, 1, 3, 1, 1, 1, 2, 3, 3, 3, 0, 2, 1, 1, 1, 2, 3, 0, 2, 3, 2, 0, 2, 2, 3, 0, 3, 0, 3, 3, 2, 1, 3, 3, 0, 3, 1, 1, 1, 3, 1, 3, 2, 0, 1, 3, 0, 3, 3, 1, 3, 3, 0, 3, 2, 1, 3, 3, 0, 1, 1, 0, 0, 2, 1, 0, 3, 0, 3, 2, 0, 2, 0, 0, 3, 3, 1, 2, 3, 0, 3, 2, 0, 3, 1, 1, 3, 1, 1, 0, 3, 1, 2, 3, 0, 2, 3, 1, 2, 1, 1, 0, 1, 1, 0, 0, 1, 0, 3, 1, 1, 2, 0, 0, 3, 0, 1, 2, 1, 3, 0, 0, 3, 1, 1, 1, 3, 0, 1, 0, 0, 2, 0, 3, 2, 1, 3, 0, 1, 3, 1, 1, 3, 1, 3, 3, 2, 2, 1, 0, 1, 0, 1, 0, 2, 0, 1, 3, 2, 3, 3, 2, 3, 0, 0, 2, 2, 1, 3, 2, 0, 2, 2, 0, 3, 2, 0, 1, 2, 2, 0, 0, 0, 3, 2, 0, 1, 2, 1, 3, 3, 0, 2, 2, 3, 2, 1, 0, 1, 3, 0, 2, 0, 0, 2, 2, 1, 0, 2, 2, 3, 0, 0, 3, 1, 3, 1, 2, 3, 3, 2, 1, 2, 1, 2, 2, 3, 0, 2, 1, 1, 1, 3, 0, 0, 3, 3, 1, 2, 0, 3, 1, 0, 1, 2, 2, 0, 3, 3, 0, 1, 3, 2, 1, 3, 2, 1, 2, 3, 0, 2, 3, 1, 0, 0, 1, 0, 1, 3, 1, 3, 2, 3, 2, 1, 2, 2, 2, 1, 3, 2, 2, 3, 0, 0, 3, 0, 0, 0, 0, 1, 1, 2, 3, 1, 3, 0, 3, 2, 0, 1, 3, 1, 3, 3, 1, 0, 2, 2, 0, 3, 1, 0, 2, 2, 1, 3, 0, 0, 3, 2, 0, 1, 0, 1, 2, 0, 1, 3, 3, 3, 1, 1, 3, 2, 2, 1, 2, 1, 2, 2, 0, 0, 2, 2, 0, 3, 0, 3, 2, 3, 1, 2, 0, 1, 0, 3, 2, 2, 0, 2, 0, 2, 2, 0, 0, 3, 1, 0, 2, 2, 0, 2, 0, 2, 0, 3, 1, 1, 0, 2, 0, 3, 0, 0, 2, 2, 0, 2, 1, 2, 0, 1, 3, 3, 0, 0, 3, 3, 3, 2, 2, 3, 1, 2, 3, 1, 0, 1, 0, 1, 1, 2, 2, 2, 2, 0, 2, 0, 0, 3, 1, 3, 1, 2, 0, 1, 0, 0, 1, 2, 0, 2, 2, 1, 2, 3, 2, 0, 0, 1, 1, 2, 1, 2, 2, 3, 3, 2, 0, 3, 3, 1, 1, 2, 2, 0, 2, 0, 1, 3, 3, 0, 2, 0, 1, 3, 2, 0, 3, 1, 1, 2, 0, 3, 3, 1, 0, 2, 0, 0, 0, 1, 2, 2, 2, 3, 2, 0, 2, 2, 1, 3, 3, 1, 0, 2, 3, 1, 2, 2, 3, 3, 2, 1, 3, 3, 0, 1, 1, 2, 2, 0, 1, 2, 3, 2, 0, 0, 1, 2, 3, 2, 2, 0, 0, 2, 0, 3, 3, 0, 0, 2, 1, 3, 1, 2, 1, 3, 1, 3, 0, 3, 3, 2, 3, 2, 1, 1, 3, 2, 1, 0, 0, 2, 0, 1, 3, 0, 1, 2, 0, 3, 1, 2, 3, 0, 1, 3, 0, 0, 0, 2, 2, 2, 0, 1, 2, 1, 3, 2, 0, 2, 3, 0, 0, 2, 0, 3, 2, 3, 1, 2, 3, 0, 1, 0, 1, 1, 1, 1, 3, 0, 2, 2, 3, 2, 3, 2, 2, 1, 3, 3, 1, 3, 0, 2, 0, 1, 2, 0, 0, 1, 0, 0, 2, 0, 1, 3, 1, 0, 2, 3, 3, 2, 2, 3, 1, 0, 2, 1, 1, 3, 3, 1, 1, 2, 1, 2, 2, 2, 1, 3, 1, 2, 3, 0, 1, 2, 0, 2, 2, 3, 2, 2, 2, 1, 3, 3, 3, 0, 0, 0, 3, 2, 1, 2, 3, 3, 1, 0, 2, 1, 0, 2, 2, 2, 3, 2, 3, 2, 0, 1, 0, 1, 0, 0, 3, 3, 0, 2, 1, 0, 2, 0, 1, 2, 0, 2, 3, 0, 2, 0, 2, 3, 2, 0, 0, 2, 1, 0, 1, 0, 0, 3, 0, 1, 2, 3, 0, 2, 2, 3, 2, 1, 1, 3, 2, 0, 1, 2, 2, 0, 3, 1, 3, 0, 1, 3, 1, 3, 1, 3, 2, 1, 0, 1, 2, 0, 3, 3, 2, 0, 2, 3, 1, 0, 1, 3, 2, 1, 2, 2, 0, 1, 2, 0, 2, 3, 3, 1, 0, 1, 1, 3, 2, 3, 0, 1, 3, 2, 0, 0, 3, 0, 2, 0, 0, 2, 2, 1, 3, 1, 1, 0, 2, 3, 3, 1, 1, 3, 3, 0, 3, 2, 2, 2, 2, 2, 0, 2, 0, 3, 1, 3, 1, 2, 1, 1, 1, 1, 3, 0, 1, 2, 3, 0, 2, 3, 1, 3, 1, 3, 1, 3, 3, 1, 3, 1, 1, 3, 1, 0, 0, 2, 1, 0, 2, 1, 3, 0, 1, 3, 2, 2, 0, 0, 0, 3, 3, 1, 0, 3, 3, 0, 1, 0, 3, 3, 0, 0, 1, 1, 3, 1, 2, 3, 3, 1, 0, 1, 3, 1, 0, 0, 1, 1, 2, 0, 1, 1, 0, 0, 3, 3, 3, 2, 0, 2, 0, 3, 0, 1, 0, 1, 2, 0, 0, 0, 3, 3, 0, 1, 1, 0, 3, 2, 2, 3, 0, 1, 3, 1, 1, 0, 2, 2, 0, 2, 3, 0, 1, 0, 3, 0, 1, 0, 0, 2, 0, 1, 1, 3, 3, 1, 0, 3, 2, 0, 1, 0, 0, 0, 3, 0, 3, 3, 0, 2, 2, 0, 2, 0, 0, 0, 1, 3, 3, 3, 1, 3, 0, 3, 2, 0, 3, 3, 3, 3, 1, 1, 2, 3, 1, 3, 0, 1, 2, 2, 1, 2, 0, 1, 2, 0, 3, 2, 3, 2, 0, 0, 0, 3, 1, 0, 3, 3, 3, 2, 1, 0, 2, 0, 1, 3, 2, 0, 3, 1, 1, 2, 1, 2, 2, 1, 1, 3, 3, 0, 2, 2, 0, 2, 0, 0, 0, 0, 2, 2, 0, 0, 2, 0, 3, 3, 3, 2, 2, 2, 1, 3, 0, 0, 1, 0, 3, 1, 2, 3, 2, 0, 1, 3, 2, 0, 1, 0, 1, 3, 3, 1, 2, 1, 1, 2, 1, 1, 3, 1, 1, 3, 2, 3, 3, 1, 1, 3, 0, 2, 2, 3, 0, 0, 2, 1, 3, 1, 1, 3, 1, 2, 3, 2, 0, 2, 0, 2, 0, 0, 1, 2, 0, 2, 2, 2, 1, 3, 0, 1, 3, 3, 0, 3, 2, 1, 3, 0, 0, 0, 1, 3, 2, 2, 0, 2, 0, 0, 0, 3, 1, 2, 0, 0, 2, 2, 0, 2, 0, 3, 3, 1, 1, 3, 1, 0, 3, 3, 3, 1, 1, 1, 3, 2, 3, 3, 1, 3, 1, 0, 2, 3, 2, 0, 1, 1, 0, 2, 0, 3, 2, 0, 1, 2, 0, 2, 0, 3, 1, 3, 1, 2, 0, 1, 2, 2, 0, 2, 2, 0, 0, 2, 1, 3, 2, 0, 0, 3, 0, 3, 3, 1, 2, 3, 0, 2, 2, 0, 1, 0, 1, 2, 0, 1, 3, 3, 1, 3, 2, 3, 2, 0, 1, 0, 2, 3, 1, 3, 1, 1, 0, 3, 1, 2, 0, 3, 3, 1, 3, 2, 0, 1, 3, 1, 1, 2, 0, 1, 3, 1, 1, 3, 3, 2, 3, 0, 3, 1, 2, 0, 3, 2, 2, 0, 1, 0, 2, 0, 1, 3, 3, 2, 2, 0, 0, 2, 1, 3, 2, 0, 2, 2, 1, 2, 0, 2, 0, 2, 0, 3, 0, 0, 2, 2, 0, 2, 1, 2, 0, 2, 0, 2, 0, 2, 0, 2, 0, 2, 0, 2, 0, 3, 1, 2, 0, 2, 0, 3, 0, 2, 1, 2, 0, 3, 1, 2, 2, 0, 2, 2, 1, 1, 0, 0, 1, 2, 0, 2, 0, 2, 3, 0, 2, 2, 0, 2, 0, 0, 0, 1, 2, 0, 3, 0, 2, 0, 0, 0, 2, 3, 1, 3, 3, 0, 2, 3, 1, 0, 2, 0, 1, 3, 3, 1, 2, 3, 2, 2, 1, 2, 0, 2, 0, 2, 0, 2, 2, 0, 2, 3], fitness: 14.169491525423728, number_of_cp_reached: 9)\n",
            "(Path: [2, 0, 2, 3, 1, 2, 3, 2, 0, 2, 0, 3, 2, 0, 1, 3, 2, 2, 3, 0, 2, 0, 3, 1, 0, 0, 2, 0, 0, 3, 2, 0, 3, 1, 0, 1, 2, 1, 3, 3, 1, 2, 3, 3, 0, 1, 0, 2, 2, 0, 0, 2, 2, 0, 3, 0, 1, 3, 3, 0, 1, 0, 2, 1, 0, 3, 2, 2, 2, 2, 3, 1, 2, 0, 0, 3, 0, 0, 2, 0, 3, 2, 2, 0, 1, 2, 0, 3, 3, 1, 1, 1, 0, 2, 0, 3, 3, 0, 2, 1, 0, 2, 3, 1, 2, 3, 1, 0, 3, 3, 0, 2, 3, 0, 2, 3, 0, 2, 2, 0, 2, 1, 3, 1, 2, 3, 1, 0, 1, 1, 1, 1, 3, 2, 0, 2, 2, 3, 1, 1, 0, 3, 2, 2, 3, 0, 1, 3, 1, 3, 2, 0, 2, 0, 3, 0, 2, 0, 1, 3, 0, 3, 1, 2, 0, 1, 3, 0, 1, 0, 3, 2, 3, 0, 2, 3, 3, 1, 2, 2, 2, 3, 2, 1, 0, 2, 2, 0, 3, 1, 2, 0, 1, 2, 1, 2, 0, 2, 1, 1, 0, 2, 1, 3, 3, 1, 2, 3, 3, 3, 1, 2, 3, 2, 2, 3, 1, 0, 3, 1, 3, 3, 1, 0, 3, 1, 3, 2, 2, 1, 3, 1, 1, 1, 1, 1, 2, 2, 3, 1, 3, 1, 3, 2, 0, 1, 2, 0, 3, 2, 0, 1, 2, 3, 0, 2, 2, 0, 2, 2, 1, 2, 3, 3, 2, 2, 0, 3, 0, 2, 0, 1, 2, 3, 3, 3, 1, 0, 1, 3, 3, 1, 3, 3, 1, 0, 2, 3, 1, 2, 1, 3, 1, 1, 0, 2, 1, 0, 0, 2, 0, 1, 0, 0, 0, 0, 0, 0, 0, 0, 3, 0, 3, 1, 3, 0, 0, 2, 0, 3, 2, 3, 2, 2, 1, 3, 2, 1, 3, 3, 0, 0, 2, 0, 3, 0, 0, 1, 2, 1, 2, 2, 0, 0, 3, 0, 1, 2, 1, 1, 1, 2, 1, 1, 0, 0, 0, 3, 3, 3, 3, 1, 2, 0, 3, 3, 0, 2, 0, 0, 1, 3, 1, 3, 2, 1, 2, 2, 0, 3, 0, 0, 3, 1, 1, 2, 0, 3, 3, 1, 0, 0, 3, 1, 3, 1, 3, 1, 2, 2, 2, 0, 2, 3, 3, 2, 1, 1, 3, 3, 0, 1, 2, 1, 2, 2, 0, 3, 0, 0, 3, 1, 3, 1, 1, 2, 2, 1, 1, 2, 2, 0, 2, 1, 3, 0, 1, 2, 3, 0, 3, 3, 0, 2, 3, 2, 3, 1, 2, 3, 1, 1, 1, 3, 1, 2, 3, 3, 2, 2, 0, 3, 2, 1, 1, 3, 2, 1, 2, 2, 1, 2, 3, 3, 3, 1, 1, 3, 0, 3, 0, 1, 0, 3, 1, 0, 2, 3, 0, 2, 3, 3, 2, 0, 2, 2, 0, 0, 2, 0, 3, 2, 3, 1, 2, 1, 3, 2, 0, 0, 2, 1, 0, 1, 0, 2, 3, 3, 1, 1, 0, 1, 2, 1, 3, 3, 0, 1, 2, 1, 2, 3, 0, 2, 2, 0, 2, 3, 1, 1, 3, 0, 0, 3, 1, 3, 3, 0, 0, 0, 1, 0, 0, 3, 1, 3, 1, 2, 2, 0, 0, 2, 0, 2, 0, 3, 1, 3, 1, 1, 3, 3, 1, 3, 1, 0, 2, 3, 1, 3, 1, 2, 2, 3, 2, 2, 0, 3, 1, 3, 1, 2, 2, 0, 1, 2, 0, 2, 1, 1, 2, 2, 3, 3, 3, 2, 1, 2, 0, 2, 3, 0, 1, 3, 1, 3, 1, 1, 3, 3, 3, 1, 2, 0, 2, 1, 1, 2, 1, 3, 0, 0, 3, 2, 0, 3, 1, 1, 3, 2, 1, 1, 2, 0, 3, 3, 0, 3, 2, 2, 0, 1, 0, 1, 2, 0, 3, 2, 0, 0, 3, 0, 3, 1, 0, 2, 2, 1, 2, 3, 3, 0, 2, 2, 2, 1, 2, 3, 1, 1, 1, 0, 2, 3, 3, 3, 3, 2, 0, 1, 0, 3, 1, 1, 2, 0, 2, 0, 0, 1, 3, 1, 0, 0, 3, 2, 3, 3, 2, 2, 0, 1, 1, 0, 2, 2, 2, 0, 2, 3, 0, 0, 0, 1, 3, 0, 2, 0, 2, 1, 1, 3, 2, 0, 3, 2, 3, 3, 2, 3, 0, 2, 0, 1, 1, 3, 3, 2, 3, 3, 1, 0, 2, 1, 1, 1, 2, 0, 2, 1, 3, 0, 1, 2, 1, 0, 2, 0, 2, 0, 3, 1, 3, 3, 1, 3, 3, 1, 2, 1, 0, 3, 3, 1, 3, 2, 2, 1, 3, 1, 0, 1, 1, 3, 0, 2, 0, 1, 0, 2, 0, 1, 3, 0, 1, 1, 0, 3, 3, 2, 2, 0, 2, 2, 0, 3, 2, 0, 0, 2, 3, 0, 2, 1, 0, 2, 3, 2, 1, 0, 0, 1, 3, 3, 1, 0, 3, 1, 1, 2, 1, 0, 3, 1, 1, 3, 3, 2, 3, 2, 2, 2, 0, 2, 1, 1, 1, 0, 0, 3, 1, 3, 1, 3, 0, 3, 3, 2, 2, 2, 1, 0, 3, 2, 1, 1, 3, 0, 0, 1, 0, 2, 0, 2, 1, 2, 0, 2, 2, 1, 0, 2, 1, 3, 2, 0, 2, 0, 2, 0, 3, 0, 0, 3, 0, 0, 2, 3, 3, 1, 2, 3, 2, 2, 0, 1, 2, 0, 0, 2, 3, 1, 2, 0, 0, 2, 2, 0, 2, 1, 2, 0, 1, 3, 3, 1, 2, 0, 2, 0, 3, 3, 1, 0, 0, 1, 3, 3, 2, 0, 1, 2, 2, 0, 2, 3, 0, 2, 0, 3, 1, 1, 2, 1, 1, 0, 2, 0, 2, 0, 1, 0, 2, 3, 0, 2, 0, 2, 2, 1, 3, 3, 3, 0, 2, 3, 3, 2, 0, 2, 0, 3, 0, 2, 1, 3, 2, 2, 2, 2, 0, 2, 1, 2, 3, 0, 0, 3, 1, 1, 3, 1, 1, 3, 1, 1, 1, 3, 0, 3, 1, 3, 1, 2, 1, 1, 2, 0, 1, 3, 3, 2, 3, 3, 0, 2, 2, 0, 1, 3, 1, 2, 3, 1, 1, 1, 2, 3, 0, 2, 2, 0, 1, 2, 0, 1, 3, 0, 0, 3, 2, 1, 2, 1, 0, 2, 2, 3, 2, 0, 2, 3, 0, 0, 3, 0, 3, 1, 0, 3, 1, 2, 3, 1, 0, 1, 3, 2, 3, 2, 2, 3, 2, 0, 1, 2, 3, 2, 1, 0, 2, 1, 0, 2, 0, 3, 0, 0, 0, 0, 2, 2, 2, 0, 0, 0, 2, 3, 0, 2, 0, 0, 1, 3, 2, 1, 0, 3, 1, 3, 1, 2, 2, 2, 1, 0, 1, 2, 1, 2, 3, 0, 3, 1, 2, 2, 3, 3, 0, 0, 1, 0, 1, 1, 1, 3, 3, 2, 3, 0, 2, 0, 3, 3, 1, 2, 0, 2, 2, 0, 2, 3, 2, 2, 1, 3, 1, 2, 0, 1, 3, 1, 2, 0, 2, 3, 0, 0, 0, 2, 1, 3, 2, 3, 1, 2, 3, 0, 1, 0, 1, 1, 3, 3, 1, 1, 0, 1, 2, 0, 1, 2, 0, 0, 1, 3, 3, 0, 0, 1, 3, 0, 1, 2, 0, 3, 2, 0, 1, 1, 3, 0, 0, 0, 3, 3, 1, 3, 1, 0, 0, 1, 0, 0, 2, 0, 3, 1, 0, 2, 0, 0, 2, 1, 3, 3, 0, 3, 1, 1, 0, 0, 0, 3, 2, 0, 1, 0, 0, 0, 1, 0, 0, 3, 3, 0, 3, 0, 0, 2, 2, 3, 1, 0, 0, 2, 3, 0, 2, 3, 0, 2, 2, 0, 2, 0, 1, 1, 1, 1, 0, 2, 0, 2, 0, 1, 3, 1, 0, 0, 3, 1, 1, 3, 2, 1, 0, 3, 2, 0, 2, 0, 1, 2, 2, 3, 0, 0, 2, 0, 1, 3, 2, 0, 3, 1, 2, 0, 3, 1, 2, 0, 2, 0, 3, 1, 2, 0, 1, 2, 3, 2, 1, 0, 1, 1, 0, 2, 1, 3, 2, 1, 0, 0, 1, 2, 0, 2, 3, 2, 2, 0, 3, 3, 0, 0, 2, 0, 1, 2, 0, 1, 2, 3, 1, 1, 0, 3, 1, 3, 2, 0, 3, 1, 3, 2, 2, 1, 0, 3, 3, 3, 0, 3, 3, 1, 3, 1, 3, 1, 2, 0, 3, 1, 3, 1, 3, 1, 1, 2, 0, 2, 0, 1, 3, 3, 1, 2, 0, 1, 3, 3, 3, 1, 3, 1, 1, 2, 1, 1, 0, 2, 1, 3, 1, 3, 3, 3, 3, 0, 1, 2, 3, 2, 0, 0, 2, 1, 0, 1, 1, 3, 2, 3, 0, 1, 2, 3, 3, 2, 3, 1, 2, 0, 1, 3, 0, 0, 1, 3, 3, 1, 3, 1, 3, 1, 3, 1, 3, 1, 3, 1, 2, 1, 3, 0, 3, 1, 3, 1, 2, 1, 3, 0, 2, 0, 2, 0, 2, 0, 2, 1, 3, 1, 2, 3, 2, 0, 3, 1, 2, 3, 2, 2, 3, 3, 3, 0, 2, 3, 0, 2, 3, 1, 3, 1, 1, 0, 1, 0, 0, 0, 3, 1, 3, 1, 2, 0, 0, 2, 2, 0, 0, 2, 3, 1, 3, 3, 0, 2, 2, 2, 0, 3, 1, 2, 3, 0, 2, 3, 0, 1, 3, 1, 0, 0, 2, 1, 2, 2, 3, 3, 3, 0, 0, 0, 2, 3, 0, 2, 0, 2, 0, 2, 0, 3, 3, 2, 1, 0, 3, 1, 3, 1, 3, 1, 3, 2, 1, 1, 0, 2, 3, 0, 2, 3, 1, 3, 0, 2, 1, 0, 2, 3, 2, 2, 1, 2, 0, 3, 0, 0, 2, 2, 0, 2, 0, 0, 2, 0, 0, 1, 3, 1, 3, 2, 0, 1, 2, 3, 1, 1, 3, 0, 1, 1, 3, 2, 3, 3, 0, 2, 2, 0, 1, 0, 3, 1, 2, 1, 1, 2, 0, 0, 2, 0, 1, 3, 1, 1, 3, 3, 2, 3, 3, 3, 1, 3, 1, 0, 3, 1, 2, 3, 2, 2, 0, 2, 0, 0, 1, 0, 3, 1, 2, 0, 2, 3, 1, 0, 2, 0, 1, 3, 1, 2, 3, 0, 3, 2, 1, 0, 3, 2, 1, 3, 1, 0, 2, 0, 1, 2, 1, 2, 2, 2, 0, 0, 0, 3, 0, 2, 0, 3, 1, 2, 3, 3, 0, 1, 2, 0, 3, 2, 2, 2, 0, 0, 2, 0, 0, 2, 1, 3, 1, 3, 2, 2, 0, 0, 2, 2, 0, 0, 2, 0, 2, 2, 0, 2, 0, 0, 1, 3, 1, 3, 0, 1, 3, 1, 3, 2, 2, 2, 0, 0, 0, 1, 1, 2, 0, 1, 1, 3, 2, 2, 2, 1, 2, 2, 0, 3, 2, 2, 0, 0, 1, 3, 0, 0, 0, 2, 1, 2, 2, 1, 2, 2, 2, 2, 0, 1, 0, 3, 1, 0, 2, 1, 0, 3, 0, 3, 2, 0, 3, 3, 2, 0, 2, 2, 0, 0, 0, 1, 3, 0, 0, 2, 2, 0, 0, 0, 3, 2, 0, 3, 3, 2, 1, 3, 0, 1, 2, 3, 0, 2, 0, 2, 1, 3, 1, 3, 1, 3, 2, 0, 2, 2, 0, 0, 2, 0, 1, 0, 2, 0, 2, 3, 1, 0, 3, 1, 3, 2, 2, 2, 1, 2, 0, 2, 0, 3, 0, 2, 0, 0, 2, 2, 1, 2, 0, 3, 0, 2, 0, 0, 2, 2, 0, 2, 1, 2, 2, 2, 1, 1, 0, 1, 0, 0, 2, 2, 1, 0, 3, 0, 3, 2, 2, 2, 3, 3, 2, 3, 2, 2, 1, 0, 0, 0, 2, 0, 0, 2, 3, 0], fitness: 16.661016949152543, number_of_cp_reached: 9) (Path: [3, 1, 2, 3, 1, 2, 2, 3, 3, 3, 0, 1, 2, 2, 0, 3, 2, 2, 0, 2, 2, 0, 2, 2, 0, 0, 1, 3, 1, 1, 3, 1, 1, 3, 3, 0, 0, 2, 2, 0, 2, 0, 0, 1, 2, 3, 3, 1, 3, 2, 2, 0, 2, 0, 0, 0, 0, 0, 0, 2, 2, 2, 0, 2, 1, 3, 3, 1, 3, 3, 3, 2, 1, 2, 0, 0, 0, 0, 2, 0, 2, 2, 1, 1, 0, 1, 2, 3, 3, 1, 3, 1, 3, 3, 0, 0, 3, 1, 0, 2, 1, 0, 3, 1, 2, 0, 3, 1, 3, 1, 2, 3, 3, 0, 3, 3, 2, 0, 3, 0, 2, 1, 2, 0, 0, 2, 2, 0, 0, 1, 3, 0, 2, 3, 0, 2, 3, 2, 1, 3, 2, 1, 1, 0, 1, 0, 3, 2, 3, 2, 1, 3, 2, 0, 1, 0, 2, 3, 3, 1, 2, 0, 2, 0, 0, 2, 2, 2, 1, 2, 3, 1, 3, 0, 1, 2, 0, 2, 2, 1, 0, 3, 1, 1, 3, 2, 1, 3, 2, 1, 0, 0, 0, 0, 3, 0, 2, 0, 2, 1, 2, 2, 1, 3, 2, 2, 3, 2, 0, 2, 0, 2, 2, 2, 1, 1, 3, 2, 2, 3, 1, 2, 3, 1, 3, 2, 1, 3, 2, 0, 2, 2, 2, 3, 0, 3, 0, 1, 1, 1, 3, 3, 3, 1, 1, 3, 3, 1, 2, 0, 3, 1, 0, 0, 2, 0, 0, 0, 3, 0, 3, 0, 2, 0, 0, 0, 3, 0, 2, 3, 0, 3, 0, 1, 1, 0, 0, 3, 3, 1, 1, 1, 0, 1, 3, 0, 0, 3, 0, 0, 2, 0, 2, 0, 3, 1, 3, 1, 3, 1, 3, 1, 3, 1, 3, 1, 2, 2, 2, 3, 1, 1, 2, 3, 1, 3, 3, 2, 3, 3, 3, 1, 1, 0, 1, 1, 3, 0, 2, 3, 1, 1, 0, 2, 3, 3, 0, 3, 0, 0, 1, 3, 1, 3, 2, 0, 3, 3, 1, 3, 0, 2, 3, 0, 2, 2, 1, 1, 0, 2, 2, 0, 2, 2, 2, 2, 1, 0, 3, 2, 1, 3, 0, 2, 1, 2, 2, 1, 0, 0, 1, 3, 2, 3, 2, 0, 2, 2, 2, 3, 2, 2, 3, 0, 0, 0, 2, 0, 2, 1, 2, 0, 2, 0, 1, 0, 0, 0, 2, 0, 1, 1, 3, 0, 2, 0, 0, 1, 0, 2, 3, 2, 0, 1, 2, 0, 3, 1, 0, 3, 0, 2, 2, 0, 0, 2, 2, 3, 1, 3, 1, 1, 0, 1, 2, 1, 0, 3, 2, 0, 3, 1, 1, 2, 1, 0, 3, 1, 0, 2, 2, 2, 2, 1, 0, 3, 3, 0, 2, 0, 2, 3, 2, 0, 3, 2, 3, 2, 3, 1, 1, 0, 3, 2, 0, 2, 1, 1, 3, 3, 3, 2, 2, 1, 1, 3, 2, 0, 3, 3, 1, 3, 3, 3, 1, 1, 1, 0, 0, 1, 0, 0, 2, 3, 1, 3, 0, 1, 2, 2, 0, 3, 2, 1, 1, 3, 0, 1, 3, 0, 0, 2, 1, 2, 2, 3, 0, 2, 0, 0, 2, 0, 2, 2, 0, 2, 0, 0, 1, 3, 1, 2, 2, 0, 0, 2, 3, 2, 3, 0, 1, 3, 0, 1, 2, 3, 1, 2, 1, 1, 2, 1, 0, 2, 3, 1, 3, 1, 3, 2, 3, 2, 2, 2, 0, 2, 0, 3, 2, 2, 0, 3, 3, 2, 0, 2, 3, 2, 3, 1, 1, 0, 0, 2, 2, 2, 2, 1, 0, 3, 0, 0, 2, 1, 1, 3, 2, 2, 3, 0, 0, 1, 2, 3, 1, 2, 1, 2, 0, 3, 0, 3, 3, 1, 3, 1, 1, 2, 3, 2, 3, 2, 1, 3, 0, 2, 3, 1, 1, 3, 0, 2, 0, 1, 2, 0, 2, 1, 3, 0, 2, 0, 0, 1, 0, 3, 2, 2, 3, 2, 0, 1, 2, 0, 3, 2, 1, 1, 3, 1, 1, 3, 1, 0, 2, 3, 1, 3, 3, 1, 2, 0, 1, 3, 1, 3, 3, 0, 2, 0, 2, 1, 3, 1, 1, 0, 1, 3, 2, 0, 2, 0, 2, 3, 2, 2, 3, 1, 0, 0, 2, 0, 1, 3, 3, 0, 0, 2, 0, 2, 0, 3, 2, 3, 2, 1, 0, 3, 2, 0, 0, 2, 1, 2, 0, 0, 0, 1, 2, 1, 0, 0, 1, 2, 0, 1, 3, 3, 2, 3, 0, 2, 2, 1, 0, 2, 0, 1, 3, 3, 1, 2, 0, 2, 0, 1, 2, 2, 1, 0, 2, 2, 0, 3, 1, 3, 2, 0, 0, 3, 0, 3, 1, 3, 1, 2, 0, 1, 3, 0, 1, 3, 3, 0, 2, 1, 2, 2, 3, 0, 2, 0, 3, 1, 3, 2, 1, 2, 2, 0, 2, 1, 3, 1, 2, 2, 3, 1, 3, 2, 3, 2, 1, 0, 2, 3, 3, 2, 1, 0, 2, 0, 3, 2, 3, 3, 1, 0, 0, 1, 3, 0, 0, 1, 0, 2, 0, 2, 0, 0, 1, 1, 2, 3, 0, 3, 0, 2, 3, 2, 1, 2, 0, 2, 0, 1, 0, 2, 0, 1, 0, 1, 0, 0, 1, 2, 1, 1, 3, 0, 1, 2, 0, 2, 3, 0, 0, 2, 0, 2, 3, 3, 1, 3, 1, 0, 2, 2, 3, 3, 2, 1, 0, 2, 3, 1, 1, 0, 2, 0, 1, 2, 1, 1, 3, 1, 1, 2, 1, 1, 2, 3, 1, 3, 1, 0, 3, 0, 2, 3, 0, 2, 0, 1, 2, 3, 1, 1, 3, 3, 1, 3, 0, 3, 2, 1, 0, 3, 3, 0, 3, 0, 1, 2, 3, 1, 3, 0, 1, 2, 2, 3, 2, 1, 1, 3, 1, 3, 3, 0, 2, 3, 1, 1, 3, 3, 0, 3, 0, 3, 2, 0, 2, 1, 0, 1, 3, 0, 1, 2, 2, 0, 3, 1, 1, 2, 1, 2, 2, 0, 2, 2, 2, 1, 3, 3, 0, 2, 0, 1, 2, 2, 1, 3, 2, 3, 2, 1, 3, 3, 2, 1, 3, 0, 1, 3, 2, 1, 3, 3, 3, 1, 3, 1, 3, 3, 0, 2, 1, 0, 1, 1, 1, 3, 0, 2, 3, 0, 3, 1, 0, 1, 3, 0, 2, 3, 0, 2, 2, 1, 3, 1, 2, 2, 2, 1, 0, 2, 2, 3, 3, 1, 0, 0, 0, 3, 2, 1, 3, 1, 1, 1, 2, 1, 2, 2, 2, 0, 2, 3, 0, 3, 0, 2, 0, 0, 2, 3, 0, 0, 3, 3, 2, 0, 0, 2, 1, 3, 1, 1, 3, 3, 2, 0, 0, 2, 2, 0, 2, 2, 1, 1, 0, 0, 3, 0, 1, 2, 0, 3, 2, 1, 0, 2, 2, 2, 3, 1, 3, 2, 2, 1, 1, 1, 0, 0, 1, 3, 3, 1, 3, 0, 0, 1, 0, 0, 3, 0, 2, 0, 3, 2, 1, 3, 3, 0, 3, 3, 2, 1, 1, 2, 0, 0, 2, 3, 1, 3, 1, 3, 2, 0, 0, 0, 1, 3, 1, 1, 3, 2, 3, 1, 1, 3, 3, 1, 0, 1, 0, 0, 3, 0, 0, 1, 3, 3, 1, 2, 0, 1, 0, 3, 2, 2, 3, 3, 3, 1, 2, 3, 0, 0, 2, 1, 0, 2, 0, 0, 1, 1, 1, 2, 3, 1, 3, 0, 1, 2, 3, 0, 3, 1, 3, 0, 0, 2, 1, 3, 1, 2, 0, 2, 2, 3, 2, 2, 0, 2, 0, 0, 3, 0, 1, 2, 0, 0, 0, 1, 3, 0, 1, 0, 1, 1, 0, 0, 1, 0, 2, 3, 1, 1, 0, 3, 2, 0, 0, 3, 0, 0, 0, 0, 0, 2, 3, 0, 0, 0, 3, 3, 1, 1, 2, 0, 0, 2, 3, 3, 2, 3, 0, 2, 0, 0, 3, 3, 1, 3, 3, 1, 3, 3, 1, 3, 1, 1, 3, 1, 1, 3, 2, 0, 1, 1, 1, 2, 1, 2, 3, 3, 3, 3, 0, 2, 2, 0, 2, 2, 2, 2, 0, 1, 0, 1, 0, 2, 1, 2, 3, 3, 3, 0, 0, 0, 2, 0, 1, 2, 1, 2, 2, 0, 2, 2, 0, 0, 3, 2, 0, 2, 0, 0, 3, 0, 0, 2, 0, 0, 2, 2, 2, 0, 1, 2, 3, 0, 0, 3, 1, 2, 2, 2, 2, 2, 0, 0, 2, 0, 2, 0, 0, 0, 2, 2, 1, 2, 3, 1, 0, 2, 0, 2, 0, 3, 2, 0, 2, 0, 1, 2, 3, 0, 0, 2, 0, 0, 0, 3, 3, 0, 2, 0, 2, 3, 1, 0, 1, 3, 3, 2, 0, 2, 2, 0, 1, 0, 3, 1, 1, 2, 3, 0, 3, 1, 3, 1, 3, 2, 1, 3, 2, 2, 1, 2, 2, 2, 3, 2, 1, 0, 2, 0, 2, 2, 3, 1, 1, 3, 2, 2, 0, 0, 0, 3, 2, 0, 0, 1, 0, 3], fitness: 12.796610169491526, number_of_cp_reached: 9)\n",
            "(Path: [3, 2, 3, 2, 0, 0, 2, 2, 1, 3, 3, 1, 2, 2, 2, 3, 0, 0, 3, 1, 3, 3, 2, 0, 1, 1, 2, 0, 1, 3, 0, 2, 2, 0, 0, 1, 2, 0, 0, 2, 1, 3, 2, 0, 1, 3, 2, 1, 0, 0, 2, 2, 1, 0, 2, 0, 1, 3, 3, 1, 3, 3, 0, 2, 2, 1, 3, 3, 1, 0, 2, 1, 0, 0, 3, 3, 1, 0, 2, 1, 2, 3, 3, 2, 3, 1, 3, 1, 1, 1, 0, 0, 3, 2, 2, 0, 2, 3, 0, 0, 2, 0, 3, 3, 3, 1, 3, 3, 2, 0, 1, 2, 1, 0, 2, 3, 2, 0, 1, 2, 0, 3, 2, 0, 1, 0, 3, 3, 0, 2, 2, 1, 2, 0, 1, 3, 3, 0, 3, 1, 0, 3, 1, 2, 2, 0, 0, 2, 3, 3, 2, 0, 0, 2, 0, 3, 1, 0, 2, 1, 0, 2, 2, 3, 1, 0, 1, 3, 1, 2, 3, 0, 1, 3, 1, 0, 1, 3, 0, 3, 1, 0, 3, 2, 1, 2, 2, 0, 0, 3, 3, 2, 1, 2, 2, 0, 2, 3, 2, 0, 1, 1, 2, 0, 3, 3, 3, 1, 3, 3, 1, 3, 2, 1, 2, 3, 2, 0, 2, 0, 3, 3, 2, 2, 3, 1, 1, 2, 2, 1, 0, 2, 1, 2, 1, 1, 1, 3, 1, 0, 0, 1, 0, 3, 2, 0, 2, 3, 3, 1, 3, 1, 0, 1, 3, 1, 0, 1, 3, 3, 0, 2, 2, 2, 0, 1, 1, 2, 1, 2, 0, 2, 0, 3, 1, 0, 2, 3, 1, 3, 0, 2, 0, 0, 0, 0, 3, 0, 3, 1, 3, 0, 0, 1, 3, 3, 1, 2, 2, 0, 1, 2, 0, 2, 3, 0, 2, 3, 2, 2, 3, 1, 2, 0, 0, 0, 0, 3, 2, 2, 3, 1, 2, 0, 1, 0, 2, 0, 0, 3, 1, 0, 2, 1, 1, 0, 3, 0, 3, 1, 3, 2, 2, 2, 2, 0, 0, 1, 2, 1, 1, 2, 3, 1, 3, 1, 1, 2, 0, 3, 2, 0, 1, 3, 3, 1, 2, 0, 3, 0, 0, 3, 2, 3, 1, 1, 0, 0, 3, 0, 3, 1, 1, 1, 3, 1, 3, 3, 1, 0, 3, 2, 0, 2, 0, 2, 2, 1, 2, 2, 0, 3, 1, 2, 1, 3, 2, 0, 2, 0, 1, 3, 2, 1, 2, 2, 2, 3, 3, 1, 2, 2, 0, 3, 0, 0, 1, 1, 0, 0, 0, 3, 3, 3, 3, 2, 2, 0, 2, 0, 2, 0, 0, 2, 2, 3, 1, 1, 1, 2, 1, 1, 1, 3, 1, 0, 2, 3, 3, 3, 0, 2, 2, 0, 0, 2, 2, 0, 2, 2, 3, 1, 0, 3, 1, 3, 0, 1, 2, 0, 2, 2, 0, 2, 1, 0, 3, 2, 0, 1, 2, 2, 2, 2, 2, 3, 3, 0, 2, 0, 2, 2, 1, 1, 3, 0, 1, 3, 1, 3, 1, 0, 1, 3, 3, 0, 1, 3, 3, 1, 2, 0, 1, 1, 1, 2, 2, 1, 3, 0, 3, 3, 2, 2, 3, 1, 1, 3, 1, 2, 3, 0, 0, 3, 1, 3, 1, 1, 2, 3, 0, 1, 3, 2, 0, 3, 1, 3, 2, 0, 0, 1, 3, 1, 3, 2, 2, 2, 3, 1, 1, 3, 0, 2, 1, 1, 3, 2, 2, 3, 2, 0, 0, 2, 3, 1, 0, 2, 3, 1, 2, 0, 1, 0, 3, 1, 1, 3, 3, 2, 0, 2, 2, 0, 2, 0, 0, 2, 0, 0, 3, 1, 0, 1, 1, 3, 2, 3, 0, 2, 0, 3, 0, 0, 0, 3, 3, 1, 3, 2, 0, 1, 3, 0, 2, 1, 3, 3, 0, 0, 0, 1, 1, 1, 1, 3, 2, 3, 3, 0, 3, 0, 2, 2, 0, 3, 0, 0, 3, 1, 0, 3, 1, 0, 3, 3, 0, 1, 2, 1, 3, 0, 0, 0, 3, 1, 2, 2, 1, 3, 1, 1, 1, 0, 0, 2, 3, 1, 3, 1, 1, 0, 3, 1, 2, 3, 0, 1, 1, 3, 3, 2, 1, 0, 1, 3, 0, 2, 3, 0, 3, 1, 1, 2, 3, 0, 2, 2, 0, 0, 2, 1, 2, 2, 2, 0, 2, 3, 0, 3, 2, 2, 0, 0, 3, 1, 2, 2, 3, 0, 3, 2, 0, 2, 1, 3, 2, 1, 1, 1, 3, 2, 1, 3, 3, 2, 1, 1, 2, 3, 1, 3, 0, 1, 3, 3, 0, 0, 1, 1, 2, 2, 2, 3, 0, 3, 3, 1, 0, 1, 2, 1, 3, 3, 0, 1, 3, 1, 2, 3, 1, 2, 2, 2, 2, 3, 1, 1, 3, 3, 1, 3, 0, 1, 2, 1, 2, 2, 2, 2, 3, 0, 2, 2, 1, 1, 2, 0, 3, 2, 1, 3, 3, 1, 2, 2, 0, 3, 2, 0, 0, 3, 2, 3, 3, 3, 0, 1, 3, 0, 2, 3, 0, 2, 0, 3, 1, 1, 1, 2, 2, 1, 2, 2, 3, 2, 1, 1, 3, 3, 0, 2, 3, 3, 2, 1, 1, 1, 1, 2, 2, 2, 1, 3, 2, 0, 3, 0, 1, 2, 1, 3, 2, 2, 0, 3, 0, 0, 2, 0, 1, 2, 1, 3, 3, 0, 2, 2, 0, 0, 3, 0, 0, 2, 0, 2, 1, 1, 1, 2, 1, 1, 3, 1, 3, 2, 3, 1, 3, 3, 3, 0, 2, 0, 3, 0, 1, 3, 2, 0, 2, 0, 3, 2, 2, 0, 1, 3, 2, 2, 2, 2, 0, 1, 3, 2, 3, 1, 1, 1, 3, 0, 0, 1, 3, 3, 2, 1, 0, 2, 3, 0, 2, 1, 0, 2, 3, 2, 1, 0, 3, 1, 0, 1, 3, 3, 1, 3, 0, 3, 3, 1, 1, 0, 0, 3, 1, 1, 1, 1, 0, 3, 2, 0, 3, 2, 3, 2, 0, 1, 3, 3, 0, 3, 1, 0, 3, 3, 0, 1, 0, 1, 3, 1, 0, 2, 3, 0, 1, 3, 1, 0, 1, 1, 2, 0, 3, 2, 1, 0, 0, 3, 1, 0, 1, 0, 2, 3, 0, 1, 3, 3, 2, 0, 1, 3, 1, 0, 0, 2, 0, 0, 1, 3, 1, 3, 3, 1, 3, 0, 0, 3, 0, 3, 1, 1, 2, 1, 3, 3, 1, 0, 2, 3, 1, 2, 1, 3, 2, 1, 3, 1, 1, 1, 0, 2, 3, 1, 2, 0, 0, 2, 0, 1, 3, 0, 3, 0, 0, 2, 2, 3, 1, 1, 3, 0, 0, 3, 1, 2, 0, 3, 1, 0, 2, 2, 0, 2, 0, 0, 0, 1, 3, 2, 1, 0, 0, 0, 3, 1, 2, 3, 1, 0, 3, 0, 1, 1, 0, 1, 0, 1, 3, 0, 2, 0, 3, 1, 1, 3, 3, 1, 2, 1, 1, 3, 3, 1, 3, 2, 1, 3, 2, 1, 3, 2, 0, 3, 3, 3, 3, 0, 1, 3, 3, 0, 0, 3, 2, 2, 0, 2, 3, 2, 3, 2, 0, 1, 2, 2, 0, 3, 0, 2, 0, 0, 1, 2, 0, 2, 2, 2, 0, 2, 3, 2, 0, 0, 2, 0, 1, 3, 2, 1, 0, 3, 1, 2, 0, 0, 1, 3, 2, 3, 0, 2, 0, 2, 1, 0, 3, 0, 0, 3, 1, 2, 0, 3, 3, 0, 1, 1, 3, 1, 1, 3, 1, 1, 3, 1, 2, 0, 1, 2, 3, 1, 1, 3, 2, 0, 3, 2, 0, 2, 0, 0, 2, 0, 2, 2, 3, 1, 2, 3, 3, 0, 0, 0, 2, 0, 3, 2, 0, 3, 3, 1, 3, 2, 0, 2, 2, 0, 1, 3, 0, 2, 1, 1, 0, 3, 3, 1, 2, 0, 3, 1, 3, 1, 2, 0, 3, 2, 2, 0, 1, 0, 2, 3, 0, 2, 1, 0, 1, 2, 3, 0, 2, 0, 2, 0, 1, 1, 2, 0, 2, 2, 0, 0, 3, 2, 0, 3, 1, 1, 3, 3, 3, 2, 1, 0, 3, 1, 3, 1, 2, 1, 0, 1, 3, 3, 1, 2, 3, 3, 1, 0, 1, 2, 0, 1, 1, 1, 1, 3, 2, 0, 2, 2, 2, 1, 3, 3, 2, 3, 0, 1, 2, 0, 0, 2, 2, 1, 2, 1, 0, 3, 3, 1, 2, 3, 1, 2, 0, 3, 0, 1, 2, 2, 1, 2, 0, 3, 0, 2, 0, 1, 2, 2, 0, 0, 2, 1, 3, 3, 0, 3, 0, 2, 0, 3, 1, 3, 2, 2, 3, 1, 0, 2, 0, 1, 3, 2, 0, 0, 1, 0, 2, 0, 1, 2, 3, 2, 3, 2, 3, 3, 2, 3, 0, 2, 0, 0], fitness: 12.389830508474576, number_of_cp_reached: 9) (Path: [2, 3, 3, 2, 0, 0, 3, 1, 3, 2, 0, 2, 3, 3, 2, 2, 0, 2, 3, 2, 1, 3, 1, 2, 3, 0, 0, 0, 2, 0, 2, 0, 3, 0, 1, 3, 3, 0, 0, 1, 2, 3, 1, 1, 0, 2, 3, 2, 2, 0, 0, 2, 1, 1, 3, 3, 0, 2, 3, 1, 3, 0, 3, 2, 2, 0, 1, 0, 0, 2, 1, 0, 2, 1, 3, 2, 0, 0, 3, 2, 1, 2, 1, 0, 2, 1, 0, 3, 1, 3, 2, 0, 1, 2, 2, 0, 3, 2, 1, 3, 1, 0, 3, 1, 2, 3, 0, 3, 2, 0, 3, 0, 2, 0, 2, 3, 0, 2, 1, 1, 3, 0, 1, 2, 0, 2, 3, 1, 1, 2, 2, 0, 3, 1, 2, 0, 3, 0, 2, 1, 2, 2, 3, 2, 3, 0, 1, 3, 1, 1, 3, 1, 2, 2, 0, 2, 0, 2, 1, 3, 0, 0, 3, 3, 0, 2, 0, 2, 1, 1, 2, 3, 0, 2, 2, 3, 0, 1, 2, 2, 0, 0, 2, 3, 1, 0, 3, 3, 1, 1, 2, 2, 0, 1, 1, 2, 1, 3, 0, 2, 0, 2, 0, 3, 3, 1, 3, 3, 0, 3, 2, 1, 3, 2, 3, 3, 2, 2, 2, 2, 2, 0, 2, 2, 2, 2, 1, 0, 2, 3, 0, 1, 0, 0, 1, 1, 2, 1, 1, 0, 2, 2, 1, 2, 0, 1, 3, 1, 1, 2, 3, 1, 3, 1, 2, 3, 2, 1, 0, 2, 0, 3, 0, 0, 3, 1, 3, 3, 1, 2, 2, 3, 1, 3, 0, 1, 2, 3, 1, 3, 2, 0, 3, 2, 1, 3, 2, 0, 0, 2, 1, 3, 3, 1, 0, 2, 0, 0, 3, 2, 0, 3, 3, 0, 2, 0, 3, 0, 3, 1, 0, 2, 0, 0, 0, 0, 0, 1, 0, 1, 3, 0, 3, 3, 0, 0, 0, 0, 1, 2, 1, 1, 3, 0, 3, 2, 0, 3, 2, 0, 0, 2, 1, 1, 3, 1, 2, 0, 0, 3, 1, 0, 1, 3, 3, 3, 2, 0, 1, 0, 1, 2, 0, 0, 2, 1, 0, 1, 1, 3, 3, 2, 0, 0, 2, 0, 2, 1, 3, 1, 3, 3, 1, 0, 3, 3, 1, 2, 1, 1, 3, 1, 3, 3, 3, 1, 2, 0, 1, 3, 2, 1, 2, 3, 3, 3, 1, 2, 0, 0, 0, 2, 0, 1, 2, 2, 0, 2, 0, 0, 2, 0, 2, 2, 0, 3, 2, 0, 0, 0, 1, 3, 3, 1, 2, 2, 0, 0, 3, 1, 2, 0, 2, 0, 3, 1, 3, 1, 3, 1, 2, 0, 2, 0, 3, 1, 2, 0, 3, 1, 1, 1, 3, 1, 3, 3, 3, 1, 3, 1, 1, 2, 3, 1, 2, 0, 3, 2, 3, 1, 2, 0, 3, 2, 2, 0, 2, 3, 0, 2, 3, 0, 2, 2, 0, 1, 3, 2, 2, 1, 0, 2, 0, 3, 2, 2, 1, 2, 1, 3, 0, 2, 1, 3, 0, 1, 3, 2, 0, 1, 2, 2, 0, 0, 0, 2, 2, 0, 3, 1, 2, 2, 2, 2, 3, 2, 1, 2, 3, 0, 3, 1, 0, 0, 1, 2, 2, 2, 1, 3, 0, 0, 2, 3, 2, 3, 1, 3, 0, 1, 0, 2, 2, 2, 2, 0, 0, 3, 0, 3, 2, 3, 3, 2, 1, 1, 2, 3, 3, 1, 1, 2, 1, 0, 2, 2, 3, 2, 0, 0, 3, 2, 3, 1, 2, 1, 0, 1, 3, 1, 0, 2, 3, 1, 1, 0, 3, 3, 1, 3, 2, 1, 3, 1, 0, 3, 1, 2, 0, 2, 0, 3, 2, 2, 2, 3, 3, 2, 0, 2, 0, 0, 2, 2, 0, 2, 0, 0, 2, 1, 0, 0, 2, 3, 0, 2, 3, 0, 2, 1, 2, 2, 0, 2, 0, 1, 3, 1, 1, 0, 2, 3, 1, 1, 2, 0, 2, 0, 1, 0, 0, 1, 3, 1, 0, 2, 1, 2, 2, 3, 1, 2, 2, 3, 2, 3, 1, 2, 0, 1, 2, 0, 1, 2, 3, 1, 2, 1, 2, 2, 1, 0, 2, 3, 1, 3, 3, 2, 3, 1, 1, 2, 0, 2, 2, 3, 1, 3, 3, 1, 3, 0, 2, 3, 3, 3, 3, 0, 0, 1, 0, 1, 3, 1, 1, 3, 0, 3, 3, 3, 1, 3, 0, 0, 0, 2, 2, 0, 3, 0, 1, 1, 2, 3, 0, 3, 1, 2, 3, 0, 3, 0, 0, 3, 1, 1, 0, 1, 1, 0, 3, 0, 1, 1, 3, 1, 3, 3, 0, 0, 0, 1, 0, 3, 0, 1, 0, 2, 3, 0, 2, 3, 0, 0, 3, 1, 2, 1, 0, 2, 2, 0, 2, 2, 1, 0, 1, 3, 0, 0, 3, 1, 1, 0, 0, 3, 1, 2, 0, 0, 0, 2, 0, 1, 1, 0, 1, 2, 3, 2, 3, 0, 1, 0, 0, 1, 3, 3, 1, 2, 3, 3, 3, 3, 3, 0, 0, 3, 1, 0, 2, 2, 1, 3, 0, 0, 0, 0, 1, 2, 1, 2, 0, 2, 2, 0, 0, 2, 3, 1, 3, 0, 0, 3, 2, 2, 3, 2, 2, 2, 0, 1, 3, 1, 1, 2, 0, 1, 2, 3, 2, 0, 1, 2, 0, 3, 2, 3, 2, 3, 1, 2, 2, 0, 2, 2, 3, 3, 0, 0, 3, 1, 3, 1, 3, 1, 2, 2, 3, 1, 2, 0, 3, 3, 0, 2, 0, 0, 3, 1, 0, 0, 1, 1, 0, 0, 0, 0, 0, 3, 0, 2, 0, 2, 1, 2, 1, 2, 2, 0, 1, 3, 1, 0, 3, 2, 3, 2, 2, 0, 0, 0, 2, 0, 1, 3, 2, 0, 0, 3, 0, 1, 2, 0, 1, 3, 1, 3, 2, 0, 3, 2, 1, 3, 3, 1, 0, 2, 1, 2, 2, 0, 0, 3, 0, 2, 0, 2, 0, 3, 2, 3, 1, 0, 1, 2, 0, 2, 3, 0, 2, 0, 3, 2, 2, 0, 1, 0, 2, 0, 3, 2, 1, 3, 1, 3, 2, 2, 0, 2, 1, 2, 2, 3], fitness: 8.76271186440678, number_of_cp_reached: 9)\n",
            "(Path: [2, 3, 3, 2, 0, 0, 3, 1, 3, 2, 0, 2, 3, 3, 2, 2, 0, 2, 3, 2, 1, 3, 1, 2, 3, 0, 0, 0, 2, 0, 2, 0, 3, 0, 1, 3, 3, 0, 0, 1, 2, 3, 1, 1, 0, 2, 3, 2, 2, 0, 0, 2, 1, 1, 3, 3, 0, 2, 3, 1, 3, 0, 3, 2, 2, 0, 1, 0, 0, 2, 1, 0, 2, 1, 3, 2, 0, 0, 3, 2, 1, 2, 1, 0, 2, 1, 0, 3, 1, 3, 2, 0, 1, 2, 2, 0, 3, 2, 1, 3, 1, 0, 3, 1, 2, 3, 0, 3, 2, 0, 3, 0, 2, 0, 2, 3, 0, 2, 1, 1, 3, 0, 1, 2, 0, 2, 3, 1, 1, 2, 2, 0, 3, 1, 2, 0, 3, 0, 2, 1, 2, 2, 3, 2, 3, 0, 1, 3, 1, 1, 3, 1, 2, 2, 0, 2, 0, 2, 1, 3, 0, 0, 3, 3, 0, 2, 0, 2, 1, 1, 2, 3, 0, 2, 2, 3, 0, 1, 2, 2, 0, 0, 2, 3, 1, 0, 3, 3, 1, 1, 2, 2, 0, 1, 1, 2, 1, 3, 0, 2, 0, 2, 0, 3, 3, 1, 3, 3, 0, 3, 2, 1, 3, 2, 3, 3, 2, 2, 2, 2, 2, 0, 2, 2, 2, 2, 1, 0, 2, 3, 0, 1, 0, 0, 1, 1, 2, 1, 1, 0, 2, 2, 1, 2, 0, 1, 3, 1, 1, 2, 3, 1, 3, 1, 2, 3, 2, 1, 0, 2, 0, 3, 0, 0, 3, 1, 3, 3, 1, 2, 2, 3, 1, 3, 0, 1, 2, 3, 1, 3, 2, 0, 3, 2, 1, 3, 2, 0, 0, 2, 1, 3, 3, 1, 0, 2, 0, 0, 3, 2, 0, 3, 3, 0, 2, 0, 3, 0, 3, 1, 0, 2, 0, 0, 0, 0, 0, 1, 0, 1, 3, 0, 3, 3, 0, 0, 0, 0, 1, 2, 1, 1, 3, 0, 3, 2, 0, 3, 2, 0, 0, 2, 1, 1, 3, 1, 2, 0, 0, 3, 1, 0, 1, 3, 3, 3, 2, 0, 1, 0, 1, 2, 0, 0, 2, 1, 0, 1, 1, 3, 3, 2, 0, 0, 2, 0, 2, 1, 3, 1, 3, 3, 1, 0, 3, 3, 1, 2, 1, 1, 3, 1, 3, 3, 3, 1, 2, 0, 1, 3, 2, 1, 2, 3, 3, 3, 1, 2, 0, 0, 0, 2, 0, 1, 2, 2, 0, 2, 0, 0, 2, 0, 2, 2, 0, 3, 2, 0, 0, 0, 1, 3, 3, 1, 2, 2, 0, 0, 3, 1, 2, 0, 2, 0, 3, 1, 3, 1, 3, 1, 2, 0, 2, 0, 3, 1, 2, 0, 3, 1, 1, 1, 3, 1, 3, 3, 3, 1, 3, 1, 1, 2, 3, 1, 2, 0, 3, 2, 3, 1, 2, 0, 3, 2, 2, 0, 2, 3, 0, 2, 3, 0, 2, 2, 0, 1, 3, 2, 2, 1, 0, 2, 0, 3, 2, 2, 1, 2, 1, 3, 0, 2, 1, 3, 0, 1, 3, 2, 0, 1, 2, 2, 0, 0, 0, 2, 2, 0, 3, 1, 2, 2, 2, 2, 3, 2, 1, 2, 3, 0, 3, 1, 0, 0, 1, 2, 2, 2, 1, 3, 0, 0, 2, 3, 2, 3, 1, 3, 0, 1, 0, 2, 2, 2, 2, 0, 0, 3, 0, 3, 2, 3, 3, 2, 1, 1, 2, 3, 3, 1, 1, 2, 1, 0, 2, 2, 3, 2, 0, 0, 3, 2, 3, 1, 2, 1, 0, 1, 3, 1, 0, 2, 3, 1, 1, 0, 3, 3, 1, 3, 2, 1, 3, 1, 0, 3, 1, 2, 0, 2, 0, 3, 2, 2, 2, 3, 3, 2, 0, 2, 0, 0, 2, 2, 0, 2, 0, 0, 2, 1, 0, 0, 2, 3, 0, 2, 3, 0, 2, 1, 2, 2, 0, 2, 0, 1, 3, 1, 1, 0, 2, 3, 1, 1, 2, 0, 2, 0, 1, 0, 0, 1, 3, 1, 0, 2, 1, 2, 2, 3, 1, 2, 2, 3, 2, 3, 1, 2, 0, 1, 2, 0, 1, 2, 3, 1, 2, 1, 2, 2, 1, 0, 2, 3, 1, 3, 3, 2, 3, 1, 1, 2, 0, 2, 2, 3, 1, 3, 3, 1, 3, 0, 2, 3, 3, 3, 3, 0, 0, 1, 0, 1, 3, 1, 1, 3, 0, 3, 3, 3, 1, 3, 0, 0, 0, 2, 2, 0, 3, 0, 1, 1, 2, 3, 0, 3, 1, 2, 3, 0, 3, 0, 0, 3, 1, 1, 0, 1, 1, 0, 3, 0, 1, 1, 3, 1, 3, 3, 0, 0, 0, 1, 0, 3, 0, 1, 0, 2, 3, 0, 2, 3, 0, 0, 3, 1, 2, 1, 0, 2, 2, 0, 2, 2, 1, 0, 1, 3, 0, 0, 3, 1, 1, 0, 0, 3, 1, 2, 0, 0, 0, 2, 0, 1, 1, 0, 1, 2, 3, 2, 3, 0, 1, 0, 0, 1, 3, 3, 1, 2, 3, 3, 3, 3, 3, 0, 0, 3, 1, 0, 2, 2, 1, 3, 0, 0, 0, 0, 1, 2, 1, 2, 0, 2, 2, 0, 0, 2, 3, 1, 3, 0, 0, 3, 2, 2, 3, 2, 2, 2, 0, 1, 3, 1, 1, 2, 0, 1, 2, 3, 2, 0, 1, 2, 0, 3, 2, 3, 2, 3, 1, 2, 2, 0, 2, 2, 3, 3, 0, 0, 3, 1, 3, 1, 3, 1, 2, 2, 3, 1, 2, 0, 3, 3, 0, 2, 0, 0, 3, 1, 0, 0, 1, 1, 0, 0, 0, 0, 0, 3, 0, 2, 0, 2, 1, 2, 1, 2, 2, 0, 1, 3, 1, 0, 3, 2, 3, 2, 2, 0, 0, 0, 2, 0, 1, 3, 2, 0, 0, 3, 0, 1, 2, 0, 1, 3, 1, 3, 2, 0, 3, 2, 1, 3, 3, 1, 0, 2, 1, 2, 2, 0, 0, 3, 0, 2, 0, 2, 0, 3, 2, 3, 1, 0, 1, 2, 0, 2, 3, 0, 2, 0, 3, 2, 2, 0, 1, 0, 2, 0, 3, 2, 1, 3, 1, 3, 2, 2, 0, 2, 1, 2, 2, 3], fitness: 8.76271186440678, number_of_cp_reached: 9) (Path: [3, 2, 3, 2, 0, 0, 2, 2, 1, 3, 3, 1, 2, 2, 2, 3, 0, 0, 3, 1, 3, 3, 2, 0, 1, 1, 2, 0, 1, 3, 0, 2, 2, 0, 0, 1, 2, 0, 0, 2, 1, 3, 2, 0, 1, 3, 2, 1, 0, 0, 2, 2, 1, 0, 2, 0, 1, 3, 3, 1, 3, 3, 0, 2, 2, 1, 3, 3, 1, 0, 2, 1, 0, 0, 3, 3, 1, 0, 2, 1, 2, 3, 3, 2, 3, 1, 3, 1, 1, 1, 0, 0, 3, 2, 2, 0, 2, 3, 0, 0, 2, 0, 3, 3, 3, 1, 3, 3, 2, 0, 1, 2, 1, 0, 2, 3, 2, 0, 1, 2, 0, 3, 2, 0, 1, 0, 3, 3, 0, 2, 2, 1, 2, 0, 1, 3, 3, 0, 3, 1, 0, 3, 1, 2, 2, 0, 0, 2, 3, 3, 2, 0, 0, 2, 0, 3, 1, 0, 2, 1, 0, 2, 2, 3, 1, 0, 1, 3, 1, 2, 3, 0, 1, 3, 1, 0, 1, 3, 0, 3, 1, 0, 3, 2, 1, 2, 2, 0, 0, 3, 3, 2, 1, 2, 2, 0, 2, 3, 2, 0, 1, 1, 2, 0, 3, 3, 3, 1, 3, 3, 1, 3, 2, 1, 2, 3, 2, 0, 2, 0, 3, 3, 2, 2, 3, 1, 1, 2, 2, 1, 0, 2, 1, 2, 1, 1, 1, 3, 1, 0, 0, 1, 0, 3, 2, 0, 2, 3, 3, 1, 3, 1, 0, 1, 3, 1, 0, 1, 3, 3, 0, 2, 2, 2, 0, 1, 1, 2, 1, 2, 0, 2, 0, 3, 1, 0, 2, 3, 1, 3, 0, 2, 0, 0, 0, 0, 3, 0, 3, 1, 3, 0, 0, 1, 3, 3, 1, 2, 2, 0, 1, 2, 0, 2, 3, 0, 2, 3, 2, 2, 3, 1, 2, 0, 0, 0, 0, 3, 2, 2, 3, 1, 2, 0, 1, 0, 2, 0, 0, 3, 1, 0, 2, 1, 1, 0, 3, 0, 3, 1, 3, 2, 2, 2, 2, 0, 0, 1, 2, 1, 1, 2, 3, 1, 3, 1, 1, 2, 0, 3, 2, 0, 1, 3, 3, 1, 2, 0, 3, 0, 0, 3, 2, 3, 1, 1, 0, 0, 3, 0, 3, 1, 1, 1, 3, 1, 3, 3, 1, 0, 3, 2, 0, 2, 0, 2, 2, 1, 2, 2, 0, 3, 1, 2, 1, 3, 2, 0, 2, 0, 1, 3, 2, 1, 2, 2, 2, 3, 3, 1, 2, 2, 0, 3, 0, 0, 1, 1, 0, 0, 0, 3, 3, 3, 3, 2, 2, 0, 2, 0, 2, 0, 0, 2, 2, 3, 1, 1, 1, 2, 1, 1, 1, 3, 1, 0, 2, 3, 3, 3, 0, 2, 2, 0, 0, 2, 2, 0, 2, 2, 3, 1, 0, 3, 1, 3, 0, 1, 2, 0, 2, 2, 0, 2, 1, 0, 3, 2, 0, 1, 2, 2, 2, 2, 2, 3, 3, 0, 2, 0, 2, 2, 1, 1, 3, 0, 1, 3, 1, 3, 1, 0, 1, 3, 3, 0, 1, 3, 3, 1, 2, 0, 1, 1, 1, 2, 2, 1, 3, 0, 3, 3, 2, 2, 3, 1, 1, 3, 1, 2, 3, 0, 0, 3, 1, 3, 1, 1, 2, 3, 0, 1, 3, 2, 0, 3, 1, 3, 2, 0, 0, 1, 3, 1, 3, 2, 2, 2, 3, 1, 1, 3, 0, 2, 1, 1, 3, 2, 2, 3, 2, 0, 0, 2, 3, 1, 0, 2, 3, 1, 2, 0, 1, 0, 3, 1, 1, 3, 3, 2, 0, 2, 2, 0, 2, 0, 0, 2, 0, 0, 3, 1, 0, 1, 1, 3, 2, 3, 0, 2, 0, 3, 0, 0, 0, 3, 3, 1, 3, 2, 0, 1, 3, 0, 2, 1, 3, 3, 0, 0, 0, 1, 1, 1, 1, 3, 2, 3, 3, 0, 3, 0, 2, 2, 0, 3, 0, 0, 3, 1, 0, 3, 1, 0, 3, 3, 0, 1, 2, 1, 3, 0, 0, 0, 3, 1, 2, 2, 1, 3, 1, 1, 1, 0, 0, 2, 3, 1, 3, 1, 1, 0, 3, 1, 2, 3, 0, 1, 1, 3, 3, 2, 1, 0, 1, 3, 0, 2, 3, 0, 3, 1, 1, 2, 3, 0, 2, 2, 0, 0, 2, 1, 2, 2, 2, 0, 2, 3, 0, 3, 2, 2, 0, 0, 3, 1, 2, 2, 3, 0, 3, 2, 0, 2, 1, 3, 2, 1, 1, 1, 3, 2, 1, 3, 3, 2, 1, 1, 2, 3, 1, 3, 0, 1, 3, 3, 0, 0, 1, 1, 2, 2, 2, 3, 0, 3, 3, 1, 0, 1, 2, 1, 3, 3, 0, 1, 3, 1, 2, 3, 1, 2, 2, 2, 2, 3, 1, 1, 3, 3, 1, 3, 0, 1, 2, 1, 2, 2, 2, 2, 3, 0, 2, 2, 1, 1, 2, 0, 3, 2, 1, 3, 3, 1, 2, 2, 0, 3, 2, 0, 0, 3, 2, 3, 3, 3, 0, 1, 3, 0, 2, 3, 0, 2, 0, 3, 1, 1, 1, 2, 2, 1, 2, 2, 3, 2, 1, 1, 3, 3, 0, 2, 3, 3, 2, 1, 1, 1, 1, 2, 2, 2, 1, 3, 2, 0, 3, 0, 1, 2, 1, 3, 2, 2, 0, 3, 0, 0, 2, 0, 1, 2, 1, 3, 3, 0, 2, 2, 0, 0, 3, 0, 0, 2, 0, 2, 1, 1, 1, 2, 1, 1, 3, 1, 3, 2, 3, 1, 3, 3, 3, 0, 2, 0, 3, 0, 1, 3, 2, 0, 2, 0, 3, 2, 2, 0, 1, 3, 2, 2, 2, 2, 0, 1, 3, 2, 3, 1, 1, 1, 3, 0, 0, 1, 3, 3, 2, 1, 0, 2, 3, 0, 2, 1, 0, 2, 3, 2, 1, 0, 3, 1, 0, 1, 3, 3, 1, 3, 0, 3, 3, 1, 1, 0, 0, 3, 1, 1, 1, 1, 0, 3, 2, 0, 3, 2, 3, 2, 0, 1, 3, 3, 0, 3, 1, 0, 3, 3, 0, 1, 0, 1, 3, 1, 0, 2, 3, 0, 1, 3, 1, 0, 1, 1, 2, 0, 3, 2, 1, 0, 0, 3, 1, 0, 1, 0, 2, 3, 0, 1, 3, 3, 2, 0, 1, 3, 1, 0, 0, 2, 0, 0, 1, 3, 1, 3, 3, 1, 3, 0, 0, 3, 0, 3, 1, 1, 2, 1, 3, 3, 1, 0, 2, 3, 1, 2, 1, 3, 2, 1, 3, 1, 1, 1, 0, 2, 3, 1, 2, 0, 0, 2, 0, 1, 3, 0, 3, 0, 0, 2, 2, 3, 1, 1, 3, 0, 0, 3, 1, 2, 0, 3, 1, 0, 2, 2, 0, 2, 0, 0, 0, 1, 3, 2, 1, 0, 0, 0, 3, 1, 2, 3, 1, 0, 3, 0, 1, 1, 0, 1, 0, 1, 3, 0, 2, 0, 3, 1, 1, 3, 3, 1, 2, 1, 1, 3, 3, 1, 3, 2, 1, 3, 2, 1, 3, 2, 0, 3, 3, 3, 3, 0, 1, 3, 3, 0, 0, 3, 2, 2, 0, 2, 3, 2, 3, 2, 0, 1, 2, 2, 0, 3, 0, 2, 0, 0, 1, 2, 0, 2, 2, 2, 0, 2, 3, 2, 0, 0, 2, 0, 1, 3, 2, 1, 0, 3, 1, 2, 0, 0, 1, 3, 2, 3, 0, 2, 0, 2, 1, 0, 3, 0, 0, 3, 1, 2, 0, 3, 3, 0, 1, 1, 3, 1, 1, 3, 1, 1, 3, 1, 2, 0, 1, 2, 3, 1, 1, 3, 2, 0, 3, 2, 0, 2, 0, 0, 2, 0, 2, 2, 3, 1, 2, 3, 3, 0, 0, 0, 2, 0, 3, 2, 0, 3, 3, 1, 3, 2, 0, 2, 2, 0, 1, 3, 0, 2, 1, 1, 0, 3, 3, 1, 2, 0, 3, 1, 3, 1, 2, 0, 3, 2, 2, 0, 1, 0, 2, 3, 0, 2, 1, 0, 1, 2, 3, 0, 2, 0, 2, 0, 1, 1, 2, 0, 2, 2, 0, 0, 3, 2, 0, 3, 1, 1, 3, 3, 3, 2, 1, 0, 3, 1, 3, 1, 2, 1, 0, 1, 3, 3, 1, 2, 3, 3, 1, 0, 1, 2, 0, 1, 1, 1, 1, 3, 2, 0, 2, 2, 2, 1, 3, 3, 2, 3, 0, 1, 2, 0, 0, 2, 2, 1, 2, 1, 0, 3, 3, 1, 2, 3, 1, 2, 0, 3, 0, 1, 2, 2, 1, 2, 0, 3, 0, 2, 0, 1, 2, 2, 0, 0, 2, 1, 3, 3, 0, 3, 0, 2, 0, 3, 1, 3, 2, 2, 3, 1, 0, 2, 0, 1, 3, 2, 0, 0, 1, 0, 2, 0, 1, 2, 3, 2, 3, 2, 3, 3, 2, 3, 0, 2, 0, 0], fitness: 12.389830508474576, number_of_cp_reached: 9)\n",
            "(Path: [3, 1, 2, 3, 1, 2, 2, 3, 3, 3, 0, 1, 2, 2, 0, 3, 2, 2, 0, 2, 2, 0, 2, 2, 0, 0, 1, 3, 1, 1, 3, 1, 1, 3, 3, 0, 0, 2, 2, 0, 2, 0, 0, 1, 2, 3, 3, 1, 3, 2, 2, 0, 2, 0, 0, 0, 0, 0, 0, 2, 2, 2, 0, 2, 1, 3, 3, 1, 3, 3, 3, 2, 1, 2, 0, 0, 0, 0, 2, 0, 2, 2, 1, 1, 0, 1, 2, 3, 3, 1, 3, 1, 3, 3, 0, 0, 3, 1, 0, 2, 1, 0, 3, 1, 2, 0, 3, 1, 3, 1, 2, 3, 3, 0, 3, 3, 2, 0, 3, 0, 2, 1, 2, 0, 0, 2, 2, 0, 0, 1, 3, 0, 2, 3, 0, 2, 3, 2, 1, 3, 2, 1, 1, 0, 1, 0, 3, 2, 3, 2, 1, 3, 2, 0, 1, 0, 2, 3, 3, 1, 2, 0, 2, 0, 0, 2, 2, 2, 1, 2, 3, 1, 3, 0, 1, 2, 0, 2, 2, 1, 0, 3, 1, 1, 3, 2, 1, 3, 2, 1, 0, 0, 0, 0, 3, 0, 2, 0, 2, 1, 2, 2, 1, 3, 2, 2, 3, 2, 0, 2, 0, 2, 2, 2, 1, 1, 3, 2, 2, 3, 1, 2, 3, 1, 3, 2, 1, 3, 2, 0, 2, 2, 2, 3, 0, 3, 0, 1, 1, 1, 3, 3, 3, 1, 1, 3, 3, 1, 2, 0, 3, 1, 0, 0, 2, 0, 0, 0, 3, 0, 3, 0, 2, 0, 0, 0, 3, 0, 2, 3, 0, 3, 0, 1, 1, 0, 0, 3, 3, 1, 1, 1, 0, 1, 3, 0, 0, 3, 0, 0, 2, 0, 2, 0, 3, 1, 3, 1, 3, 1, 3, 1, 3, 1, 3, 1, 2, 2, 2, 3, 1, 1, 2, 3, 1, 3, 3, 2, 3, 3, 3, 1, 1, 0, 1, 1, 3, 0, 2, 3, 1, 1, 0, 2, 3, 3, 0, 3, 0, 0, 1, 3, 1, 3, 2, 0, 3, 3, 1, 3, 0, 2, 3, 0, 2, 2, 1, 1, 0, 2, 2, 0, 2, 2, 2, 2, 1, 0, 3, 2, 1, 3, 0, 2, 1, 2, 2, 1, 0, 0, 1, 3, 2, 3, 2, 0, 2, 2, 2, 3, 2, 2, 3, 0, 0, 0, 2, 0, 2, 1, 2, 0, 2, 0, 1, 0, 0, 0, 2, 0, 1, 1, 3, 0, 2, 0, 0, 1, 0, 2, 3, 2, 0, 1, 2, 0, 3, 1, 0, 3, 0, 2, 2, 0, 0, 2, 2, 3, 1, 3, 1, 1, 0, 1, 2, 1, 0, 3, 2, 0, 3, 1, 1, 2, 1, 0, 3, 1, 0, 2, 2, 2, 2, 1, 0, 3, 3, 0, 2, 0, 2, 3, 2, 0, 3, 2, 3, 2, 3, 1, 1, 0, 3, 2, 0, 2, 1, 1, 3, 3, 3, 2, 2, 1, 1, 3, 2, 0, 3, 3, 1, 3, 3, 3, 1, 1, 1, 0, 0, 1, 0, 0, 2, 3, 1, 3, 0, 1, 2, 2, 0, 3, 2, 1, 1, 3, 0, 1, 3, 0, 0, 2, 1, 2, 2, 3, 0, 2, 0, 0, 2, 0, 2, 2, 0, 2, 0, 0, 1, 3, 1, 2, 2, 0, 0, 2, 3, 2, 3, 0, 1, 3, 0, 1, 2, 3, 1, 2, 1, 1, 2, 1, 0, 2, 3, 1, 3, 1, 3, 2, 3, 2, 2, 2, 0, 2, 0, 3, 2, 2, 0, 3, 3, 2, 0, 2, 3, 2, 3, 1, 1, 0, 0, 2, 2, 2, 2, 1, 0, 3, 0, 0, 2, 1, 1, 3, 2, 2, 3, 0, 0, 1, 2, 3, 1, 2, 1, 2, 0, 3, 0, 3, 3, 1, 3, 1, 1, 2, 3, 2, 3, 2, 1, 3, 0, 2, 3, 1, 1, 3, 0, 2, 0, 1, 2, 0, 2, 1, 3, 0, 2, 0, 0, 1, 0, 3, 2, 2, 3, 2, 0, 1, 2, 0, 3, 2, 1, 1, 3, 1, 1, 3, 1, 0, 2, 3, 1, 3, 3, 1, 2, 0, 1, 3, 1, 3, 3, 0, 2, 0, 2, 1, 3, 1, 1, 0, 1, 3, 2, 0, 2, 0, 2, 3, 2, 2, 3, 1, 0, 0, 2, 0, 1, 3, 3, 0, 0, 2, 0, 2, 0, 3, 2, 3, 2, 1, 0, 3, 2, 0, 0, 2, 1, 2, 0, 0, 0, 1, 2, 1, 0, 0, 1, 2, 0, 1, 3, 3, 2, 3, 0, 2, 2, 1, 0, 2, 0, 1, 3, 3, 1, 2, 0, 2, 0, 1, 2, 2, 1, 0, 2, 2, 0, 3, 1, 3, 2, 0, 0, 3, 0, 3, 1, 3, 1, 2, 0, 1, 3, 0, 1, 3, 3, 0, 2, 1, 2, 2, 3, 0, 2, 0, 3, 1, 3, 2, 1, 2, 2, 0, 2, 1, 3, 1, 2, 2, 3, 1, 3, 2, 3, 2, 1, 0, 2, 3, 3, 2, 1, 0, 2, 0, 3, 2, 3, 3, 1, 0, 0, 1, 3, 0, 0, 1, 0, 2, 0, 2, 0, 0, 1, 1, 2, 3, 0, 3, 0, 2, 3, 2, 1, 2, 0, 2, 0, 1, 0, 2, 0, 1, 0, 1, 0, 0, 1, 2, 1, 1, 3, 0, 1, 2, 0, 2, 3, 0, 0, 2, 0, 2, 3, 3, 1, 3, 1, 0, 2, 2, 3, 3, 2, 1, 0, 2, 3, 1, 1, 0, 2, 0, 1, 2, 1, 1, 3, 1, 1, 2, 1, 1, 2, 3, 1, 3, 1, 0, 3, 0, 2, 3, 0, 2, 0, 1, 2, 3, 1, 1, 3, 3, 1, 3, 0, 3, 2, 1, 0, 3, 3, 0, 3, 0, 1, 2, 3, 1, 3, 0, 1, 2, 2, 3, 2, 1, 1, 3, 1, 3, 3, 0, 2, 3, 1, 1, 3, 3, 0, 3, 0, 3, 2, 0, 2, 1, 0, 1, 3, 0, 1, 2, 2, 0, 3, 1, 1, 2, 1, 2, 2, 0, 2, 2, 2, 1, 3, 3, 0, 2, 0, 1, 2, 2, 1, 3, 2, 3, 2, 1, 3, 3, 2, 1, 3, 0, 1, 3, 2, 1, 3, 3, 3, 1, 3, 1, 3, 3, 0, 2, 1, 0, 1, 1, 1, 3, 0, 2, 3, 0, 3, 1, 0, 1, 3, 0, 2, 3, 0, 2, 2, 1, 3, 1, 2, 2, 2, 1, 0, 2, 2, 3, 3, 1, 0, 0, 0, 3, 2, 1, 3, 1, 1, 1, 2, 1, 2, 2, 2, 0, 2, 3, 0, 3, 0, 2, 0, 0, 2, 3, 0, 0, 3, 3, 2, 0, 0, 2, 1, 3, 1, 1, 3, 3, 2, 0, 0, 2, 2, 0, 2, 2, 1, 1, 0, 0, 3, 0, 1, 2, 0, 3, 2, 1, 0, 2, 2, 2, 3, 1, 3, 2, 2, 1, 1, 1, 0, 0, 1, 3, 3, 1, 3, 0, 0, 1, 0, 0, 3, 0, 2, 0, 3, 2, 1, 3, 3, 0, 3, 3, 2, 1, 1, 2, 0, 0, 2, 3, 1, 3, 1, 3, 2, 0, 0, 0, 1, 3, 1, 1, 3, 2, 3, 1, 1, 3, 3, 1, 0, 1, 0, 0, 3, 0, 0, 1, 3, 3, 1, 2, 0, 1, 0, 3, 2, 2, 3, 3, 3, 1, 2, 3, 0, 0, 2, 1, 0, 2, 0, 0, 1, 1, 1, 2, 3, 1, 3, 0, 1, 2, 3, 0, 3, 1, 3, 0, 0, 2, 1, 3, 1, 2, 0, 2, 2, 3, 2, 2, 0, 2, 0, 0, 3, 0, 1, 2, 0, 0, 0, 1, 3, 0, 1, 0, 1, 1, 0, 0, 1, 0, 2, 3, 1, 1, 0, 3, 2, 0, 0, 3, 0, 0, 0, 0, 0, 2, 3, 0, 0, 0, 3, 3, 1, 1, 2, 0, 0, 2, 3, 3, 2, 3, 0, 2, 0, 0, 3, 3, 1, 3, 3, 1, 3, 3, 1, 3, 1, 1, 3, 1, 1, 3, 2, 0, 1, 1, 1, 2, 1, 2, 3, 3, 3, 3, 0, 2, 2, 0, 2, 2, 2, 2, 0, 1, 0, 1, 0, 2, 1, 2, 3, 3, 3, 0, 0, 0, 2, 0, 1, 2, 1, 2, 2, 0, 2, 2, 0, 0, 3, 2, 0, 2, 0, 0, 3, 0, 0, 2, 0, 0, 2, 2, 2, 0, 1, 2, 3, 0, 0, 3, 1, 2, 2, 2, 2, 2, 0, 0, 2, 0, 2, 0, 0, 0, 2, 2, 1, 2, 3, 1, 0, 2, 0, 2, 0, 3, 2, 0, 2, 0, 1, 2, 3, 0, 0, 2, 0, 0, 0, 3, 3, 0, 2, 0, 2, 3, 1, 0, 1, 3, 3, 2, 0, 2, 2, 0, 1, 0, 3, 1, 1, 2, 3, 0, 3, 1, 3, 1, 3, 2, 1, 3, 2, 2, 1, 2, 2, 2, 3, 2, 1, 0, 2, 0, 2, 2, 3, 1, 1, 3, 2, 2, 0, 0, 0, 3, 2, 0, 0, 1, 0, 3], fitness: 12.796610169491526, number_of_cp_reached: 9) (Path: [2, 0, 2, 3, 1, 2, 3, 2, 0, 2, 0, 3, 2, 0, 1, 3, 2, 2, 3, 0, 2, 0, 3, 1, 0, 0, 2, 0, 0, 3, 2, 0, 3, 1, 0, 1, 2, 1, 3, 3, 1, 2, 3, 3, 0, 1, 0, 2, 2, 0, 0, 2, 2, 0, 3, 0, 1, 3, 3, 0, 1, 0, 2, 1, 0, 3, 2, 2, 2, 2, 3, 1, 2, 0, 0, 3, 0, 0, 2, 0, 3, 2, 2, 0, 1, 2, 0, 3, 3, 1, 1, 1, 0, 2, 0, 3, 3, 0, 2, 1, 0, 2, 3, 1, 2, 3, 1, 0, 3, 3, 0, 2, 3, 0, 2, 3, 0, 2, 2, 0, 2, 1, 3, 1, 2, 3, 1, 0, 1, 1, 1, 1, 3, 2, 0, 2, 2, 3, 1, 1, 0, 3, 2, 2, 3, 0, 1, 3, 1, 3, 2, 0, 2, 0, 3, 0, 2, 0, 1, 3, 0, 3, 1, 2, 0, 1, 3, 0, 1, 0, 3, 2, 3, 0, 2, 3, 3, 1, 2, 2, 2, 3, 2, 1, 0, 2, 2, 0, 3, 1, 2, 0, 1, 2, 1, 2, 0, 2, 1, 1, 0, 2, 1, 3, 3, 1, 2, 3, 3, 3, 1, 2, 3, 2, 2, 3, 1, 0, 3, 1, 3, 3, 1, 0, 3, 1, 3, 2, 2, 1, 3, 1, 1, 1, 1, 1, 2, 2, 3, 1, 3, 1, 3, 2, 0, 1, 2, 0, 3, 2, 0, 1, 2, 3, 0, 2, 2, 0, 2, 2, 1, 2, 3, 3, 2, 2, 0, 3, 0, 2, 0, 1, 2, 3, 3, 3, 1, 0, 1, 3, 3, 1, 3, 3, 1, 0, 2, 3, 1, 2, 1, 3, 1, 1, 0, 2, 1, 0, 0, 2, 0, 1, 0, 0, 0, 0, 0, 0, 0, 0, 3, 0, 3, 1, 3, 0, 0, 2, 0, 3, 2, 3, 2, 2, 1, 3, 2, 1, 3, 3, 0, 0, 2, 0, 3, 0, 0, 1, 2, 1, 2, 2, 0, 0, 3, 0, 1, 2, 1, 1, 1, 2, 1, 1, 0, 0, 0, 3, 3, 3, 3, 1, 2, 0, 3, 3, 0, 2, 0, 0, 1, 3, 1, 3, 2, 1, 2, 2, 0, 3, 0, 0, 3, 1, 1, 2, 0, 3, 3, 1, 0, 0, 3, 1, 3, 1, 3, 1, 2, 2, 2, 0, 2, 3, 3, 2, 1, 1, 3, 3, 0, 1, 2, 1, 2, 2, 0, 3, 0, 0, 3, 1, 3, 1, 1, 2, 2, 1, 1, 2, 2, 0, 2, 1, 3, 0, 1, 2, 3, 0, 3, 3, 0, 2, 3, 2, 3, 1, 2, 3, 1, 1, 1, 3, 1, 2, 3, 3, 2, 2, 0, 3, 2, 1, 1, 3, 2, 1, 2, 2, 1, 2, 3, 3, 3, 1, 1, 3, 0, 3, 0, 1, 0, 3, 1, 0, 2, 3, 0, 2, 3, 3, 2, 0, 2, 2, 0, 0, 2, 0, 3, 2, 3, 1, 2, 1, 3, 2, 0, 0, 2, 1, 0, 1, 0, 2, 3, 3, 1, 1, 0, 1, 2, 1, 3, 3, 0, 1, 2, 1, 2, 3, 0, 2, 2, 0, 2, 3, 1, 1, 3, 0, 0, 3, 1, 3, 3, 0, 0, 0, 1, 0, 0, 3, 1, 3, 1, 2, 2, 0, 0, 2, 0, 2, 0, 3, 1, 3, 1, 1, 3, 3, 1, 3, 1, 0, 2, 3, 1, 3, 1, 2, 2, 3, 2, 2, 0, 3, 1, 3, 1, 2, 2, 0, 1, 2, 0, 2, 1, 1, 2, 2, 3, 3, 3, 2, 1, 2, 0, 2, 3, 0, 1, 3, 1, 3, 1, 1, 3, 3, 3, 1, 2, 0, 2, 1, 1, 2, 1, 3, 0, 0, 3, 2, 0, 3, 1, 1, 3, 2, 1, 1, 2, 0, 3, 3, 0, 3, 2, 2, 0, 1, 0, 1, 2, 0, 3, 2, 0, 0, 3, 0, 3, 1, 0, 2, 2, 1, 2, 3, 3, 0, 2, 2, 2, 1, 2, 3, 1, 1, 1, 0, 2, 3, 3, 3, 3, 2, 0, 1, 0, 3, 1, 1, 2, 0, 2, 0, 0, 1, 3, 1, 0, 0, 3, 2, 3, 3, 2, 2, 0, 1, 1, 0, 2, 2, 2, 0, 2, 3, 0, 0, 0, 1, 3, 0, 2, 0, 2, 1, 1, 3, 2, 0, 3, 2, 3, 3, 2, 3, 0, 2, 0, 1, 1, 3, 3, 2, 3, 3, 1, 0, 2, 1, 1, 1, 2, 0, 2, 1, 3, 0, 1, 2, 1, 0, 2, 0, 2, 0, 3, 1, 3, 3, 1, 3, 3, 1, 2, 1, 0, 3, 3, 1, 3, 2, 2, 1, 3, 1, 0, 1, 1, 3, 0, 2, 0, 1, 0, 2, 0, 1, 3, 0, 1, 1, 0, 3, 3, 2, 2, 0, 2, 2, 0, 3, 2, 0, 0, 2, 3, 0, 2, 1, 0, 2, 3, 2, 1, 0, 0, 1, 3, 3, 1, 0, 3, 1, 1, 2, 1, 0, 3, 1, 1, 3, 3, 2, 3, 2, 2, 2, 0, 2, 1, 1, 1, 0, 0, 3, 1, 3, 1, 3, 0, 3, 3, 2, 2, 2, 1, 0, 3, 2, 1, 1, 3, 0, 0, 1, 0, 2, 0, 2, 1, 2, 0, 2, 2, 1, 0, 2, 1, 3, 2, 0, 2, 0, 2, 0, 3, 0, 0, 3, 0, 0, 2, 3, 3, 1, 2, 3, 2, 2, 0, 1, 2, 0, 0, 2, 3, 1, 2, 0, 0, 2, 2, 0, 2, 1, 2, 0, 1, 3, 3, 1, 2, 0, 2, 0, 3, 3, 1, 0, 0, 1, 3, 3, 2, 0, 1, 2, 2, 0, 2, 3, 0, 2, 0, 3, 1, 1, 2, 1, 1, 0, 2, 0, 2, 0, 1, 0, 2, 3, 0, 2, 0, 2, 2, 1, 3, 3, 3, 0, 2, 3, 3, 2, 0, 2, 0, 3, 0, 2, 1, 3, 2, 2, 2, 2, 0, 2, 1, 2, 3, 0, 0, 3, 1, 1, 3, 1, 1, 3, 1, 1, 1, 3, 0, 3, 1, 3, 1, 2, 1, 1, 2, 0, 1, 3, 3, 2, 3, 3, 0, 2, 2, 0, 1, 3, 1, 2, 3, 1, 1, 1, 2, 3, 0, 2, 2, 0, 1, 2, 0, 1, 3, 0, 0, 3, 2, 1, 2, 1, 0, 2, 2, 3, 2, 0, 2, 3, 0, 0, 3, 0, 3, 1, 0, 3, 1, 2, 3, 1, 0, 1, 3, 2, 3, 2, 2, 3, 2, 0, 1, 2, 3, 2, 1, 0, 2, 1, 0, 2, 0, 3, 0, 0, 0, 0, 2, 2, 2, 0, 0, 0, 2, 3, 0, 2, 0, 0, 1, 3, 2, 1, 0, 3, 1, 3, 1, 2, 2, 2, 1, 0, 1, 2, 1, 2, 3, 0, 3, 1, 2, 2, 3, 3, 0, 0, 1, 0, 1, 1, 1, 3, 3, 2, 3, 0, 2, 0, 3, 3, 1, 2, 0, 2, 2, 0, 2, 3, 2, 2, 1, 3, 1, 2, 0, 1, 3, 1, 2, 0, 2, 3, 0, 0, 0, 2, 1, 3, 2, 3, 1, 2, 3, 0, 1, 0, 1, 1, 3, 3, 1, 1, 0, 1, 2, 0, 1, 2, 0, 0, 1, 3, 3, 0, 0, 1, 3, 0, 1, 2, 0, 3, 2, 0, 1, 1, 3, 0, 0, 0, 3, 3, 1, 3, 1, 0, 0, 1, 0, 0, 2, 0, 3, 1, 0, 2, 0, 0, 2, 1, 3, 3, 0, 3, 1, 1, 0, 0, 0, 3, 2, 0, 1, 0, 0, 0, 1, 0, 0, 3, 3, 0, 3, 0, 0, 2, 2, 3, 1, 0, 0, 2, 3, 0, 2, 3, 0, 2, 2, 0, 2, 0, 1, 1, 1, 1, 0, 2, 0, 2, 0, 1, 3, 1, 0, 0, 3, 1, 1, 3, 2, 1, 0, 3, 2, 0, 2, 0, 1, 2, 2, 3, 0, 0, 2, 0, 1, 3, 2, 0, 3, 1, 2, 0, 3, 1, 2, 0, 2, 0, 3, 1, 2, 0, 1, 2, 3, 2, 1, 0, 1, 1, 0, 2, 1, 3, 2, 1, 0, 0, 1, 2, 0, 2, 3, 2, 2, 0, 3, 3, 0, 0, 2, 0, 1, 2, 0, 1, 2, 3, 1, 1, 0, 3, 1, 3, 2, 0, 3, 1, 3, 2, 2, 1, 0, 3, 3, 3, 0, 3, 3, 1, 3, 1, 3, 1, 2, 0, 3, 1, 3, 1, 3, 1, 1, 2, 0, 2, 0, 1, 3, 3, 1, 2, 0, 1, 3, 3, 3, 1, 3, 1, 1, 2, 1, 1, 0, 2, 1, 3, 1, 3, 3, 3, 3, 0, 1, 2, 3, 2, 0, 0, 2, 1, 0, 1, 1, 3, 2, 3, 0, 1, 2, 3, 3, 2, 3, 1, 2, 0, 1, 3, 0, 0, 1, 3, 3, 1, 3, 1, 3, 1, 3, 1, 3, 1, 3, 1, 2, 1, 3, 0, 3, 1, 3, 1, 2, 1, 3, 0, 2, 0, 2, 0, 2, 0, 2, 1, 3, 1, 2, 3, 2, 0, 3, 1, 2, 3, 2, 2, 3, 3, 3, 0, 2, 3, 0, 2, 3, 1, 3, 1, 1, 0, 1, 0, 0, 0, 3, 1, 3, 1, 2, 0, 0, 2, 2, 0, 0, 2, 3, 1, 3, 3, 0, 2, 2, 2, 0, 3, 1, 2, 3, 0, 2, 3, 0, 1, 3, 1, 0, 0, 2, 1, 2, 2, 3, 3, 3, 0, 0, 0, 2, 3, 0, 2, 0, 2, 0, 2, 0, 3, 3, 2, 1, 0, 3, 1, 3, 1, 3, 1, 3, 2, 1, 1, 0, 2, 3, 0, 2, 3, 1, 3, 0, 2, 1, 0, 2, 3, 2, 2, 1, 2, 0, 3, 0, 0, 2, 2, 0, 2, 0, 0, 2, 0, 0, 1, 3, 1, 3, 2, 0, 1, 2, 3, 1, 1, 3, 0, 1, 1, 3, 2, 3, 3, 0, 2, 2, 0, 1, 0, 3, 1, 2, 1, 1, 2, 0, 0, 2, 0, 1, 3, 1, 1, 3, 3, 2, 3, 3, 3, 1, 3, 1, 0, 3, 1, 2, 3, 2, 2, 0, 2, 0, 0, 1, 0, 3, 1, 2, 0, 2, 3, 1, 0, 2, 0, 1, 3, 1, 2, 3, 0, 3, 2, 1, 0, 3, 2, 1, 3, 1, 0, 2, 0, 1, 2, 1, 2, 2, 2, 0, 0, 0, 3, 0, 2, 0, 3, 1, 2, 3, 3, 0, 1, 2, 0, 3, 2, 2, 2, 0, 0, 2, 0, 0, 2, 1, 3, 1, 3, 2, 2, 0, 0, 2, 2, 0, 0, 2, 0, 2, 2, 0, 2, 0, 0, 1, 3, 1, 3, 0, 1, 3, 1, 3, 2, 2, 2, 0, 0, 0, 1, 1, 2, 0, 1, 1, 3, 2, 2, 2, 1, 2, 2, 0, 3, 2, 2, 0, 0, 1, 3, 0, 0, 0, 2, 1, 2, 2, 1, 2, 2, 2, 2, 0, 1, 0, 3, 1, 0, 2, 1, 0, 3, 0, 3, 2, 0, 3, 3, 2, 0, 2, 2, 0, 0, 0, 1, 3, 0, 0, 2, 2, 0, 0, 0, 3, 2, 0, 3, 3, 2, 1, 3, 0, 1, 2, 3, 0, 2, 0, 2, 1, 3, 1, 3, 1, 3, 2, 0, 2, 2, 0, 0, 2, 0, 1, 0, 2, 0, 2, 3, 1, 0, 3, 1, 3, 2, 2, 2, 1, 2, 0, 2, 0, 3, 0, 2, 0, 0, 2, 2, 1, 2, 0, 3, 0, 2, 0, 0, 2, 2, 0, 2, 1, 2, 2, 2, 1, 1, 0, 1, 0, 0, 2, 2, 1, 0, 3, 0, 3, 2, 2, 2, 3, 3, 2, 3, 2, 2, 1, 0, 0, 0, 2, 0, 0, 2, 3, 0], fitness: 16.661016949152543, number_of_cp_reached: 9)\n",
            "(Path: [2, 0, 0, 0, 0, 1, 3, 2, 2, 2, 3, 1, 3, 1, 1, 0, 3, 1, 2, 1, 2, 2, 1, 0, 3, 2, 1, 3, 0, 0, 3, 1, 0, 2, 2, 0, 3, 1, 2, 2, 1, 3, 2, 3, 2, 0, 2, 0, 3, 1, 3, 0, 0, 0, 2, 0, 0, 2, 2, 2, 2, 1, 3, 0, 3, 3, 2, 2, 2, 0, 2, 3, 0, 0, 3, 1, 3, 3, 1, 3, 3, 1, 2, 0, 0, 2, 0, 2, 3, 1, 0, 3, 2, 0, 2, 0, 2, 0, 3, 0, 0, 1, 3, 3, 3, 1, 1, 0, 2, 1, 0, 3, 1, 0, 3, 0, 3, 1, 2, 3, 1, 2, 0, 3, 1, 0, 3, 1, 2, 2, 1, 1, 3, 2, 3, 3, 3, 1, 1, 0, 2, 2, 2, 0, 3, 0, 0, 1, 0, 3, 1, 2, 3, 2, 3, 0, 2, 3, 2, 1, 3, 3, 1, 3, 0, 1, 0, 2, 2, 2, 0, 1, 1, 1, 2, 0, 1, 3, 3, 0, 1, 1, 1, 2, 0, 1, 3, 0, 2, 2, 1, 3, 3, 0, 0, 3, 2, 2, 2, 0, 0, 2, 2, 0, 2, 1, 1, 2, 2, 0, 2, 2, 2, 3, 0, 1, 2, 3, 3, 3, 3, 3, 2, 2, 2, 0, 2, 0, 2, 0, 2, 0, 0, 0, 2, 2, 2, 1, 2, 1, 1, 0, 0, 3, 3, 2, 2, 1, 2, 1, 0, 3, 2, 0, 3, 2, 3, 1, 2, 3, 1, 1, 3, 0, 1, 3, 1, 1, 1, 2, 3, 3, 3, 0, 2, 1, 1, 1, 2, 3, 0, 2, 3, 2, 0, 2, 2, 3, 0, 3, 0, 3, 3, 2, 1, 3, 3, 0, 3, 1, 1, 1, 3, 1, 3, 2, 0, 1, 3, 0, 3, 3, 1, 3, 3, 0, 3, 2, 1, 3, 3, 0, 1, 1, 0, 0, 2, 1, 0, 3, 0, 3, 2, 0, 2, 0, 0, 3, 3, 1, 2, 3, 0, 3, 2, 0, 3, 1, 1, 3, 1, 1, 0, 3, 1, 2, 3, 0, 2, 3, 1, 2, 1, 1, 0, 1, 1, 0, 0, 1, 0, 3, 1, 1, 2, 0, 0, 3, 0, 1, 2, 1, 3, 0, 0, 3, 1, 1, 1, 3, 0, 1, 0, 0, 2, 0, 3, 2, 1, 3, 0, 1, 3, 1, 1, 3, 1, 3, 3, 2, 2, 1, 0, 1, 0, 1, 0, 2, 0, 1, 3, 2, 3, 3, 2, 3, 0, 0, 2, 2, 1, 3, 2, 0, 2, 2, 0, 3, 2, 0, 1, 2, 2, 0, 0, 0, 3, 2, 0, 1, 2, 1, 3, 3, 0, 2, 2, 3, 2, 1, 0, 1, 3, 0, 2, 0, 0, 2, 2, 1, 0, 2, 2, 3, 0, 0, 3, 1, 3, 1, 2, 3, 3, 2, 1, 2, 1, 2, 2, 3, 0, 2, 1, 1, 1, 3, 0, 0, 3, 3, 1, 2, 0, 3, 1, 0, 1, 2, 2, 0, 3, 3, 0, 1, 3, 2, 1, 3, 2, 1, 2, 3, 0, 2, 3, 1, 0, 0, 1, 0, 1, 3, 1, 3, 2, 3, 2, 1, 2, 2, 2, 1, 3, 2, 2, 3, 0, 0, 3, 0, 0, 0, 0, 1, 1, 2, 3, 1, 3, 0, 3, 2, 0, 1, 3, 1, 3, 3, 1, 0, 2, 2, 0, 3, 1, 0, 2, 2, 1, 3, 0, 0, 3, 2, 0, 1, 0, 1, 2, 0, 1, 3, 3, 3, 1, 1, 3, 2, 2, 1, 2, 1, 2, 2, 0, 0, 2, 2, 0, 3, 0, 3, 2, 3, 1, 2, 0, 1, 0, 3, 2, 2, 0, 2, 0, 2, 2, 0, 0, 3, 1, 0, 2, 2, 0, 2, 0, 2, 0, 3, 1, 1, 0, 2, 0, 3, 0, 0, 2, 2, 0, 2, 1, 2, 0, 1, 3, 3, 0, 0, 3, 3, 3, 2, 2, 3, 1, 2, 3, 1, 0, 1, 0, 1, 1, 2, 2, 2, 2, 0, 2, 0, 0, 3, 1, 3, 1, 2, 0, 1, 0, 0, 1, 2, 0, 2, 2, 1, 2, 3, 2, 0, 0, 1, 1, 2, 1, 2, 2, 3, 3, 2, 0, 3, 3, 1, 1, 2, 2, 0, 2, 0, 1, 3, 3, 0, 2, 0, 1, 3, 2, 0, 3, 1, 1, 2, 0, 3, 3, 1, 0, 2, 0, 0, 0, 1, 2, 2, 2, 3, 2, 0, 2, 2, 1, 3, 3, 1, 0, 2, 3, 1, 2, 2, 3, 3, 2, 1, 3, 3, 0, 1, 1, 2, 2, 0, 1, 2, 3, 2, 0, 0, 1, 2, 3, 2, 2, 0, 0, 2, 0, 3, 3, 0, 0, 2, 1, 3, 1, 2, 1, 3, 1, 3, 0, 3, 3, 2, 3, 2, 1, 1, 3, 2, 1, 0, 0, 2, 0, 1, 3, 0, 1, 2, 0, 3, 1, 2, 3, 0, 1, 3, 0, 0, 0, 2, 2, 2, 0, 1, 2, 1, 3, 2, 0, 2, 3, 0, 0, 2, 0, 3, 2, 3, 1, 2, 3, 0, 1, 0, 1, 1, 1, 1, 3, 0, 2, 2, 3, 2, 3, 2, 2, 1, 3, 3, 1, 3, 0, 2, 0, 1, 2, 0, 0, 1, 0, 0, 2, 0, 1, 3, 1, 0, 2, 3, 3, 2, 2, 3, 1, 0, 2, 1, 1, 3, 3, 1, 1, 2, 1, 2, 2, 2, 1, 3, 1, 2, 3, 0, 1, 2, 0, 2, 2, 3, 2, 2, 2, 1, 3, 3, 3, 0, 0, 0, 3, 2, 1, 2, 3, 3, 1, 0, 2, 1, 0, 2, 2, 2, 3, 2, 3, 2, 0, 1, 0, 1, 0, 0, 3, 3, 0, 2, 1, 0, 2, 0, 1, 2, 0, 2, 3, 0, 2, 0, 2, 3, 2, 0, 0, 2, 1, 0, 1, 0, 0, 3, 0, 1, 2, 3, 0, 2, 2, 3, 2, 1, 1, 3, 2, 0, 1, 2, 2, 0, 3, 1, 3, 0, 1, 3, 1, 3, 1, 3, 2, 1, 0, 1, 2, 0, 3, 3, 2, 0, 2, 3, 1, 0, 1, 3, 2, 1, 2, 2, 0, 1, 2, 0, 2, 3, 3, 1, 0, 1, 1, 3, 2, 3, 0, 1, 3, 2, 0, 0, 3, 0, 2, 0, 0, 2, 2, 1, 3, 1, 1, 0, 2, 3, 3, 1, 1, 3, 3, 0, 3, 2, 2, 2, 2, 2, 0, 2, 0, 3, 1, 3, 1, 2, 1, 1, 1, 1, 3, 0, 1, 2, 3, 0, 2, 3, 1, 3, 1, 3, 1, 3, 3, 1, 3, 1, 1, 3, 1, 0, 0, 2, 1, 0, 2, 1, 3, 0, 1, 3, 2, 2, 0, 0, 0, 3, 3, 1, 0, 3, 3, 0, 1, 0, 3, 3, 0, 0, 1, 1, 3, 1, 2, 3, 3, 1, 0, 1, 3, 1, 0, 0, 1, 1, 2, 0, 1, 1, 0, 0, 3, 3, 3, 2, 0, 2, 0, 3, 0, 1, 0, 1, 2, 0, 0, 0, 3, 3, 0, 1, 1, 0, 3, 2, 2, 3, 0, 1, 3, 1, 1, 0, 2, 2, 0, 2, 3, 0, 1, 0, 3, 0, 1, 0, 0, 2, 0, 1, 1, 3, 3, 1, 0, 3, 2, 0, 1, 0, 0, 0, 3, 0, 3, 3, 0, 2, 2, 0, 2, 0, 0, 0, 1, 3, 3, 3, 1, 3, 0, 3, 2, 0, 3, 3, 3, 3, 1, 1, 2, 3, 1, 3, 0, 1, 2, 2, 1, 2, 0, 1, 2, 0, 3, 2, 3, 2, 0, 0, 0, 3, 1, 0, 3, 3, 3, 2, 1, 0, 2, 0, 1, 3, 2, 0, 3, 1, 1, 2, 1, 2, 2, 1, 1, 3, 3, 0, 2, 2, 0, 2, 0, 0, 0, 0, 2, 2, 0, 0, 2, 0, 3, 3, 3, 2, 2, 2, 1, 3, 0, 0, 1, 0, 3, 1, 2, 3, 2, 0, 1, 3, 2, 0, 1, 0, 1, 3, 3, 1, 2, 1, 1, 2, 1, 1, 3, 1, 1, 3, 2, 3, 3, 1, 1, 3, 0, 2, 2, 3, 0, 0, 2, 1, 3, 1, 1, 3, 1, 2, 3, 2, 0, 2, 0, 2, 0, 0, 1, 2, 0, 2, 2, 2, 1, 3, 0, 1, 3, 3, 0, 3, 2, 1, 3, 0, 0, 0, 1, 3, 2, 2, 0, 2, 0, 0, 0, 3, 1, 2, 0, 0, 2, 2, 0, 2, 0, 3, 3, 1, 1, 3, 1, 0, 3, 3, 3, 1, 1, 1, 3, 2, 3, 3, 1, 3, 1, 0, 2, 3, 2, 0, 1, 1, 0, 2, 0, 3, 2, 0, 1, 2, 0, 2, 0, 3, 1, 3, 1, 2, 0, 1, 2, 2, 0, 2, 2, 0, 0, 2, 1, 3, 2, 0, 0, 3, 0, 3, 3, 1, 2, 3, 0, 2, 2, 0, 1, 0, 1, 2, 0, 1, 3, 3, 1, 3, 2, 3, 2, 0, 1, 0, 2, 3, 1, 3, 1, 1, 0, 3, 1, 2, 0, 3, 3, 1, 3, 2, 0, 1, 3, 1, 1, 2, 0, 1, 3, 1, 1, 3, 3, 2, 3, 0, 3, 1, 2, 0, 3, 2, 2, 0, 1, 0, 2, 0, 1, 3, 3, 2, 2, 0, 0, 2, 1, 3, 2, 0, 2, 2, 1, 2, 0, 2, 0, 2, 0, 3, 0, 0, 2, 2, 0, 2, 1, 2, 0, 2, 0, 2, 0, 2, 0, 2, 0, 2, 0, 2, 0, 3, 1, 2, 0, 2, 0, 3, 0, 2, 1, 2, 0, 3, 1, 2, 2, 0, 2, 2, 1, 1, 0, 0, 1, 2, 0, 2, 0, 2, 3, 0, 2, 2, 0, 2, 0, 0, 0, 1, 2, 0, 3, 0, 2, 0, 0, 0, 2, 3, 1, 3, 3, 0, 2, 3, 1, 0, 2, 0, 1, 3, 3, 1, 2, 3, 2, 2, 1, 2, 0, 2, 0, 2, 0, 2, 2, 0, 2, 3], fitness: 14.169491525423728, number_of_cp_reached: 9) (Path: [3, 1, 3, 2, 0, 2, 2, 1, 2, 0, 3, 1, 2, 0, 3, 2, 1, 0, 3, 3, 1, 2, 3, 1, 0, 1, 3, 3, 3, 0, 2, 2, 3, 3, 2, 2, 0, 2, 0, 0, 3, 2, 0, 2, 1, 0, 2, 2, 0, 2, 0, 0, 0, 3, 2, 1, 3, 0, 1, 2, 0, 0, 0, 3, 2, 2, 2, 2, 2, 0, 2, 3, 1, 3, 0, 1, 3, 1, 0, 1, 0, 3, 1, 2, 0, 2, 1, 1, 0, 0, 2, 1, 0, 2, 0, 0, 3, 3, 3, 3, 0, 2, 3, 0, 0, 1, 0, 3, 1, 3, 2, 2, 3, 1, 1, 1, 1, 2, 0, 1, 2, 0, 1, 3, 3, 1, 3, 3, 0, 3, 0, 1, 2, 0, 3, 3, 2, 2, 1, 2, 1, 3, 3, 3, 1, 1, 3, 2, 3, 0, 2, 3, 2, 0, 3, 0, 2, 1, 0, 2, 0, 1, 1, 0, 1, 2, 3, 2, 2, 0, 3, 1, 0, 2, 3, 1, 1, 2, 0, 3, 2, 0, 1, 3, 0, 1, 3, 0, 1, 2, 0, 2, 2, 3, 2, 0, 3, 0, 2, 1, 0, 3, 0, 0, 1, 1, 1, 2, 0, 1, 2, 1, 2, 2, 2, 2, 2, 0, 3, 1, 3, 1, 3, 1, 1, 2, 0, 0, 3, 0, 1, 2, 2, 2, 3, 0, 3, 1, 2, 0, 2, 2, 1, 2, 2, 0, 3, 0, 0, 0, 0, 1, 2, 2, 3, 0, 1, 3, 3, 1, 1, 3, 3, 1, 2, 1, 2, 3, 0, 0, 2, 0, 0, 0, 2, 1, 2, 3, 0, 0, 3, 3, 2, 3, 3, 0, 0, 0, 3, 3, 3, 1, 2, 2, 2, 0, 0, 2, 2, 0, 2, 2, 2, 1, 1, 1, 3, 2, 0, 3, 3, 1, 1, 3, 2, 1, 2, 3, 1, 0, 2, 3, 3, 0, 1, 1, 3, 1, 0, 3, 2, 1, 3, 2, 0, 3, 2, 0, 0, 2, 1, 3, 2, 0, 3, 2, 3, 3, 2, 2, 0, 2, 0, 2, 2, 0, 1, 1, 2, 0, 2, 1, 0, 2, 1, 2, 1, 3, 2, 2, 1, 1, 2, 2, 3, 2, 1, 3, 3, 1, 2, 0, 0, 1, 3, 3, 3, 3, 1, 3, 3, 1, 1, 3, 1, 1, 3, 2, 3, 0, 0, 2, 3, 3, 2, 1, 0, 2, 1, 0, 2, 0, 3, 3, 0, 1, 3, 1, 0, 0, 1, 2, 3, 1, 3, 0, 1, 1, 0, 0, 3, 3, 1, 0, 3, 0, 1, 3, 1, 1, 0, 3, 1, 3, 0, 1, 3, 1, 0, 0, 3, 0, 1, 0, 2, 2, 3, 1, 1, 3, 1, 2, 3, 0, 2, 0, 3, 3, 1, 3, 3, 0, 3, 2, 1, 0, 1, 1, 1, 0, 0, 0, 1, 3, 1, 3, 0, 2, 3, 3, 3, 1, 1, 0, 1, 3, 0, 2, 3, 1, 1, 3, 0, 1, 3, 2, 2, 3, 2, 3, 1, 1, 3, 0, 0, 0, 3, 1, 2, 2, 0, 0, 3, 1, 2, 2, 1, 3, 2, 2, 1, 3, 1, 2, 0, 3, 0, 2, 0, 3, 2, 0, 0, 1, 0, 1, 3, 2, 2, 3, 3, 1, 2, 0, 1, 2, 0, 0, 3, 1, 3, 2, 0, 1, 2, 1, 3, 3, 2, 2, 3, 2, 0, 2, 2, 0, 2, 0, 3, 1, 2, 3, 1, 2, 1, 3, 3, 0, 2, 3, 1, 2, 0, 0, 2, 2, 2, 0, 2, 0, 2, 1, 1, 2, 2, 2, 0, 0, 2, 3, 2, 3, 0, 1, 1, 0, 0, 2, 2, 2, 3, 0, 2, 1, 0, 0, 1, 2, 1, 0, 3, 2, 1, 0, 1, 2, 3, 1, 2, 0, 1, 3, 3, 1, 0, 2, 1, 3, 0, 2, 3, 0, 0, 0, 3, 3, 2, 3, 1, 2, 2, 1, 3, 3, 1, 0, 2, 1, 1, 3, 1, 0, 2, 0, 3, 2, 3, 0, 2, 1, 1, 3, 3, 3, 0, 2, 0, 0, 3, 0, 0, 1, 1, 3, 1, 0, 2, 0, 3, 3, 0, 0, 2, 2, 2, 3, 1, 0, 2, 1, 0, 3, 0, 1, 2, 0, 3, 3, 0, 3, 2, 2, 3, 1, 0, 3, 2, 0, 0, 2, 0, 2, 1, 2, 0, 1, 0, 0, 2, 3, 2, 1, 0, 3, 1, 1, 3, 1, 3, 3, 2, 3, 2, 1, 0, 2, 0, 1, 1, 2, 1, 0, 2, 1, 2, 2, 0, 2, 2, 3, 1, 2, 0, 0, 0, 2, 2, 3, 2, 0, 2, 1, 3, 0, 3, 1, 2, 1, 3, 2, 0, 0, 3, 3, 1, 0, 0, 2, 0, 1, 0, 2, 0, 0, 3, 0, 3, 1, 1, 1, 3, 3, 2, 2, 2, 1, 3, 1, 1, 2, 0, 1, 2, 2, 1, 3, 1, 3, 3, 2, 0, 2, 0, 3, 3, 1, 3, 0, 2, 0, 0, 1, 3, 2, 0, 0, 2, 0, 0, 3, 1, 3, 0, 0, 0, 2, 3, 3, 1, 2, 3, 2, 1, 3, 1, 3, 1, 1, 1, 0, 3, 2, 0, 2, 0, 1, 2, 3, 0, 2, 3, 0, 2, 3, 1, 1, 3, 3, 1, 0, 0, 1, 0, 2, 1, 1, 2, 3, 2, 1, 3, 0, 1, 3, 3, 0, 1, 2, 3, 1, 1, 3, 3, 1, 2, 3, 3, 3, 2, 2, 0, 2, 0, 3, 1, 3, 1, 1, 0, 3, 1, 2, 0, 1, 0, 2, 1, 1, 3, 3, 1, 2, 0, 1, 1, 2, 3, 3, 2, 2, 0, 2, 0, 3, 1, 1, 1, 3, 0, 1, 3, 1, 2, 2, 0, 0, 3, 2, 3, 2, 0, 3, 1, 3, 1, 2, 0, 2, 2, 3, 2, 2, 3, 0, 1, 0, 3, 2, 0, 0, 2, 3, 2, 2, 2, 0, 1, 0, 1, 2, 1, 2, 3, 3, 0, 1, 1, 3, 1, 3, 2, 2, 3, 2, 1, 2, 1, 2, 1, 1, 3, 3, 3, 2, 0, 0, 1, 1, 0, 2, 3, 3, 1, 1, 0, 2, 2, 2, 2, 0, 0, 2, 0, 0, 3, 3, 0, 2, 0, 0, 2, 2, 3, 1, 2, 1, 0, 0, 1, 2, 2, 0, 3, 1, 3, 3, 2, 1, 0, 2, 0, 3, 0, 1, 2, 3, 1, 2, 0, 2, 3, 0, 1, 2, 0, 1, 2, 0, 1, 2, 2, 0, 2, 0, 0, 2, 2, 3, 2, 1, 2, 2, 1, 3, 2, 1, 1, 3, 3, 3, 2, 0, 1, 2, 2, 1, 3, 0, 2, 3, 0, 1, 3, 1, 0, 2, 2, 0, 2, 1, 0, 3, 0, 2, 2, 3, 1, 3, 3, 1, 2, 2, 0, 3, 3, 0, 2, 1, 0, 2, 3, 1, 3, 3, 0, 1, 0, 2, 1, 0, 1, 2, 2, 3, 2, 2, 3, 2, 0, 3, 2, 1, 0, 2, 0, 2, 0, 1, 0, 2, 1, 0, 2, 2, 0, 2, 0, 2, 0, 3, 1, 2, 2, 0, 2, 1, 0, 2, 0, 1, 2, 0, 0, 2, 1, 0, 3, 3, 0, 3, 2, 3, 0, 0, 2, 2, 3, 1, 3, 3, 3, 2, 0, 1, 1, 3, 3, 2, 0, 0, 2, 2, 1, 1, 0, 1, 0, 2, 0, 0, 0, 3, 2, 3, 1, 0, 2, 3, 2, 3, 1, 2, 1, 1, 0, 1, 0, 2, 0, 1, 3, 0, 1, 2, 3, 3, 3, 0, 0, 2, 2, 0, 1, 0, 3, 2, 0, 3, 2, 2, 1, 1, 3, 1, 3, 0, 0, 1, 1, 0, 2, 1, 0, 2, 3, 0, 3, 2, 1, 3, 0, 0, 3, 2, 3, 1, 3, 1, 2, 0, 1, 2, 2, 2, 3, 3, 0, 1, 2, 0, 2, 0, 3, 2, 0, 0, 2, 2, 0, 2, 2, 0, 1, 1, 2, 0, 1, 3, 2, 2, 1, 3, 0, 0, 2, 2, 0, 2, 0, 1, 3, 1, 1, 3, 3, 0, 3, 3, 0, 2, 0, 1, 2, 3, 1, 0, 3, 3, 0, 2, 1, 1, 3, 2, 2, 2, 1, 1, 0, 0, 2, 1, 2, 2, 0, 0, 3, 1, 2, 2, 1, 1, 3, 3, 2, 3, 1, 0, 2, 3, 1, 3, 1, 0, 0, 1, 3, 3, 0, 2, 0, 0, 1, 2, 2, 1, 2, 2, 0, 2, 1, 0, 2, 1, 3, 3, 3, 1, 3, 3, 1, 3, 3, 3, 0, 1, 0, 1, 0, 1, 3, 1, 2, 0, 0, 1, 0, 0, 1, 0, 0, 0, 3, 0, 2, 0, 3, 0, 0, 0, 0, 3, 3, 2, 0, 1, 2, 0, 2, 0, 3, 2, 1, 3, 1, 0, 3, 0, 2, 3, 0, 3, 1, 2, 2, 1, 0, 0, 0, 1, 1, 3, 3, 0, 0, 0, 2, 0, 1, 0, 0, 3, 1, 0, 2, 2, 0, 2, 0, 0, 1, 1, 0, 3, 3, 3, 1, 1, 3, 2, 0, 3, 3, 2, 0, 2, 0, 1, 3, 1, 0, 1, 1, 3, 1, 0, 3, 2, 2, 0, 1, 1, 0, 0, 0, 1, 3, 1, 0, 1, 1, 0, 1, 1, 2, 3, 1, 3, 0, 3, 2, 3, 2, 0, 0, 1, 2, 0, 3, 2, 3, 0, 3, 1, 3, 1, 3, 1, 3, 1, 2, 0, 3, 1, 3, 1, 1, 2, 1, 3, 0, 1, 3, 3, 1, 2, 0, 3, 1, 2, 3, 0, 2, 0, 3, 1, 2, 1, 3, 0, 2, 0, 1, 2, 0, 1, 2, 0, 2, 3, 0, 2, 1, 0, 3, 1, 3, 2, 0, 3, 1, 1, 3, 2, 1, 0, 3, 1, 2, 0, 2, 3, 1, 1, 0, 2, 1, 3, 3, 1, 0, 2, 1, 3, 3, 1, 3, 0, 3, 3, 2, 0, 2, 0, 2, 0, 2, 2, 0, 2, 1, 3, 2, 3, 3, 2, 3, 3, 0, 0, 3, 3, 3, 1, 2, 0, 0, 0, 1, 3, 1, 2, 3, 0, 1, 3, 3, 1, 3, 1, 3, 3, 3, 2, 0, 3, 3, 2, 1, 1, 3, 0, 3, 1, 1, 3, 2, 0, 2, 0, 2, 0, 2, 1, 0, 3, 3, 2, 1, 3, 1, 3, 0, 1, 2, 0, 3, 1, 1, 2, 0, 2, 0, 3, 1, 1, 2, 3, 1, 2, 0, 0, 3, 2, 3, 3, 0, 1, 3, 1, 1, 2, 0, 3, 3, 1, 2, 0, 1, 2, 0, 2, 1, 3, 1, 3, 3, 0, 1, 3, 2, 0, 3, 2, 1, 0, 1, 1, 3, 1, 2, 3, 3, 0, 2, 0, 3, 1, 2, 3, 1, 1, 0, 3, 2, 0, 2, 3, 1, 0, 1, 3, 2, 0, 3, 2, 2, 0, 2, 0, 2, 2, 0, 0, 2, 0, 1, 3, 2, 0, 1, 0, 3, 2, 1, 0, 3, 1, 3, 1, 2, 0, 2, 0, 2, 3, 0, 2, 1, 0, 3, 2, 1, 0, 2, 3, 1, 3, 2, 0, 1, 3, 2, 0, 2, 0, 1, 1, 0, 2, 1, 3, 3, 0, 2, 0, 1, 2, 3, 1, 1, 2, 1, 2, 3, 1, 2, 3, 0, 2, 0, 2, 0, 0, 2, 0, 2, 0, 0, 2, 2, 0, 2, 0, 1, 2, 1, 1, 3, 2, 1, 2, 2, 3, 0, 1, 3, 3, 0, 1, 3, 3, 0, 2, 2, 0, 2, 1, 1, 2, 2, 2, 0, 0, 2, 3, 1, 0, 0, 0, 1, 2, 3, 1, 2, 0, 1, 2, 0, 0, 3, 2, 3, 3, 0, 3, 0, 2, 1, 2, 0, 2, 3, 2, 0, 2, 3, 1, 0, 1, 0, 2, 3, 1, 3, 2, 0, 2, 0, 1, 3, 1, 0, 2, 0, 3, 2, 0, 0, 0, 2, 1, 2, 2, 0, 2, 0, 1, 2, 0, 1, 3, 2, 2, 0, 0, 2, 3, 0, 2, 0, 0, 3, 2, 2, 0, 0, 0, 2, 0, 2, 2, 0, 1, 0, 3, 0, 0, 3, 3, 3, 1, 1, 1, 2, 0, 3, 2, 3, 0, 2, 1, 0, 2, 1, 0, 3, 3, 2, 3, 0, 2, 2, 2, 1, 3, 0, 2, 0, 0, 0, 2, 1, 0, 2, 0, 1, 2, 0, 1, 3, 3, 3, 1, 2, 0, 2, 3, 2, 2, 0, 2, 0, 0, 2, 0, 2, 0, 2, 0, 0, 1, 2, 0, 2, 0, 3, 1, 2, 0, 2, 0, 2, 0, 2, 0, 2, 0, 2, 0, 1, 1, 2, 3, 3, 3, 2, 0, 1, 1, 0, 3, 2, 3, 2, 0, 1, 3, 2, 2, 1, 3, 0, 2, 0, 0, 2, 2, 1, 2, 0, 2, 2, 2, 3, 1, 1, 1, 3, 1, 0, 2, 0, 0, 2, 1, 0, 3, 2, 2, 3, 1, 3, 1, 3, 3, 0, 3], fitness: 18.372881355932204, number_of_cp_reached: 9)\n",
            "(Path: [3, 1, 2, 2, 2, 1, 0, 3, 2, 3, 0, 0, 2, 3, 0, 3, 3, 0, 3, 0, 0, 1, 3, 1, 3, 1, 3, 2, 1, 0, 3, 0, 3, 2, 2, 2, 1, 1, 1, 3, 3, 1, 3, 1, 3, 1, 2, 3, 2, 2, 1, 3, 3, 0, 2, 1, 2, 0, 0, 0, 2, 0, 3, 2, 3, 0, 2, 0, 1, 3, 0, 1, 3, 0, 2, 2, 3, 3, 1, 0, 2, 1, 0, 2, 2, 0, 0, 3, 1, 2, 3, 3, 1, 1, 3, 1, 3, 1, 3, 1, 2, 0, 3, 0, 3, 2, 2, 0, 2, 0, 3, 1, 1, 0, 1, 2, 1, 3, 0, 0, 2, 0, 0, 2, 3, 1, 2, 3, 0, 2, 0, 1, 3, 3, 0, 2, 2, 1, 1, 1, 3, 2, 1, 0, 3, 1, 1, 3, 1, 1, 3, 1, 1, 2, 1, 1, 2, 0, 3, 2, 1, 1, 2, 0, 3, 3, 3, 1, 3, 1, 3, 2, 3, 3, 3, 2, 0, 0, 0, 2, 3, 0, 0, 3, 3, 2, 2, 0, 2, 2, 0, 0, 1, 0, 2, 1, 2, 0, 2, 0, 1, 3, 1, 1, 2, 3, 2, 0, 1, 2, 3, 2, 1, 2, 0, 2, 2, 0, 0, 3, 0, 1, 3, 0, 1, 3, 2, 0, 2, 0, 0, 2, 1, 0, 2, 3, 1, 3, 0, 2, 2, 1, 3, 2, 0, 0, 3, 1, 0, 2, 0, 2, 2, 0, 0, 2, 0, 3, 3, 0, 1, 3, 1, 3, 1, 1, 0, 3, 2, 1, 2, 2, 2, 0, 2, 2, 3, 1, 0, 0, 0, 2, 2, 1, 0, 2, 3, 0, 2, 2, 0, 0, 3, 0, 2, 0, 3, 1, 0, 1, 2, 2, 2, 2, 3, 3, 2, 3, 1, 1, 3, 1, 3, 3, 3, 2, 1, 3, 2, 3, 2, 1, 1, 0, 2, 0, 0, 2, 3, 0, 2, 0, 0, 1, 3, 1, 2, 1, 0, 1, 3, 2, 1, 2, 0, 2, 0, 1, 3, 0, 1, 2, 1, 3, 0, 3, 3, 2, 1, 3, 0, 0, 2, 2, 0, 3, 1, 0, 2, 2, 1, 0, 2, 0, 2, 2, 0, 2, 0, 2, 0, 3, 0, 3, 2, 3, 0, 2, 3, 1, 1, 3, 0, 1, 3, 1, 1, 1, 2, 3, 3, 1, 0, 0, 2, 1, 1, 1, 2, 0, 2, 2, 0, 0, 3, 3, 3, 2, 1, 1, 0, 1, 0, 2, 3, 2, 0, 0, 3, 3, 1, 1, 2, 3, 0, 3, 3, 1, 2, 2, 0, 1, 3, 1, 2, 1, 1, 2, 1, 1, 2, 1, 0, 3, 0, 0, 0, 0, 3, 3, 2, 0, 2, 3, 2, 3, 0, 1, 3, 1, 0, 0, 2, 0, 2, 1, 2, 3, 0, 0, 3, 0, 2, 0, 1, 2, 2, 0, 1, 3, 1, 3, 2, 1, 3, 2, 0, 0, 3, 1, 3, 0, 2, 1, 3, 0, 2, 0, 3, 3, 2, 0, 3, 1, 2, 3, 1, 0, 0, 2, 2, 0, 1, 0, 3, 1, 3, 0, 1, 0, 1, 3, 3, 1, 2, 2, 0, 1, 1, 0, 3, 2, 3, 2, 3, 2, 2, 0, 2, 0, 0, 3, 2, 0, 3, 2, 0, 0, 2, 0, 3, 1, 2, 1, 2, 0, 1, 2, 1, 0, 1, 1, 0, 3, 0, 2, 3, 3, 0, 2, 2, 0, 2, 3, 1, 1, 3, 1, 2, 1, 0, 3, 3, 1, 1, 0, 2, 2, 3, 0, 2, 0, 1, 3, 3, 1, 1, 0, 3, 2, 2, 0, 1, 3, 1, 2, 2, 0, 2, 1, 0, 2, 3, 0, 2, 0, 1, 3, 3, 0, 2, 0, 3, 2, 2, 0, 1, 1, 1, 3, 3, 3, 2, 2, 0, 2, 0, 2, 1, 2, 2, 2, 0, 3, 1, 2, 0, 1, 2, 2, 0, 3, 0, 2, 0, 3, 2, 1, 3, 1, 0, 0, 2, 0, 1, 3, 0, 3, 2, 2, 3, 2, 2, 2, 1, 2, 1, 2, 0, 3, 2, 2, 2, 1, 3, 1, 1, 1, 0, 2, 1, 3, 3, 3, 3, 1, 0, 2, 2, 2, 2, 3, 1, 2, 0, 0, 0, 0, 2, 2, 0, 0, 1, 0, 0, 2, 0, 1, 1, 3, 1, 0, 0, 2, 0, 0, 0, 0, 3, 3, 0, 3, 1, 3, 3, 2, 0, 0, 1, 2, 3, 0, 3, 0, 3, 3, 1, 0, 0, 1, 3, 3, 0, 1, 2, 1, 0, 0, 0, 2, 2, 3, 0, 0, 2, 0, 1, 3, 2, 2, 3, 2, 1, 2, 2, 1, 3, 1, 1, 0, 1, 0, 2, 1, 3, 3, 1, 0, 2, 1, 3, 0, 0, 2, 3, 3, 1, 3, 2, 2, 3, 2, 0, 3, 1, 0, 3, 1, 1, 0, 0, 1, 2, 0, 1, 2, 3, 0, 3, 2, 3, 2, 2, 3, 0, 2, 2, 0, 1, 2, 3, 1, 0, 3, 0, 1, 0, 0, 0, 0, 3, 1, 2, 2, 1, 3, 3, 1, 2, 0, 2, 3, 2, 3, 0, 2, 2, 2, 2, 2, 0, 3, 0, 1, 2, 2, 0, 0, 2, 2, 3, 2, 0, 2, 0, 1, 1, 1, 2, 3, 0, 2, 2, 0, 2, 1, 3, 2, 1, 0, 3, 3, 3, 1, 1, 2, 2, 1, 1, 3, 3, 0, 3, 2, 3, 2, 0, 3, 1, 2, 3, 1, 0, 1, 3, 3, 0, 0, 1, 0, 0, 2, 0, 2, 2, 3, 2, 2, 1, 3, 1, 1, 2, 0, 1, 2, 1, 0, 3, 0, 2, 3, 1, 2, 3, 0, 1, 3, 0, 2, 3, 1, 1, 2, 1, 2, 3, 0, 2, 2, 2, 0, 2, 2, 3, 2, 0, 0, 3, 3, 1, 3, 1, 1, 3, 1, 3, 2, 0, 0, 3, 0, 2, 1, 1, 2, 3, 3, 2, 1, 0, 1, 3, 3, 2, 2, 0, 1, 3, 1, 3, 2, 0, 3, 1, 0, 0, 2, 2, 2, 2, 0, 0, 1, 3, 3, 1, 3, 1, 2, 2, 1, 2, 0, 3, 1, 1, 0, 0, 2, 2, 3, 1, 0, 2, 1, 1, 3, 2, 1, 3, 0, 1, 2, 0, 1, 3, 3, 2, 2, 0, 0, 2, 2, 0, 0, 2, 0, 3, 0, 0, 2, 1, 3, 2, 1, 2, 2, 0, 1, 2, 1, 3, 2, 2, 2, 2, 3, 1, 3, 2, 3, 3, 1, 1, 3, 2, 0, 3, 0, 1, 2, 3, 1, 3, 2, 0, 2, 0, 0, 2, 1, 3, 0, 1, 0, 3, 1, 1, 2, 3, 1, 2, 3, 3, 0, 2, 2, 3, 1, 1, 2, 0, 0, 3, 1, 2, 2, 1, 2, 3, 0, 2, 3, 1, 1, 3, 0, 0, 3, 1, 3, 0, 0, 2, 2, 3, 3, 2, 1, 2, 3, 3, 3, 1, 1, 3, 0, 2, 0, 1, 3, 1, 1, 3, 2, 1, 0, 0, 3, 3, 0, 1, 3, 1, 0, 1, 0, 0, 0, 0, 1, 3, 1, 3, 1, 0, 0, 3, 3, 0, 2, 3, 1, 0, 2, 1, 1, 1, 0, 0, 3, 0, 2, 0, 3, 2, 1, 3, 3, 0, 1, 3, 2, 0, 0, 0, 1, 2, 1, 3, 1, 1, 0, 0, 2, 0, 3, 0, 3, 0, 0, 3, 3, 1, 1, 1, 1, 1, 2, 2, 0, 2, 3, 3, 2, 3, 0, 3, 0, 0, 2, 3, 1, 0, 3, 1, 3, 1, 0, 2, 3, 1, 1, 1, 3, 1, 0, 0, 3, 1, 0, 0, 2, 0, 3, 0, 3, 3, 1, 1, 3, 1, 0, 2, 2, 3, 3, 2, 1, 0, 1, 0, 1, 1, 0, 2, 0, 3, 1, 2, 0, 2, 3, 3, 1, 0, 0, 0, 0, 3, 3, 0, 2, 2, 3, 3, 1, 1, 2, 2, 3, 3, 3, 2, 0, 0, 1, 2, 1, 1, 2, 3, 3, 0, 2, 3, 0, 0, 0, 0, 3, 3, 3, 1, 3, 2, 0, 1, 0, 3, 1, 3, 2, 2, 2, 0, 2, 1, 2, 0, 2, 0, 2, 0, 3, 0, 2, 0, 0, 1, 0, 1, 3, 2, 3, 2, 2, 0, 2, 0, 2, 1, 2, 0, 2, 2, 0, 0, 2, 0, 3, 0, 0, 1, 3, 0, 1, 3, 1, 2, 0, 2, 3, 0, 1, 2, 3, 2, 2, 0, 2, 1, 2, 0, 3, 0, 2, 0, 0, 1, 0, 1, 3, 2, 3, 0, 2, 1, 3, 1, 0, 1, 2, 0, 3, 2, 3, 2, 0, 0, 2, 1, 0, 2, 0, 2, 0, 2, 3, 1, 3, 1, 3, 2, 2, 1, 3, 0, 0, 2, 0, 1, 3, 2, 0, 2, 0, 1, 3, 2, 2, 0, 2, 1, 3, 1, 2, 0, 2, 0, 2, 0, 2, 0, 2, 0, 3, 1, 2, 0, 3, 0, 2, 0, 0, 2, 0, 0, 1, 3, 1, 2, 0, 2, 3, 2, 2, 0, 2, 0, 0, 1, 1, 3, 0, 1, 2, 3, 3, 2, 0, 0, 1, 3, 1, 2, 1, 0, 2, 3, 3, 2, 0, 2, 0, 1, 3, 2, 0, 1, 3, 0, 2, 2, 0, 1, 0, 3, 1, 3, 1, 2, 0, 3, 1, 2, 1, 1, 2, 0, 0, 3, 1, 1, 1, 1, 2, 3, 1, 1, 2, 0, 2, 3, 0, 3, 0, 1, 2, 3, 2, 0, 2, 2, 1, 3, 2, 3, 2, 0, 1, 2, 2, 1, 0, 0, 0, 2, 0, 3, 2, 2, 1, 3, 2, 0, 2, 0, 0, 2, 0, 3, 3, 2, 1, 3, 0, 1, 3, 1, 1, 2, 1, 0, 3, 0, 3, 3, 0, 0, 2, 2, 1, 3, 1, 2, 2, 0, 0, 3, 1, 2, 2, 3, 2, 3, 3, 3, 1, 3, 2, 1, 2, 1, 3, 3, 2, 1, 0, 3, 0, 0, 2, 1, 2, 3, 0, 2, 1, 3, 1, 3, 0, 2, 0, 1, 0, 3, 1, 0, 3], fitness: 14.338983050847459, number_of_cp_reached: 9) (Path: [3, 2, 3, 2, 2, 0, 2, 0, 1, 2, 1, 3, 3, 2, 0, 0, 1, 1, 2, 0, 3, 3, 0, 0, 2, 1, 3, 2, 1, 1, 2, 3, 2, 3, 1, 3, 0, 2, 0, 3, 0, 0, 3, 1, 1, 3, 1, 3, 2, 2, 2, 0, 1, 2, 0, 3, 2, 0, 3, 1, 3, 3, 3, 0, 1, 0, 3, 0, 3, 1, 1, 3, 2, 0, 3, 1, 1, 3, 3, 0, 1, 3, 2, 0, 1, 0, 3, 2, 3, 0, 2, 0, 1, 2, 2, 0, 1, 2, 0, 2, 3, 2, 2, 0, 1, 3, 1, 2, 2, 1, 0, 3, 1, 0, 2, 3, 3, 0, 3, 3, 2, 0, 2, 0, 1, 3, 1, 0, 1, 3, 2, 0, 2, 0, 0, 2, 0, 2, 1, 3, 1, 3, 3, 0, 2, 3, 3, 1, 2, 1, 2, 3, 3, 1, 1, 3, 1, 0, 3, 2, 0, 3, 2, 1, 2, 1, 1, 2, 1, 1, 0, 0, 0, 2, 3, 0, 2, 0, 0, 2, 2, 0, 1, 3, 1, 0, 2, 1, 1, 3, 0, 2, 2, 0, 3, 3, 3, 3, 1, 0, 0, 2, 0, 1, 3, 0, 0, 2, 2, 3, 2, 1, 0, 1, 3, 1, 3, 3, 1, 1, 0, 1, 2, 0, 0, 2, 3, 2, 2, 2, 1, 3, 1, 2, 2, 2, 1, 3, 1, 2, 3, 1, 2, 2, 1, 1, 2, 1, 3, 2, 3, 1, 2, 3, 2, 0, 1, 2, 2, 0, 3, 0, 1, 0, 2, 0, 3, 2, 1, 2, 3, 0, 3, 3, 2, 0, 3, 2, 2, 2, 2, 2, 2, 2, 2, 0, 1, 0, 3, 2, 0, 3, 0, 0, 0, 2, 3, 3, 2, 2, 0, 2, 0, 0, 0, 0, 0, 2, 3, 0, 3, 0, 1, 0, 3, 1, 1, 1, 0, 0, 3, 3, 1, 1, 3, 0, 2, 3, 0, 2, 0, 2, 2, 0, 2, 0, 1, 2, 3, 1, 1, 3, 0, 3, 0, 0, 0, 0, 0, 0, 3, 1, 0, 2, 1, 3, 1, 3, 1, 1, 3, 1, 3, 3, 2, 1, 0, 0, 2, 3, 1, 3, 1, 3, 3, 0, 0, 2, 1, 0, 1, 3, 2, 1, 0, 3, 2, 1, 0, 3, 1, 0, 1, 3, 1, 3, 0, 1, 1, 2, 1, 2, 3, 3, 0, 0, 2, 0, 3, 2, 0, 3, 3, 1, 3, 1, 2, 2, 3, 1, 2, 2, 0, 3, 2, 0, 3, 1, 1, 3, 2, 1, 3, 3, 0, 1, 1, 1, 3, 2, 2, 2, 1, 0, 2, 0, 0, 2, 3, 3, 2, 3, 0, 1, 2, 0, 3, 1, 2, 2, 1, 0, 2, 2, 0, 2, 0, 0, 3, 0, 2, 2, 2, 3, 1, 0, 0, 3, 1, 1, 2, 3, 1, 2, 3, 0, 2, 1, 2, 2, 3, 1, 3, 0, 1, 3, 0, 3, 1, 0, 3, 1, 0, 2, 3, 2, 0, 1, 3, 2, 0, 1, 0, 3, 2, 3, 2, 0, 1, 1, 2, 1, 3, 1, 3, 3, 1, 0, 2, 2, 2, 3, 1, 1, 2, 0, 1, 2, 3, 0, 2, 3, 2, 0, 3, 0, 3, 3, 1, 3, 2, 0, 2, 3, 1, 0, 1, 1, 2, 1, 0, 2, 3, 0, 2, 2, 0, 0, 1, 2, 2, 3, 0, 2, 1, 1, 2, 2, 1, 2, 0, 2, 3, 3, 3, 2, 1, 2, 3, 0, 2, 2, 1, 0, 2, 2, 0, 3, 2, 0, 2, 1, 2, 2, 1, 1, 3, 3, 1, 2, 1, 2, 2, 1, 2, 2, 1, 1, 2, 2, 1, 2, 3, 0, 2, 1, 0, 3, 2, 1, 3, 1, 0, 2, 1, 3, 3, 3, 0, 2, 1, 1, 3, 0, 1, 3, 0, 0, 3, 1, 2, 3, 1, 3, 3, 2, 3, 2, 1, 0, 2, 0, 2, 3, 0, 1, 3, 0, 3, 2, 0, 0, 2, 2, 2, 3, 1, 0, 2, 0, 3, 3, 0, 1, 3, 0, 1, 2, 2, 1, 3, 0, 1, 2, 1, 3, 2, 3, 3, 3, 1, 1, 3, 3, 3, 3, 1, 1, 1, 0, 2, 0, 0, 1, 0, 2, 3, 0, 0, 3, 3, 3, 0, 1, 1, 0, 3, 3, 3, 1, 3, 0, 1, 1, 1, 3, 3, 1, 3, 3, 1, 0, 1, 3, 1, 1, 0, 0, 1, 0, 0, 1, 0, 0, 3, 3, 1, 1, 3, 0, 0, 0, 3, 1, 3, 3, 0, 2, 0, 3, 2, 1, 0, 0, 3, 2, 2, 0, 1, 3, 0, 1, 1, 0, 0, 0, 0, 1, 0, 3, 0, 1, 3, 2, 2, 3, 0, 0, 0, 0, 1, 3, 0, 1, 3, 3, 0, 2, 3, 2, 2, 2, 3, 2, 1, 3, 0, 0, 1, 3, 1, 1, 2, 3, 0, 3, 1, 1, 2, 1, 3, 3, 3, 0, 3, 1, 3, 0, 0, 3, 3, 3, 0, 2, 1, 1, 3, 1, 1, 2, 2, 1, 3, 1, 0, 3, 0, 2, 2, 2, 0, 2, 2, 1, 0, 3, 0, 0, 0, 0, 2, 3, 3, 0, 3, 2, 2, 0, 0, 2, 1, 1, 0, 2, 0, 2, 1, 2, 2, 1, 2, 2, 3, 0, 2, 0, 0, 0, 0, 2, 2, 1, 2, 3, 2, 0, 2, 0, 2, 0, 1, 1, 3, 3, 1, 3, 1, 0, 3, 0, 1, 3, 1, 2, 3, 0, 0, 3, 1, 0, 3, 3, 1, 2, 0, 2, 3, 1, 0, 3, 2, 0, 3, 1, 3, 2, 2, 0, 1, 0, 1, 3, 3, 1, 2, 1, 3, 3, 1, 3, 1, 1, 1, 3, 0, 3, 3, 2, 1, 0, 1, 3, 3, 1, 2, 0, 1, 2, 3, 0, 1, 3, 3, 2, 1, 3, 1, 3, 0, 2, 2, 0, 0, 2, 0, 1, 2, 3, 0, 2, 1, 1, 3, 1, 0, 3, 2, 0, 2, 1, 1, 2, 0, 0, 3, 2, 0, 3, 1, 1, 2, 0, 3, 3, 3, 1, 3, 2, 0, 2, 2, 2, 0, 0, 2, 0, 2, 0, 2, 0, 1, 3, 1, 0, 2, 0, 1, 3, 1, 1, 3, 1, 1, 3, 1, 3, 3, 1, 3, 2, 1, 0, 3, 2, 0, 3, 2, 1, 0, 3, 1, 3, 2, 1, 0, 3, 2, 0, 3, 1, 3, 2, 0, 1, 1, 2, 3, 0, 3, 1, 3, 1, 2, 3, 0, 2, 0, 1, 3, 2, 2, 0, 0, 1, 2, 1, 0, 2, 3, 1, 0, 3, 3, 2, 2, 0, 1, 0, 2, 0, 2, 3, 2, 2, 0, 2, 0, 0, 1, 0, 2, 0, 1, 1, 2, 0, 2, 2, 2, 2, 2, 1, 1, 3, 3, 2, 0, 1, 0, 3, 0, 1, 2, 2, 3, 0, 2, 0, 2, 0, 0, 0, 1, 2, 2, 2, 0, 3, 0, 0, 2, 2, 0, 0, 2, 0, 0, 0, 3, 2, 1, 2, 2, 0, 2, 2, 2, 1, 3, 0, 2, 2, 0, 2, 0, 2, 3, 1, 0, 0, 0, 0, 2, 2, 0, 1, 3, 0, 0, 3, 0, 3, 3, 1, 1, 3, 3, 2, 1, 3, 0, 1, 2, 3, 2, 2, 0, 0, 0, 1, 2, 0, 3, 2, 0, 2, 1, 1, 0, 2, 3, 0, 2, 1, 1, 3, 1, 3, 0, 3, 1, 2, 3, 0, 2, 3, 0, 2, 1, 0, 3, 2, 0, 1, 3, 1, 3, 1, 3, 2, 0, 1, 2, 0, 2, 0, 1, 2, 3, 3, 2, 2, 1, 2, 2, 3], fitness: 10.898305084745763, number_of_cp_reached: 9)\n",
            "(Path: [3, 2, 2, 3, 1, 3, 3, 1, 1, 3, 2, 3, 0, 0, 1, 3, 0, 2, 2, 0, 1, 3, 0, 1, 2, 2, 3, 2, 2, 0, 0, 0, 2, 2, 0, 2, 0, 0, 1, 2, 0, 2, 3, 1, 1, 3, 3, 0, 2, 2, 0, 2, 0, 2, 0, 1, 0, 2, 1, 0, 3, 3, 2, 0, 3, 0, 3, 3, 2, 2, 2, 0, 1, 0, 2, 3, 0, 1, 2, 3, 3, 0, 0, 2, 2, 0, 3, 0, 1, 0, 2, 2, 0, 3, 0, 0, 1, 2, 0, 2, 0, 0, 3, 3, 3, 1, 1, 3, 2, 1, 1, 2, 2, 0, 3, 2, 3, 2, 2, 3, 1, 3, 2, 0, 2, 0, 1, 2, 2, 1, 1, 1, 3, 1, 0, 2, 2, 0, 3, 3, 2, 1, 3, 2, 0, 0, 0, 2, 3, 1, 1, 1, 1, 2, 3, 2, 0, 1, 2, 3, 0, 0, 3, 2, 1, 2, 0, 3, 3, 2, 3, 1, 1, 3, 1, 2, 2, 3, 1, 3, 2, 1, 2, 2, 2, 2, 2, 2, 1, 2, 0, 3, 2, 2, 3, 1, 3, 2, 1, 0, 3, 0, 0, 1, 0, 2, 0, 3, 1, 2, 3, 1, 2, 0, 0, 0, 3, 0, 3, 0, 0, 0, 3, 0, 0, 3, 0, 0, 1, 2, 0, 1, 3, 1, 0, 0, 1, 2, 0, 2, 0, 2, 2, 3, 2, 2, 3, 1, 0, 3, 3, 0, 1, 1, 3, 3, 1, 2, 0, 3, 1, 1, 1, 1, 3, 1, 1, 3, 1, 0, 3, 1, 2, 3, 3, 3, 3, 2, 3, 0, 3, 0, 0, 0, 2, 1, 2, 0, 1, 0, 2, 3, 2, 3, 1, 2, 2, 0, 3, 1, 0, 2, 0, 0, 1, 3, 1, 1, 2, 0, 3, 0, 3, 1, 1, 0, 3, 0, 0, 3, 1, 3, 2, 3, 1, 2, 3, 0, 1, 0, 1, 0, 0, 2, 1, 0, 3, 1, 2, 0, 2, 1, 0, 1, 1, 2, 2, 1, 3, 3, 2, 0, 2, 2, 0, 3, 1, 0, 3, 3, 0, 3, 2, 3, 1, 0, 3, 0, 2, 0, 2, 1, 2, 0, 0, 3, 1, 1, 3, 3, 3, 1, 2, 1, 2, 0, 2, 2, 2, 0, 2, 1, 0, 3, 3, 2, 0, 2, 3, 0, 1, 3, 3, 1, 1, 3, 0, 1, 3, 1, 2, 3, 2, 1, 3, 0, 2, 2, 0, 0, 2, 0, 0, 1, 3, 1, 2, 2, 3, 3, 1, 1, 2, 1, 1, 3, 0, 3, 3, 1, 3, 2, 1, 2, 3, 1, 3, 3, 2, 3, 2, 3, 1, 1, 1, 2, 2, 2, 1, 3, 1, 3, 2, 3, 2, 0, 1, 3, 1, 2, 0, 3, 3, 2, 1, 2, 2, 1, 1, 1, 3, 0, 3, 3, 0, 3, 1, 2, 0, 1, 2, 3, 1, 3, 0, 1, 2, 3, 1, 2, 2, 0, 2, 1, 3, 0, 3, 1, 3, 1, 0, 1, 3, 3, 1, 3, 0, 1, 0, 0, 3, 0, 2, 0, 1, 3, 1, 3, 3, 0, 0, 2, 0, 3, 1, 1, 3, 2, 0, 3, 1, 2, 0, 2, 0, 2, 0, 1, 3, 2, 0, 0, 0, 0, 2, 2, 1, 2, 0, 1, 0, 3, 0, 1, 2, 1, 0, 3, 2, 0, 2, 0, 0, 3, 2, 0, 2, 1, 1, 2, 1, 3, 2, 3, 1, 3, 3, 1, 2, 1, 1, 2, 0, 3, 3, 2, 0, 3, 3, 3, 1, 0, 1, 3, 1, 0, 3, 0, 1, 2, 2, 0, 2, 2, 3, 2, 0, 1, 0, 0, 3, 3, 3, 0, 1, 2, 0, 2, 0, 0, 1, 1, 2, 2, 2, 2, 3, 1, 0, 2, 1, 2, 0, 2, 1, 3, 1, 0, 2, 1, 1, 3, 1, 0, 2, 3, 1, 2, 0, 0, 3, 3, 0, 2, 2, 1, 2, 0, 1, 2, 0, 1, 3, 2, 3, 3, 2, 1, 2, 1, 2, 0, 1, 3, 3, 1, 0, 3, 0, 2, 2, 0, 0, 3, 1, 2, 3, 0, 2, 2, 3, 2, 2, 1, 3, 2, 0, 1, 2, 2, 0, 3, 2, 2, 2, 0, 2, 3, 2, 1, 2, 1, 3, 2, 0, 1, 2, 0, 2, 2, 3, 3, 3, 3, 1, 3, 2, 1, 2, 2, 1, 2, 1, 0, 3, 0, 3, 2, 1, 3, 2, 0, 2, 2, 0, 0, 3, 0, 2, 1, 0, 0, 3, 2, 1, 2, 1, 1, 3, 2, 3, 2, 1, 3, 3, 1, 0, 2, 3, 1, 3, 3, 3, 1, 0, 0, 2, 0, 0, 1, 1, 0, 2, 0, 2, 2, 2, 0, 2, 0, 0, 2, 1, 0, 2, 0, 2, 3, 2, 0, 3, 0, 1, 2, 2, 2, 0, 0, 3, 0, 3, 2, 1, 0, 1, 3, 2, 0, 2, 0, 3, 2, 0, 3, 1, 0, 0, 1, 3, 1, 2, 0, 1, 3, 3, 1, 2, 2, 3, 1, 0, 1, 3, 2, 0, 1, 1, 1, 2, 3, 1, 2, 3, 1, 2, 3, 3, 2, 0, 1, 3, 0, 0, 2, 0, 2, 3, 3, 0, 2, 0, 3, 0, 3, 1, 1, 2, 0, 1, 3, 2, 2, 0, 0, 2, 3, 0, 2, 0, 2, 0, 2, 0, 1, 0, 1, 1, 2, 2, 3, 2, 1, 3, 0, 1, 2, 0, 3, 1, 2, 1, 2, 2, 2, 2, 0, 0, 3, 1, 1, 2, 1, 3, 3, 0, 3, 0, 2, 0, 0, 1, 0, 3, 3, 1, 3, 1, 0, 3, 1, 2, 3, 2, 0, 1, 1, 1, 3, 2, 1, 3, 3, 1, 2, 3, 0, 2, 2, 1, 2, 0, 0, 3, 1, 0, 3, 2, 0, 3, 0, 3, 2, 0, 0, 1, 0, 0, 1, 3, 3, 1, 3, 2, 1, 2, 3, 2, 3, 0, 2, 3, 3, 1, 3, 0, 2, 0, 0, 2, 0, 1, 2, 3, 0, 2, 0, 0, 1, 2, 1, 2, 0, 1, 1, 1, 1, 3, 0, 0, 0, 1, 3, 2, 2, 0, 2, 0, 0, 2, 0, 1, 3, 2, 0, 3, 0, 2, 0, 0, 1, 3, 1, 0, 2, 3, 1, 3, 0, 2, 2, 0, 1, 0, 3, 1, 3, 1, 0, 3, 3, 3, 1, 2, 0, 2, 1, 2, 1, 3, 3, 2, 3, 3, 2, 1, 0, 2, 0, 2, 2, 3, 3, 2, 1, 0, 1, 0, 2, 0, 1, 0, 2, 0, 0, 2, 1, 3, 1, 0, 3, 1, 2, 0, 1, 0, 0, 3, 0, 0, 2, 0, 0, 1, 3, 2, 1, 0, 1, 3, 1, 1, 2, 2, 0, 2, 1, 0, 3, 2, 0, 3, 3, 3, 2, 2, 0, 2, 3, 2, 1, 0, 3, 2, 1, 0, 2, 1, 2, 3, 3, 3, 1, 2, 1, 2, 3, 3, 2, 0, 0, 2, 2, 0, 1, 3, 3, 2, 3, 1, 2, 2, 3, 2, 0, 1, 2, 2, 0, 1, 3, 1, 2, 3, 1, 0, 1, 3, 2, 0, 3, 2, 1, 3, 1, 0, 2, 1, 2, 2, 0, 2, 0, 1, 1, 0, 3, 0, 2, 2, 0, 1, 2, 1, 3, 2, 2, 1, 3, 1, 3, 3, 2, 0, 1, 0, 2, 3, 3, 1, 1, 0, 1, 2, 1, 3, 2, 0, 3, 0, 1, 1, 2, 3, 3, 3, 3, 2, 2, 1, 1, 1, 3, 1, 3, 3, 0, 0, 2, 0, 3, 3, 0, 1, 0, 1, 0, 0, 1, 0, 2, 3, 3, 0, 2, 1, 0, 2, 0, 2, 1, 3, 0, 1, 0, 0, 0, 1, 0, 1, 3, 0, 2, 0, 3, 1, 0, 3, 3, 3, 2, 3, 0, 0, 0, 0, 3, 2, 1, 3, 3, 0, 2, 0, 1, 2, 2, 1, 1, 2, 1, 0, 3, 1, 0, 2, 3, 3, 3, 0, 3, 0, 0, 0, 0, 0, 2, 1, 1, 1, 3, 1, 2, 2, 1, 0, 3, 1, 3, 3, 0, 2, 3, 0, 1, 2, 1, 3, 2, 0, 2, 0, 0, 0, 3, 1, 1, 3, 1, 2, 2, 0, 0, 2, 0, 3, 2, 0, 2, 2, 0, 3, 3, 0, 2, 1, 0, 1, 2, 1, 2, 0, 0, 2, 0, 2, 3, 3, 1, 3, 1, 0, 3, 1, 1, 3, 1, 2, 1, 1, 0, 0, 2, 0, 2, 0, 0, 1, 0, 0, 0, 3, 3, 1, 3, 3, 1, 0, 3, 0, 0, 1, 2, 0, 1, 3, 1, 3, 3, 0, 3, 3, 1, 2, 0, 3, 3, 2, 0, 3, 1, 1, 1, 1, 3, 2, 0, 2, 2, 1, 3, 3, 2, 1, 2, 3, 2, 3, 2, 0, 0, 0, 0, 2, 1, 2, 2, 3, 0, 2, 0, 0, 2, 2, 1, 0, 0, 3, 2, 2, 1, 3, 2, 3, 3, 2, 2, 0, 0, 1, 1, 3, 1, 3, 1, 0, 0, 1, 2, 0, 1, 1, 3, 0, 2, 3, 1, 0, 2, 0, 1, 3, 3, 2, 3, 2, 0, 0, 2, 2, 2, 0, 0, 2, 0, 0, 2, 1, 3, 0, 1, 0, 2, 2, 2, 0, 2, 1, 3, 0, 1, 3, 0, 0, 2, 2, 1, 3, 2, 1, 2, 2, 2, 3, 1, 0, 0, 0, 2, 0, 2, 0, 2, 0, 3, 0, 2, 0, 3, 1, 3, 2, 1, 0, 2, 0, 2, 3, 2, 0, 2, 0, 1, 0, 0, 2, 2, 3, 1, 3, 0, 0, 2, 1, 3, 2, 2, 0, 2, 0, 2, 0, 0, 0, 0, 1, 1, 2, 0, 1, 2, 2, 0, 3, 0, 0, 0, 1, 3, 2, 0, 2, 2, 1, 0, 3, 2, 3, 3, 2, 1, 3, 0, 1, 3, 1, 1, 2, 1, 2, 2, 2, 1, 0, 1, 3, 3, 3, 2, 0, 1, 3, 2, 1, 0, 2, 3, 2, 3, 1, 1, 0, 3, 0, 2, 0, 2, 0, 3, 1, 2, 1, 1, 3, 2, 3, 0, 1, 1, 0, 2, 0, 2, 0, 1, 2, 1, 0, 3, 1, 0, 2, 1, 1, 2, 3, 3, 0, 0, 1, 2, 0, 0, 2, 3, 3, 2, 3, 3, 2, 2, 0, 3, 2, 3, 1, 2, 0, 3, 2, 2, 0, 0, 2, 3, 2, 2, 3, 3, 0, 3, 1, 0, 0, 2, 0, 0, 3, 2, 1, 0, 1, 1, 3, 1, 0, 0, 0, 2, 2, 2, 0, 2, 0, 2, 0, 0, 2, 2, 0, 0, 0, 0, 2, 2, 0, 2, 0, 1, 3, 0, 2, 2, 0, 0, 0, 2, 2, 0, 0, 3, 0, 1, 1, 3, 2, 2, 2, 2, 2, 2, 0, 2, 3, 1, 0, 2, 0, 0, 0, 1, 2, 2, 1, 1, 2, 3, 0, 2, 2, 1, 0, 1, 3, 3, 1, 1, 3, 0, 2, 0, 0, 1, 3, 3, 1, 3, 2, 0, 2, 0, 3, 3, 0, 0, 0, 0, 3, 2, 0, 3, 2, 0, 2, 0, 2, 0, 2, 1, 3, 0, 1, 3, 3, 1, 3, 2, 1, 0, 2, 3, 0, 2, 2, 0, 2, 0, 1, 3, 2, 0, 2, 2, 0, 0, 1, 3, 2, 2, 0, 2, 0, 0, 1, 0, 1, 2, 0, 3, 3, 2, 1, 0, 1, 1, 2, 0, 3, 2, 3, 1, 3, 3, 2, 0, 2, 0, 2, 0, 2, 2, 0, 2, 0, 0, 2, 0, 0, 2, 1, 0, 3, 2, 0, 2, 1, 0, 1, 3, 3, 1, 3, 2, 0, 1, 1, 2, 0, 1, 3, 2, 0, 2, 3, 1, 0, 2, 3, 0, 2, 3, 1, 3, 0, 2, 2, 0, 0, 2, 1, 3, 2, 0, 0, 2, 2, 0, 2, 0, 1, 3, 0, 1, 3, 1, 1, 2, 3, 0, 3, 1, 1, 2, 0, 3, 2, 1, 0, 3, 2, 1, 0, 1, 2, 3, 0, 3, 2, 0, 1, 3, 1, 1, 3, 3, 1, 3, 2, 0, 2, 3, 2, 2, 0, 2, 1, 2, 0, 3, 1, 2, 0, 2, 0, 2, 0, 3, 1, 2, 0, 3, 0, 0, 2, 0, 0, 1, 3, 2, 2, 2, 1, 3, 0, 0, 2, 0, 0, 1, 1, 2, 0, 3, 2, 3, 0, 2, 2, 2, 1, 2, 2, 3], fitness: 17.64406779661017, number_of_cp_reached: 9) (Path: [2, 3, 3, 3, 0, 2, 3, 0, 3, 2, 1, 1, 2, 0, 3, 0, 3, 1, 2, 0, 2, 3, 1, 0, 2, 0, 3, 2, 2, 0, 3, 0, 2, 2, 0, 0, 2, 0, 0, 2, 3, 0, 1, 3, 2, 1, 0, 1, 2, 3, 3, 2, 1, 3, 1, 3, 3, 1, 3, 1, 1, 0, 0, 3, 0, 1, 2, 1, 2, 3, 2, 3, 2, 0, 2, 0, 3, 1, 3, 0, 0, 2, 1, 0, 3, 3, 1, 2, 2, 3, 1, 0, 0, 2, 1, 1, 2, 3, 1, 2, 0, 3, 3, 3, 1, 0, 0, 2, 1, 2, 3, 0, 3, 3, 1, 3, 1, 2, 2, 2, 1, 2, 3, 2, 2, 0, 2, 1, 1, 2, 0, 0, 2, 3, 0, 1, 1, 1, 3, 3, 1, 3, 3, 2, 1, 0, 3, 2, 0, 2, 1, 3, 3, 2, 2, 2, 2, 0, 2, 1, 1, 1, 2, 0, 2, 2, 0, 2, 3, 3, 0, 1, 2, 1, 3, 1, 1, 3, 0, 0, 2, 3, 2, 2, 1, 0, 3, 2, 1, 3, 0, 0, 3, 1, 1, 2, 1, 3, 3, 0, 1, 2, 2, 0, 3, 0, 2, 3, 1, 0, 2, 0, 2, 2, 1, 0, 2, 2, 3, 2, 3, 1, 3, 2, 0, 0, 3, 1, 3, 1, 1, 0, 1, 0, 0, 0, 3, 3, 3, 0, 0, 1, 3, 3, 1, 1, 3, 3, 0, 3, 0, 0, 0, 3, 1, 0, 3, 1, 0, 0, 1, 3, 0, 3, 0, 1, 1, 0, 3, 0, 3, 1, 2, 2, 1, 3, 3, 1, 3, 2, 2, 1, 0, 3, 1, 3, 3, 1, 2, 0, 0, 1, 1, 0, 2, 1, 1, 3, 1, 2, 3, 1, 0, 2, 2, 0, 3, 0, 0, 3, 2, 0, 3, 2, 1, 2, 2, 3, 3, 1, 1, 2, 1, 0, 3, 1, 3, 3, 0, 3, 2, 0, 1, 2, 0, 1, 2, 1, 2, 3, 0, 2, 3, 3, 2, 3, 2, 2, 0, 2, 3, 1, 0, 2, 1, 3, 0, 2, 3, 3, 1, 1, 0, 1, 1, 2, 2, 1, 1, 3, 2, 1, 2, 3, 1, 3, 3, 0, 3, 1, 2, 3, 3, 0, 3, 0, 0, 3, 1, 3, 1, 1, 0, 3, 0, 0, 2, 2, 1, 2, 0, 1, 2, 3, 3, 3, 1, 2, 0, 1, 1, 2, 0, 0, 2, 3, 3, 2, 2, 3, 2, 0, 3, 1, 2, 0, 1, 0, 2, 0, 0, 1, 3, 0, 1, 3, 0, 0, 2, 1, 0, 3, 3, 3, 1, 3, 0, 1, 1, 1, 2, 1, 1, 3, 0, 3, 2, 3, 0, 2, 2, 1, 2, 3, 1, 2, 0, 3, 2, 1, 0, 2, 0, 0, 3, 0, 3, 1, 0, 1, 2, 2, 1, 3, 1, 0, 3, 1, 2, 3, 2, 3, 0, 0, 2, 2, 0, 3, 0, 0, 1, 2, 1, 0, 2, 3, 1, 3, 1, 0, 2, 3, 3, 1, 2, 0, 3, 3, 2, 2, 0, 3, 1, 0, 0, 2, 2, 1, 0, 3, 2, 1, 1, 1, 2, 1, 3, 3, 2, 2, 0, 0, 2, 3, 1, 3, 1, 2, 2, 3, 1, 0, 2, 0, 2, 3, 3, 2, 2, 1, 2, 1, 0, 1, 2, 2, 1, 3, 1, 3, 2, 1, 0, 2, 1, 1, 2, 2, 1, 3, 3, 1, 2, 3, 3, 2, 2, 0, 2, 1, 0, 3, 3, 1, 3, 3, 2, 0, 2, 0, 3, 0, 0, 2, 2, 0, 2, 0, 0, 2, 2, 1, 3, 1, 3, 0, 0, 2, 2, 3, 3, 2, 3, 0, 2, 2, 3, 2, 1, 2, 1, 0, 1, 2, 3, 2, 1, 3, 0, 1, 0, 1, 1, 2, 3, 2, 2, 0, 2, 1, 0, 2, 3, 3, 1, 0, 2, 1, 3, 0, 2, 1, 1, 3, 2, 0, 3, 3, 0, 1, 2, 0, 1, 3, 1, 3, 0, 2, 2, 0, 2, 0, 1, 2, 2, 0, 3, 0, 3, 2, 1, 0, 0, 1, 1, 0, 2, 0, 1, 3, 2, 2, 2, 2, 2, 3, 0, 0, 2, 1, 1, 2, 2, 0, 2, 2, 3, 3, 1, 3, 3, 1, 1, 3, 1, 3, 3, 0, 0, 1, 3, 1, 3, 3, 0, 0, 1, 3, 1, 0, 0, 3, 3, 1, 0, 0, 1, 3, 1, 1, 0, 2, 0, 0, 1, 0, 0, 1, 1, 3, 1, 2, 0, 0, 0, 0, 2, 1, 3, 2, 3, 3, 1, 3, 0, 2, 1, 0, 0, 2, 3, 2, 1, 0, 0, 1, 3, 2, 0, 3, 0, 2, 0, 3, 0, 3, 1, 1, 0, 1, 0, 0, 2, 0, 0, 2, 0, 0, 0, 1, 0, 0, 2, 3, 3, 2, 3, 2, 0, 0, 2, 3, 3, 1, 0, 3, 2, 3, 1, 2, 0, 0, 3, 3, 1, 2, 0, 0, 2, 0, 1, 1, 2, 0, 2, 2, 0, 2, 3, 0, 1, 0, 0, 1, 1, 1, 1, 3, 3, 1, 1, 0, 0, 1, 0, 3, 2, 0, 2, 1, 0, 3, 3, 1, 3, 1, 2, 0, 3, 1, 1, 3, 3, 1, 1, 3, 3, 1, 2, 2, 0, 0, 3, 1, 2, 0, 2, 0, 2, 0, 3, 1, 1, 3, 1, 1, 2, 3, 0, 2, 3, 2, 0, 1, 1, 0, 2, 2, 3, 2, 3, 0, 3, 1, 0, 2, 3, 1, 3, 1, 0, 2, 1, 3, 3, 1, 0, 0, 2, 0, 2, 0, 3, 1, 3, 1, 2, 2, 0, 0, 1, 3, 3, 1, 3, 1, 2, 0, 3, 1, 2, 1, 0, 2, 3, 1, 3, 0, 3, 1, 2, 1, 3, 0, 1, 2, 3, 1, 3, 0, 3, 1, 2, 0, 3, 1, 2, 0, 1, 3, 3, 1, 2, 0, 3, 1, 3, 1, 3, 1, 3, 1, 3, 1, 1, 2, 2, 1, 3, 1, 0, 0, 1, 3, 3, 1, 3, 2, 2, 3, 3, 1, 3, 1, 0, 1, 3, 0, 2, 0, 1, 3, 3, 1, 1, 3, 3, 1, 2, 2, 1, 0, 0, 2, 0, 3, 2, 0, 1, 3, 3, 1, 3, 1, 2, 0, 2, 0, 1, 3, 3, 1, 3, 1, 1, 3, 2, 0, 2, 1, 3, 0, 2, 0, 3, 1, 2, 0, 1, 3, 3, 1, 3, 1, 1, 1, 3, 1, 2, 3, 2, 1, 0, 2, 2, 0, 2, 2, 3, 3, 3, 0, 0, 1, 0, 1, 1, 0, 2, 3, 0, 2, 1, 3, 3, 1, 0, 2, 3, 0, 1, 1, 3, 2, 0, 2, 3, 2, 3, 2, 0, 1, 1, 1, 0, 3, 2, 0, 3, 0, 2, 0, 2, 0, 2, 0, 3, 1, 1, 2, 1, 3, 0, 2, 3, 0, 1, 1, 2, 3, 2, 0, 2, 1, 0, 0, 3, 3, 3, 1, 2, 2, 1, 0, 0, 2, 3, 1, 0, 3, 3, 1, 2, 0, 1, 3, 1, 2, 3, 0, 2, 0, 2, 1, 3, 0, 3, 1, 1, 1, 2, 3, 2, 0, 2, 3, 3, 1, 0, 0, 3, 1, 3, 1, 3, 1, 1, 2, 0, 2, 1, 3, 0, 1, 2, 0, 1, 3, 3, 3, 3, 1, 3, 1, 3, 1, 3, 1, 3, 1, 3, 1, 2, 0, 2, 0, 1, 2, 0, 1, 3, 2, 3, 1, 0, 1, 2, 3, 1, 3, 3, 0, 2, 0, 1, 1, 2, 0, 3, 2, 1, 0, 3, 3, 1, 2, 0, 2, 3, 0, 1, 3, 3, 1, 2, 0, 2, 0, 3, 1, 3, 1, 2, 0, 1, 1, 3, 1, 2, 3, 1, 2, 0, 3, 2, 0, 2, 0, 3, 0, 3, 1, 1, 1, 3, 3, 3, 1, 2, 1, 3, 1, 3, 0, 1, 3, 2, 2, 2, 3, 1, 2, 3, 1, 2, 0, 0, 1, 3, 2, 3, 3, 3, 1, 0, 2, 2, 0, 3, 1, 0, 2, 2, 0, 3, 3, 0, 1, 3, 0, 2, 3, 1, 2, 1, 0, 3, 2, 0, 1, 3, 3, 0, 3, 1, 2, 0, 0, 0, 2, 2, 0, 3, 0, 3, 1, 2, 2, 3, 2, 1, 0, 2, 3, 1, 3, 2, 0, 2, 0, 2, 2, 0, 0, 3, 1, 1, 2, 0, 1, 2, 3, 3, 2, 0, 0, 2, 0, 1, 2, 2, 3, 3, 1, 3, 0, 1, 1, 2, 0, 2, 3, 3, 0, 2, 1, 1, 3, 1, 3, 3, 2, 0, 2, 0, 2, 3, 1, 0, 2, 3, 1, 3, 1, 3, 1, 0, 1, 3, 1, 1, 3, 1, 2, 0, 0, 2, 2, 0, 2, 0, 1, 2, 3, 2, 0, 0, 2, 0, 3, 1, 2, 0, 3, 0, 2, 1, 1, 2, 3, 0, 2, 0, 1, 3, 0, 2, 2, 1, 3, 0, 1, 2, 0, 0, 2, 3, 3, 1, 3, 1, 1, 2, 1, 3, 0, 3, 0, 3, 2, 0, 3, 0, 2, 2, 1, 0, 3, 1, 1, 3, 3, 1, 2, 1, 1, 3, 1, 2, 3, 1, 0, 2, 0, 3, 2, 0, 0, 2, 1, 1, 2, 3, 0, 2, 1, 0, 3, 2, 1, 3, 2, 0, 3, 0, 1, 2, 0, 3, 3, 3, 0, 0, 0, 1, 3, 1, 2, 3, 0, 0, 3, 1, 0, 3, 2, 1, 2, 0, 2, 0, 3, 0, 2, 0, 2, 3, 3, 1, 0, 1, 2, 0, 1, 3, 3, 2, 1, 0, 2, 3, 0, 3, 1, 3, 2, 2, 0, 0, 1, 2, 3, 2, 2, 1, 3, 1, 2, 0, 2, 0, 2, 2, 2, 3, 0], fitness: 13.864406779661017, number_of_cp_reached: 9)\n"
          ]
        }
      ]
    },
    {
      "cell_type": "markdown",
      "source": [
        "Visualizza Individuo"
      ],
      "metadata": {
        "id": "BZ0H-q6Yer17"
      }
    },
    {
      "cell_type": "code",
      "source": [
        "def getBestIndividual(population):\n",
        "\n",
        "  return sorted(population, key = lambda individual: individual.fitness)"
      ],
      "metadata": {
        "id": "ymQkuJ8rWKCg"
      },
      "execution_count": 188,
      "outputs": []
    },
    {
      "cell_type": "code",
      "source": [
        "best_individual = getBestIndividual(pop)"
      ],
      "metadata": {
        "id": "FZtJJri4tIhb"
      },
      "execution_count": 189,
      "outputs": []
    },
    {
      "cell_type": "code",
      "source": [
        "best_individual[0]"
      ],
      "metadata": {
        "colab": {
          "base_uri": "https://localhost:8080/"
        },
        "id": "LSQKjrultx8Y",
        "outputId": "643fc239-f29c-40d5-85a3-d40473ee0934"
      },
      "execution_count": 190,
      "outputs": [
        {
          "output_type": "execute_result",
          "data": {
            "text/plain": [
              "(Path: [2, 3, 3, 2, 0, 0, 3, 1, 3, 2, 0, 2, 3, 3, 2, 2, 0, 2, 3, 2, 1, 3, 1, 2, 3, 0, 0, 0, 2, 0, 2, 0, 3, 0, 1, 3, 3, 0, 0, 1, 2, 3, 1, 1, 0, 2, 3, 2, 2, 0, 0, 2, 1, 1, 3, 3, 0, 2, 3, 1, 3, 0, 3, 2, 2, 0, 1, 0, 0, 2, 1, 0, 2, 1, 3, 2, 0, 0, 3, 2, 1, 2, 1, 0, 2, 1, 0, 3, 1, 3, 2, 0, 1, 2, 2, 0, 3, 2, 1, 3, 1, 0, 3, 1, 2, 3, 0, 3, 2, 0, 3, 0, 2, 0, 2, 3, 0, 2, 1, 1, 3, 0, 1, 2, 0, 2, 3, 1, 1, 2, 2, 0, 3, 1, 2, 0, 3, 0, 2, 1, 2, 2, 3, 2, 3, 0, 1, 3, 1, 1, 3, 1, 2, 2, 0, 2, 0, 2, 1, 3, 0, 0, 3, 3, 0, 2, 0, 2, 1, 1, 2, 3, 0, 2, 2, 3, 0, 1, 2, 2, 0, 0, 2, 3, 1, 0, 3, 3, 1, 1, 2, 2, 0, 1, 1, 2, 1, 3, 0, 2, 0, 2, 0, 3, 3, 1, 3, 3, 0, 3, 2, 1, 3, 2, 3, 3, 2, 2, 2, 2, 2, 0, 2, 2, 2, 2, 1, 0, 2, 3, 0, 1, 0, 0, 1, 1, 2, 1, 1, 0, 2, 2, 1, 2, 0, 1, 3, 1, 1, 2, 3, 1, 3, 1, 2, 3, 2, 1, 0, 2, 0, 3, 0, 0, 3, 1, 3, 3, 1, 2, 2, 3, 1, 3, 0, 1, 2, 3, 1, 3, 2, 0, 3, 2, 1, 3, 2, 0, 0, 2, 1, 3, 3, 1, 0, 2, 0, 0, 3, 2, 0, 3, 3, 0, 2, 0, 3, 0, 3, 1, 0, 2, 0, 0, 0, 0, 0, 1, 0, 1, 3, 0, 3, 3, 0, 0, 0, 0, 1, 2, 1, 1, 3, 0, 3, 2, 0, 3, 2, 0, 0, 2, 1, 1, 3, 1, 2, 0, 0, 3, 1, 0, 1, 3, 3, 3, 2, 0, 1, 0, 1, 2, 0, 0, 2, 1, 0, 1, 1, 3, 3, 2, 0, 0, 2, 0, 2, 1, 3, 1, 3, 3, 1, 0, 3, 3, 1, 2, 1, 1, 3, 1, 3, 3, 3, 1, 2, 0, 1, 3, 2, 1, 2, 3, 3, 3, 1, 2, 0, 0, 0, 2, 0, 1, 2, 2, 0, 2, 0, 0, 2, 0, 2, 2, 0, 3, 2, 0, 0, 0, 1, 3, 3, 1, 2, 2, 0, 0, 3, 1, 2, 0, 2, 0, 3, 1, 3, 1, 3, 1, 2, 0, 2, 0, 3, 1, 2, 0, 3, 1, 1, 1, 3, 1, 3, 3, 3, 1, 3, 1, 1, 2, 3, 1, 2, 0, 3, 2, 3, 1, 2, 0, 3, 2, 2, 0, 2, 3, 0, 2, 3, 0, 2, 2, 0, 1, 3, 2, 2, 1, 0, 2, 0, 3, 2, 2, 1, 2, 1, 3, 0, 2, 1, 3, 0, 1, 3, 2, 0, 1, 2, 2, 0, 0, 0, 2, 2, 0, 3, 1, 2, 2, 2, 2, 3, 2, 1, 2, 3, 0, 3, 1, 0, 0, 1, 2, 2, 2, 1, 3, 0, 0, 2, 3, 2, 3, 1, 3, 0, 1, 0, 2, 2, 2, 2, 0, 0, 3, 0, 3, 2, 3, 3, 2, 1, 1, 2, 3, 3, 1, 1, 2, 1, 0, 2, 2, 3, 2, 0, 0, 3, 2, 3, 1, 2, 1, 0, 1, 3, 1, 0, 2, 3, 1, 1, 0, 3, 3, 1, 3, 2, 1, 3, 1, 0, 3, 1, 2, 0, 2, 0, 3, 2, 2, 2, 3, 3, 2, 0, 2, 0, 0, 2, 2, 0, 2, 0, 0, 2, 1, 0, 0, 2, 3, 0, 2, 3, 0, 2, 1, 2, 2, 0, 2, 0, 1, 3, 1, 1, 0, 2, 3, 1, 1, 2, 0, 2, 0, 1, 0, 0, 1, 3, 1, 0, 2, 1, 2, 2, 3, 1, 2, 2, 3, 2, 3, 1, 2, 0, 1, 2, 0, 1, 2, 3, 1, 2, 1, 2, 2, 1, 0, 2, 3, 1, 3, 3, 2, 3, 1, 1, 2, 0, 2, 2, 3, 1, 3, 3, 1, 3, 0, 2, 3, 3, 3, 3, 0, 0, 1, 0, 1, 3, 1, 1, 3, 0, 3, 3, 3, 1, 3, 0, 0, 0, 2, 2, 0, 3, 0, 1, 1, 2, 3, 0, 3, 1, 2, 3, 0, 3, 0, 0, 3, 1, 1, 0, 1, 1, 0, 3, 0, 1, 1, 3, 1, 3, 3, 0, 0, 0, 1, 0, 3, 0, 1, 0, 2, 3, 0, 2, 3, 0, 0, 3, 1, 2, 1, 0, 2, 2, 0, 2, 2, 1, 0, 1, 3, 0, 0, 3, 1, 1, 0, 0, 3, 1, 2, 0, 0, 0, 2, 0, 1, 1, 0, 1, 2, 3, 2, 3, 0, 1, 0, 0, 1, 3, 3, 1, 2, 3, 3, 3, 3, 3, 0, 0, 3, 1, 0, 2, 2, 1, 3, 0, 0, 0, 0, 1, 2, 1, 2, 0, 2, 2, 0, 0, 2, 3, 1, 3, 0, 0, 3, 2, 2, 3, 2, 2, 2, 0, 1, 3, 1, 1, 2, 0, 1, 2, 3, 2, 0, 1, 2, 0, 3, 2, 3, 2, 3, 1, 2, 2, 0, 2, 2, 3, 3, 0, 0, 3, 1, 3, 1, 3, 1, 2, 2, 3, 1, 2, 0, 3, 3, 0, 2, 0, 0, 3, 1, 0, 0, 1, 1, 0, 0, 0, 0, 0, 3, 0, 2, 0, 2, 1, 2, 1, 2, 2, 0, 1, 3, 1, 0, 3, 2, 3, 2, 2, 0, 0, 0, 2, 0, 1, 3, 2, 0, 0, 3, 0, 1, 2, 0, 1, 3, 1, 3, 2, 0, 3, 2, 1, 3, 3, 1, 0, 2, 1, 2, 2, 0, 0, 3, 0, 2, 0, 2, 0, 3, 2, 3, 1, 0, 1, 2, 0, 2, 3, 0, 2, 0, 3, 2, 2, 0, 1, 0, 2, 0, 3, 2, 1, 3, 1, 3, 2, 2, 0, 2, 1, 2, 2, 3], fitness: 8.76271186440678, number_of_cp_reached: 0)"
            ]
          },
          "metadata": {},
          "execution_count": 190
        }
      ]
    },
    {
      "cell_type": "code",
      "source": [
        "#map.visualizeIndividual(mappa,child)\n",
        "map.visualizeIndividual(mappa,best_individual[0])\n",
        "#map.visualizeIndividual(mappa,ranked_pop[1])"
      ],
      "metadata": {
        "id": "qJGieWW-RC0c",
        "colab": {
          "base_uri": "https://localhost:8080/",
          "height": 700
        },
        "outputId": "eae7b4fa-0a9c-4a6d-84aa-2288ce9e178a"
      },
      "execution_count": 191,
      "outputs": [
        {
          "output_type": "display_data",
          "data": {
            "text/plain": [
              "<Figure size 864x864 with 1 Axes>"
            ],
            "image/png": "[encoded data removed]"
          },
          "metadata": {
            "needs_background": "light"
          }
        }
      ]
    }
  ]
}