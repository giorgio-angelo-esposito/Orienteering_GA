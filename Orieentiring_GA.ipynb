{
  "nbformat": 4,
  "nbformat_minor": 0,
  "metadata": {
    "colab": {
      "provenance": []
    },
    "kernelspec": {
      "name": "python3",
      "display_name": "Python 3"
    },
    "language_info": {
      "name": "python"
    }
  },
  "cells": [
    {
      "cell_type": "markdown",
      "source": [
        "# **OrieentiringGA: genetic algorithm for orieenting**"
      ],
      "metadata": {
        "id": "Eq3YygdpBEtR"
      }
    },
    {
      "cell_type": "markdown",
      "source": [
        "# Libraries import"
      ],
      "metadata": {
        "id": "NmY8WN-iBOS5"
      }
    },
    {
      "cell_type": "code",
      "execution_count": 2,
      "metadata": {
        "id": "ktsa1-a-5waB"
      },
      "outputs": [],
      "source": [
        "import numpy as np\n",
        "import matplotlib.pyplot as plt\n",
        "import seaborn as sns\n",
        "import random"
      ]
    },
    {
      "cell_type": "markdown",
      "source": [
        "# Individual class definition"
      ],
      "metadata": {
        "id": "BiVEjJtBjqJc"
      }
    },
    {
      "cell_type": "code",
      "source": [
        "class Individual:\n",
        "\n",
        "  '''\n",
        "  This class represent an individual in the population for the GA\n",
        "\n",
        "  Attributes:\n",
        "    - path: a list that is used for storing the direction of the path\n",
        "    - fitness: a variable used for saving the value of the fitness of the individual\n",
        "    - number_of_cp_reached: a variable used for checking how many control points the individual has reached\n",
        "    - cp_index: a dictionary used for checking at which number of steps the individual has reached a control point\n",
        "  '''\n",
        "\n",
        "  def __init__(self):\n",
        "    '''\n",
        "    Constructor of the Individual class: path is initialized as an empty list,\n",
        "                                         fitness is initialized as 0,\n",
        "                                         number_of_cp_reached is initialized as 0,\n",
        "                                         cp_index is initialized with a single key:value element\n",
        "\n",
        "    '''\n",
        "    self.path = []\n",
        "    self.fitness = 0\n",
        "    self.number_of_cp_reached = 0\n",
        "    self.cp_index = {0:0}\n",
        "\n",
        "  # this method is used to retrieve the path of the individual\n",
        "  def get_path(self):\n",
        "    return self.path\n",
        "\n",
        "  # this method is used to retrieve the fitness of the individual\n",
        "  def get_fitness(self):\n",
        "    return self.fitness\n",
        "\n",
        "  # this method implements the concept of compass that each player can use to orient himself\n",
        "  def compass(self,current_point,control_point):\n",
        "\n",
        "    # the logic is very clear: given the (x,y) coordinate in which the player is\n",
        "    # check in which direction go by comparing the next control point (x,y) coordinate\n",
        "\n",
        "\n",
        "    if current_point[0] >= control_point[0] and current_point[1] >= control_point[1]:\n",
        "      direction1 = 0\n",
        "      direction2 = 1\n",
        "    elif current_point[0] >= control_point[0] and current_point[1] <= control_point[1]:\n",
        "      direction1 = 1\n",
        "      direction2 = 2\n",
        "    elif current_point[0] <= control_point[0] and current_point[1] <= control_point[1]:\n",
        "      direction1 = 2\n",
        "      direction2 = 3\n",
        "    elif current_point[0] <= control_point[0] and current_point[1] >= control_point[1]:\n",
        "      direction1 = 0\n",
        "      direction2 = 3\n",
        "\n",
        "\n",
        "    return direction1, direction2\n",
        "\n",
        "  def __repr__(self):\n",
        "        return \"(Path: \" + str(self.path) + \", fitness: \" + str(self.fitness) + \", number_of_cp_reached: \"+ str(self.number_of_cp_reached) + \", cp_index: \" + str(self.cp_index) + \")\""
      ],
      "metadata": {
        "id": "fAhLn5QiWhEs"
      },
      "execution_count": 67,
      "outputs": []
    },
    {
      "cell_type": "markdown",
      "source": [
        "# Map class definition"
      ],
      "metadata": {
        "id": "m1AB_o1GnHhj"
      }
    },
    {
      "cell_type": "code",
      "source": [
        "class Map:\n",
        "\n",
        "  '''\n",
        "  This class is used to create the map where the Orieentiring take place:\n",
        "  it is a mxn array (m and n are given as parameter) where a certain number of\n",
        "  obstacles and control points are placed.\n",
        "\n",
        "  Attributes:\n",
        "    - rows: the number of rows of the map (the m dimension)\n",
        "    - colums: the numbers of the map (the n dimension)\n",
        "    - number_of_obstacles: the number of obstacles that will appear on the map\n",
        "    - number_of_cp: number of control points that will appear on the map\n",
        "    - cp_list: a list containing all the coordinates of the control points.\n",
        "               Initially contains the start point at (0,0)\n",
        "  '''\n",
        "\n",
        "  def __init__(self, rows, columns, number_of_obstacles, number_of_cp):\n",
        "\n",
        "    '''\n",
        "    The constructor of the map: lenght and height represent the dimension of the map (array)\n",
        "    while number_of_obstacles and number_of_cp represent the number of obstacles and the number\n",
        "    of control points that will be placed on the map, respectively.\n",
        "    '''\n",
        "\n",
        "    self.rows = rows\n",
        "    self.columns = columns\n",
        "    self.number_of_obstacles = number_of_obstacles\n",
        "    self.number_of_cp = number_of_cp\n",
        "    self.cp_list = []\n",
        "\n",
        "  def create_map(self):\n",
        "\n",
        "    '''\n",
        "    This method is used to fill the array: the 'walkable ground' will be the cells that contains 0, the obstacle\n",
        "    will be the cells containing 1 and the control points will be the cells contains 2, including the start and\n",
        "    ending points.\n",
        "    '''\n",
        "\n",
        "    map_array = np.zeros((self.rows, self.columns)) #i nitially, we create a matrix with all 0s\n",
        "\n",
        "    for i in range(self.number_of_obstacles): # iterate over the number of obstacles\n",
        "\n",
        "      # randomically, create the coordinates where to put the obstacle\n",
        "      x_obstacle = np.random.randint(0,self.rows)\n",
        "      y_obstacle = np.random.randint(0,self.columns)\n",
        "\n",
        "      # check if the coordinate corresponds with a control point, the start or the end\n",
        "      if map_array[x_obstacle][y_obstacle] == 2:\n",
        "        # if true, do not place the obstacle\n",
        "        continue\n",
        "      else:\n",
        "        # else, place the obstacle\n",
        "        map_array[x_obstacle][y_obstacle] = 1\n",
        "\n",
        "      # next, place the control point\n",
        "      if self.number_of_cp != 0:\n",
        "\n",
        "        # randomically, create the coordinates where to put the control point\n",
        "        x_cp = np.random.randint(0,self.rows)\n",
        "        y_cp = np.random.randint(0,self.columns)\n",
        "\n",
        "        # check if the control point is over an obstacle\n",
        "        if map_array[x_cp][y_cp] == 1:\n",
        "          # if true, do not put the control point\n",
        "          continue\n",
        "        else:\n",
        "          map_array[x_cp][y_cp] = 2 # put the control point\n",
        "          self.cp_list.append([x_cp,y_cp]) # add the coordinate to the list of all control points\n",
        "          self.number_of_cp -= 1 # reduce the number of control points\n",
        "\n",
        "    # I have decided to sort the control point vertically or horizontally based on a random number\n",
        "    probability = np.random.uniform(0,1,1)\n",
        "\n",
        "    if probability >= 0.5:\n",
        "      self.cp_list.sort(key = lambda point: point[1])\n",
        "    else:\n",
        "      self.cp_list.sort()\n",
        "\n",
        "    return map_array, self.cp_list # return the array and the list\n",
        "\n",
        "\n",
        "  def getControlPointList(self):\n",
        "    '''\n",
        "    this method is used for obtain the list of control points\n",
        "    '''\n",
        "    return self.cp_list\n",
        "\n",
        "  def visualizeMap(self,map):\n",
        "\n",
        "    '''\n",
        "    this method is used for plotting the map\n",
        "    '''\n",
        "    # set the dimension of the plot\n",
        "    plt.figure(figsize=(12,12))\n",
        "\n",
        "    #use a heatmap for plotting, so the same value will have the same color\n",
        "    ax = sns.heatmap(map, cbar = False, cmap = sns.color_palette(\"coolwarm\", 12),linewidth = 1)\n",
        "\n",
        "    # get the x and y coordinate for each point, and sum 0.5, so the line will start at the centre of the square\n",
        "    x = [self.cp_list[i][1] + 0.5 for i in range(len(self.cp_list))]\n",
        "    y = [self.cp_list[i][0] + 0.5 for i in range(len(self.cp_list))]\n",
        "\n",
        "    # plot the lines\n",
        "    plt.plot(x, y, 'ro-')\n",
        "\n",
        "    # add text near the point\n",
        "    plt.text(x[0] - 0.15, y[0] - 0.15, 'Start')\n",
        "    for i in range(1,len(x)-1):\n",
        "      plt.text(x[i] + 0.15, y[i] + 0.15, str(i))\n",
        "    plt.text(x[-1] - 0.20, y[-1] - 0.20, 'End')\n",
        "\n",
        "    ax.invert_yaxis()\n",
        "\n",
        "    plt.ylim(0,self.rows)\n",
        "    plt.xlim(0,self.columns)\n",
        "\n",
        "    # show the plot\n",
        "    plt.show()\n",
        "\n",
        "  def visualizeIndividual(self, map, individual):\n",
        "\n",
        "    '''\n",
        "    This method is used to visualize an individual on the map\n",
        "    '''\n",
        "\n",
        "    map_copy = map.copy() # make a copy of the map\n",
        "    moves = [[0, -1], [-1, 0], [0, 1], [1, 0]]\n",
        "    point = self.getControlPointList()[0] # get the starting point\n",
        "\n",
        "    for m in individual.path: # follow the individual path\n",
        "      point = [point[0] + moves[m][0], point[1] + moves[m][1]]\n",
        "\n",
        "      if point[0] >= self.rows or point[1] >= self.columns or point[0] < 0 or point[1] < 0: # check if the path leads out of the map\n",
        "        point = [point[0] - moves[m][0], point[1] - moves[m][1]] # if yes go back\n",
        "        continue\n",
        "\n",
        "      # here we change the value of the cell the individual moves on, so they will appear of a different color when we call the method\n",
        "      # we change color also when the individual finds a control point\n",
        "      if map_copy[point[0]][point[1]] == 2:\n",
        "        map_copy[point[0]][point[1]] = 3\n",
        "      else:\n",
        "        map_copy[point[0]][point[1]] = 3\n",
        "\n",
        "    plt.figure(figsize=(12,12))\n",
        "\n",
        "    ax = sns.heatmap(map_copy, cbar = False, cmap = sns.color_palette(\"coolwarm\", 12),linewidth = 1)\n",
        "    ax.invert_yaxis()\n",
        "\n",
        "    x = [self.cp_list[i][1] + 0.5 for i in range(len(self.cp_list))]\n",
        "    y = [self.cp_list[i][0] + 0.5 for i in range(len(self.cp_list))]\n",
        "\n",
        "    # plot the lines\n",
        "    plt.plot(x, y, 'ro-')\n",
        "\n",
        "    # add text near the point\n",
        "    plt.text(x[0] - 0.25, y[0] - 0.25, 'Start')\n",
        "    for i in range(1,len(x)-1):\n",
        "      plt.text(x[i] + 0.15, y[i] + 0.15, str(i))\n",
        "    plt.text(x[-1] - 0.20, y[-1] - 0.20, 'End')\n",
        "\n",
        "    plt.ylim(0,self.rows)\n",
        "    plt.xlim(0,self.columns)\n",
        "\n",
        "    # show the plot\n",
        "    plt.show()"
      ],
      "metadata": {
        "id": "JaTV7AXQDgog"
      },
      "execution_count": 76,
      "outputs": []
    },
    {
      "cell_type": "markdown",
      "source": [
        "# Function to get the number of steps (distance) between two control points"
      ],
      "metadata": {
        "id": "4iXyqdDypYx4"
      }
    },
    {
      "cell_type": "code",
      "source": [
        "def getNumberOfStepBetweenPoits(p1, p2):\n",
        "\n",
        "  return (abs(p1[0] - p2[0])) + abs((p1[1] - p2[1])) # return the sum of the difference of points coordinates"
      ],
      "metadata": {
        "id": "mxdF5VAXHMSV"
      },
      "execution_count": 14,
      "outputs": []
    },
    {
      "cell_type": "markdown",
      "source": [
        "# Function to get minimun number of steps between the start and end, passing through each control point"
      ],
      "metadata": {
        "id": "iUioTAWgpjjL"
      }
    },
    {
      "cell_type": "code",
      "source": [
        "def getTotalNumberOfSteps(list_of_point):\n",
        "\n",
        "  total_steps = 0 # initialize a variable that will count the total number of steps\n",
        "\n",
        "  for i in range(0,len(list_of_point)-1): # iterate over the control points\n",
        "\n",
        "    # for each control point get the distance between itself and the next and sum them up\n",
        "    total_steps += getNumberOfStepBetweenPoits(list_of_point[i],list_of_point[i+1])\n",
        "\n",
        "  return total_steps # return the total number of steps between the starting point and the ending point"
      ],
      "metadata": {
        "id": "6En6OyQiIm7g"
      },
      "execution_count": 15,
      "outputs": []
    },
    {
      "cell_type": "markdown",
      "source": [
        "# Function used to avoid exit the border of the map"
      ],
      "metadata": {
        "id": "4HHUjIOdqh0u"
      }
    },
    {
      "cell_type": "code",
      "source": [
        "def checkOutOfMap(point):\n",
        "\n",
        "  # compare the coordiates of the current point the individual is upon with the matrix dimension (map limit)\n",
        "  if point[0] < 0 or point[1] < 0 or point[0] > map.rows -1 or point[1] > map.columns - 1:\n",
        "    return True\n",
        "\n",
        "  return False"
      ],
      "metadata": {
        "id": "5V7BWZl8-W-3"
      },
      "execution_count": 17,
      "outputs": []
    },
    {
      "cell_type": "markdown",
      "source": [
        "# Function used to check if where the individual is arrived is an obstacle"
      ],
      "metadata": {
        "id": "5BhHZCAZqpv2"
      }
    },
    {
      "cell_type": "code",
      "source": [
        "def checkObstacle(point):\n",
        "\n",
        "  # compare the value of the cell given by the point coordinate with the obstacle variable\n",
        "  if mappa[point[0]][point[1]] == 1:\n",
        "    return True\n",
        "\n",
        "  return False"
      ],
      "metadata": {
        "id": "aP18oYTu_qR7"
      },
      "execution_count": 18,
      "outputs": []
    },
    {
      "cell_type": "markdown",
      "source": [
        "# Function used to check if where the individual is arrived is a control point"
      ],
      "metadata": {
        "id": "UdlfnXccqy63"
      }
    },
    {
      "cell_type": "code",
      "source": [
        "def checkControlPoint(point, cp):\n",
        "\n",
        "  # compare the coordinate of the point in which the individual is with the given control point coordinate\n",
        "  if point[0] == cp[0] and point[1] == cp[1]:\n",
        "    return True\n",
        "\n",
        "  return False"
      ],
      "metadata": {
        "id": "ZEKV1aHCAjJ5"
      },
      "execution_count": 19,
      "outputs": []
    },
    {
      "cell_type": "markdown",
      "source": [
        "# Function used to avoid obstacles"
      ],
      "metadata": {
        "id": "ZUusXX2Hp2PY"
      }
    },
    {
      "cell_type": "code",
      "source": [
        "def avoid_obstacle(moves, current_point, movement):\n",
        "\n",
        "  # create a boolean variable and set it to false\n",
        "  found = False\n",
        "  # get the coordinate where the individual where before stambling on an obstacle\n",
        "  current_point = [current_point[0] - movement[0], current_point[1] - movement[1]]\n",
        "  # from all the available moves, remove the one that lead the individual over the obstacle\n",
        "  remain_moves = moves.copy()\n",
        "  remain_moves.remove(movement)\n",
        "\n",
        "  # iterate over the remain moves\n",
        "  for points in remain_moves:\n",
        "    # calculate the new point\n",
        "    point = [current_point[0] + points[0], current_point[1] + points[1]]\n",
        "\n",
        "    # check if this new movement get the individual out of the map\n",
        "    if checkOutOfMap(point):\n",
        "      # if true, move the next available moves\n",
        "      continue\n",
        "\n",
        "    # check if the new movement get the individual over an obstacle\n",
        "    if checkObstacle(point):\n",
        "      # if true, move the next available moves\n",
        "      continue\n",
        "    else:\n",
        "      # set the current point as the new point reached with the new movement\n",
        "      current_point = point\n",
        "      # set the boolean variable as true\n",
        "      found = True\n",
        "      # return the new point, the boolean variable and the new movement\n",
        "      return current_point, found, points"
      ],
      "metadata": {
        "id": "i26H7-BOuw4l"
      },
      "execution_count": 16,
      "outputs": []
    },
    {
      "cell_type": "markdown",
      "source": [
        "# Function used to create the initial population"
      ],
      "metadata": {
        "id": "IrUQWQ50ewT4"
      }
    },
    {
      "cell_type": "code",
      "source": [
        "def initPopulation(population_dim):\n",
        "\n",
        "  population = [] # create an empty list that will contain the individuals\n",
        "  cp_list = map.getControlPointList() # get the list of control points coordinates\n",
        "  moves = [[0, -1], [-1, 0], [0, 1], [1, 0]] # available moves\n",
        "\n",
        "  for ind in range(population_dim): # for each individual:\n",
        "    number_of_cp_reached = 0 # initialize the number of control point reached as 0\n",
        "    reached = False # initialize a random variable that is used to indicate that an individual has reached or not a control point\n",
        "    blocked = False # initialize a random variable that is used to indicate that an individual has reached or not an obstacle\n",
        "    individual = Individual() # create an Individual object\n",
        "    current_point = cp_list[0] # get the first control point coordinate and set it as the current point (this is the starting point)\n",
        "    steps = 0 # set the number of steps to 0\n",
        "\n",
        "    for i in range(1, len(cp_list)): # iterate over the control points number\n",
        "      reached = False\n",
        "      control_point = cp_list[i] # get the coordinates of the next control point\n",
        "\n",
        "      while not reached: # while the individual has not reached the control point\n",
        "\n",
        "        if steps % 3 == 0: # every 3 steps the individial use the compass to orient itself toward the actual control point\n",
        "          d1,d2 = individual.compass(current_point, control_point)\n",
        "          movement = random.choice([moves[d1],moves[d2]])\n",
        "        else:\n",
        "          # otherwise the individual moves randomically selecting a move\n",
        "          movement = random.choice(moves)\n",
        "\n",
        "        individual.path.append(moves.index(movement)) # add to the individual path the index of the move selected\n",
        "        steps += 1 # increment the number of steps of the individual by one\n",
        "        current_point = [current_point[0] + movement[0], current_point[1] + movement[1]] # update the current position of the individual\n",
        "\n",
        "        # check if the new point is out of the map\n",
        "        if checkOutOfMap(current_point):\n",
        "          # if yes, go back, remove the index from the path and decrease by 1 the steps taken by the individual\n",
        "          current_point = [current_point[0] - movement[0], current_point[1] - movement[1]]\n",
        "          individual.path.pop()\n",
        "          steps -= 1\n",
        "\n",
        "        # check if the new point is an obstacle\n",
        "        if checkObstacle(current_point):\n",
        "          # if yes avoid it, using the avoid_obstacle function\n",
        "          current_point, found, new_movement = avoid_obstacle(moves, current_point, movement)\n",
        "          steps -= 1 # decrease the total number of steps\n",
        "\n",
        "          # check if the individual has found a way to avoid the obstacle\n",
        "          if found:\n",
        "            # if yes, then we remove from its path the old move and add the new one, used to avoid the obstacle\n",
        "            individual.path.pop()\n",
        "            individual.path.append(moves.index(new_movement))\n",
        "            steps += 1 # increase the number of steps, because the individual has moved into a new direction\n",
        "          else:\n",
        "            # if cannot find a way, stop the loop for this individual\n",
        "            blocked = True\n",
        "            break\n",
        "\n",
        "        # check if the new point is the control point\n",
        "        if checkControlPoint(current_point, control_point):\n",
        "          # if yes increment the number of control point reached by 1 and set it to the Individual variable\n",
        "          number_of_cp_reached += 1\n",
        "          individual.number_of_cp_reached = number_of_cp_reached\n",
        "          individual.cp_index[i] = steps # set the total number of steps used to reach the control point\n",
        "          reached = True # change the variable so the individual will now search the next control point\n",
        "\n",
        "      # if the individual is blocked, stop the loop\n",
        "      if blocked:\n",
        "        break\n",
        "\n",
        "    # after the loop, if the individual was blocked (and hasn't reached all the control points)\n",
        "    if individual.number_of_cp_reached != len(cp_list) - 1:\n",
        "      # set its fitness to infinite\n",
        "      individual.fitness = np.inf\n",
        "    else:\n",
        "      # otherwise, set its fitness as the ration between the steps has used and the optimal one\n",
        "      individual.fitness = steps/optimal_steps\n",
        "\n",
        "    # add the individual to the population list\n",
        "    population.append(individual)\n",
        "\n",
        "  #return the population list\n",
        "  return population"
      ],
      "metadata": {
        "id": "c124MQ4jai8v"
      },
      "execution_count": 22,
      "outputs": []
    },
    {
      "cell_type": "markdown",
      "source": [
        "# Function used to compute the fitness of an individual"
      ],
      "metadata": {
        "id": "XB3TH7xne04E"
      }
    },
    {
      "cell_type": "code",
      "source": [
        "def findIndividualFitness(individual):\n",
        "\n",
        "  moves = [[0, -1], [-1, 0], [0, 1], [1, 0]]\n",
        "  point = map.getControlPointList()[0]\n",
        "  steps = 0\n",
        "\n",
        "  for m in individual.path: # loop over the individual path to get the number of steps of the individual\n",
        "    point = [point[0] + moves[m][0], point[1] + moves[m][1]]\n",
        "    steps += 1\n",
        "\n",
        "    if checkOutOfMap(point):\n",
        "      point = [point[0] - moves[m][0], point[1] - moves[m][1]]\n",
        "      steps -= 1\n",
        "\n",
        "    if checkObstacle(point):\n",
        "      steps -= 1\n",
        "\n",
        "  # compute the individual fitness as ration between number of its steps and the optimal ones\n",
        "  individual.fitness = steps/optimal_steps"
      ],
      "metadata": {
        "id": "UyELiHecOHSr"
      },
      "execution_count": 23,
      "outputs": []
    },
    {
      "cell_type": "markdown",
      "source": [
        "# Function used to compute the fitness for all the population"
      ],
      "metadata": {
        "id": "FnhQNuDPe6vg"
      }
    },
    {
      "cell_type": "code",
      "source": [
        "def findFitness(population):\n",
        "\n",
        "  # for every individual in the population, compute its fitness by using the findIndividualFitness function\n",
        "  for individual in population:\n",
        "\n",
        "    findIndividualFitness(individual)"
      ],
      "metadata": {
        "id": "IyHa81uRRJQa"
      },
      "execution_count": 25,
      "outputs": []
    },
    {
      "cell_type": "markdown",
      "source": [
        "# Function used to rank the individual by the fitness in increasing order"
      ],
      "metadata": {
        "id": "IquQXZLZe__r"
      }
    },
    {
      "cell_type": "code",
      "source": [
        "def rankPopulation(population):\n",
        "\n",
        "  # sort the population by the fitness in increasing order\n",
        "  return sorted(population, key = lambda individual: individual.fitness)"
      ],
      "metadata": {
        "id": "_2H3yVApNlcJ"
      },
      "execution_count": 26,
      "outputs": []
    },
    {
      "cell_type": "markdown",
      "source": [
        "# Function used to implement the Roulette Wheel selection"
      ],
      "metadata": {
        "id": "swUPqX4yTP7g"
      }
    },
    {
      "cell_type": "code",
      "source": [
        "def rouletteWheelSelection(population_ranked):\n",
        "    total_fitness = sum([1 / individual.fitness for individual in population_ranked])\n",
        "    individual_probabilities = [(1 / individual.fitness) / total_fitness for individual in population_ranked]\n",
        "\n",
        "    cumulative_probabilities = [individual_probabilities[0]]\n",
        "    for value in individual_probabilities[1:]:\n",
        "        cumulative_probabilities.append(cumulative_probabilities[-1] + value)\n",
        "\n",
        "    random_number = np.random.uniform(0, 1)\n",
        "\n",
        "    for i, value in enumerate(cumulative_probabilities):\n",
        "        if random_number < value:\n",
        "            return population_ranked[i]\n",
        "\n",
        "    # Nel caso il random_number sia esattamente 1, restituisce l'ultimo individuo\n",
        "    return population_ranked[-1]"
      ],
      "metadata": {
        "id": "S05Ug_nCcxrW"
      },
      "execution_count": 47,
      "outputs": []
    },
    {
      "cell_type": "markdown",
      "source": [
        "# Function used to create the mating pool"
      ],
      "metadata": {
        "id": "7AQxVIODUn1m"
      }
    },
    {
      "cell_type": "code",
      "source": [
        "def matingPool(population_ranked):\n",
        "\n",
        "  mating_pool = []\n",
        "\n",
        "  for i in range(len(population_ranked)):\n",
        "\n",
        "    selected_individual = rouletteWheelSelection(population_ranked)\n",
        "    population_ranked.remove(selected_individual)\n",
        "    mating_pool.append(selected_individual)\n",
        "\n",
        "  return mating_pool"
      ],
      "metadata": {
        "id": "Khvi9DLFUrFs"
      },
      "execution_count": 48,
      "outputs": []
    },
    {
      "cell_type": "markdown",
      "source": [
        "# Function used to get the path to a specific control point"
      ],
      "metadata": {
        "id": "C-THChSb-bKi"
      }
    },
    {
      "cell_type": "code",
      "source": [
        "def retrievePathToCP(individual, cp):\n",
        "\n",
        "  i = individual.cp_index.get(cp)\n",
        "  return individual.path[:i]"
      ],
      "metadata": {
        "id": "gcY7Y6e8ESr8"
      },
      "execution_count": 29,
      "outputs": []
    },
    {
      "cell_type": "markdown",
      "source": [
        "# Function used to get the path from a specific control point to the arrival point"
      ],
      "metadata": {
        "id": "8-0qs7Wd-h6W"
      }
    },
    {
      "cell_type": "code",
      "source": [
        "def retrievePathToEnd(individual,cp):\n",
        "\n",
        "  i = individual.cp_index.get(cp)\n",
        "  return individual.path[i:]"
      ],
      "metadata": {
        "id": "c2C8-s3qJcop"
      },
      "execution_count": 30,
      "outputs": []
    },
    {
      "cell_type": "markdown",
      "source": [
        "# Function used to compute the number of steps used to reach each control point"
      ],
      "metadata": {
        "id": "SeGyNE4atIsZ"
      }
    },
    {
      "cell_type": "code",
      "source": [
        "def calculateCPIndex(individual):\n",
        "\n",
        "  moves = [[0, -1], [-1, 0], [0, 1], [1, 0]]\n",
        "  steps = 0\n",
        "  i = 1\n",
        "  cp_list = map.getControlPointList()\n",
        "  point = cp_list[0]\n",
        "\n",
        "  for movement in individual.path:\n",
        "\n",
        "    point = [point[0] + moves[movement][0], point[1] + moves[movement][1]]\n",
        "    steps += 1\n",
        "    if checkOutOfMap(point):\n",
        "      point = [point[0] - moves[movement][0], point[1] - moves[movement][1]]\n",
        "      steps -= 1\n",
        "\n",
        "    if checkObstacle(point):\n",
        "      steps -= 1\n",
        "\n",
        "    if checkControlPoint(point,cp_list[i]):\n",
        "      individual.cp_index[i] = steps\n",
        "      i += 1"
      ],
      "metadata": {
        "id": "kBN220soh0wb"
      },
      "execution_count": 31,
      "outputs": []
    },
    {
      "cell_type": "markdown",
      "source": [
        "# Function used for reproduction"
      ],
      "metadata": {
        "id": "8YAxQt-l-nhq"
      }
    },
    {
      "cell_type": "code",
      "source": [
        "def reproduce(parent1, parent2):\n",
        "\n",
        "  child = Individual()\n",
        "\n",
        "  cp_index = random.randint(1,len(map.getControlPointList()) - 2)\n",
        "\n",
        "  a = retrievePathToCP(parent1,cp_index)\n",
        "  b = retrievePathToEnd(parent2,cp_index)\n",
        "\n",
        "  child.path = a + b\n",
        "  child.number_of_cp_reached = parent1.number_of_cp_reached\n",
        "\n",
        "  for i in range(1,cp_index+1):\n",
        "    child.cp_index[i] = parent1.cp_index.get(i)\n",
        "\n",
        "  for i in range(cp_index+1,len(map.getControlPointList())):\n",
        "    diff = parent2.cp_index.get(i) - parent2.cp_index.get(i-1)\n",
        "    v = child.cp_index.get(i-1) + diff\n",
        "    child.cp_index[i] = v\n",
        "\n",
        "  return child"
      ],
      "metadata": {
        "id": "HGccWXMga3Xx"
      },
      "execution_count": 72,
      "outputs": []
    },
    {
      "cell_type": "markdown",
      "source": [
        "# Function used to reproduce the entire population"
      ],
      "metadata": {
        "id": "7GMhbla9EIwy"
      }
    },
    {
      "cell_type": "code",
      "source": [
        "def reproducePopulation(mating_pool):\n",
        "\n",
        "  children = []\n",
        "\n",
        "  for i in range(0,len(mating_pool)-1,2):\n",
        "\n",
        "    child = reproduce(mating_pool[i],mating_pool[i+1])\n",
        "    children.append(child)\n",
        "\n",
        "  return children"
      ],
      "metadata": {
        "id": "nOcZc5E9jc53"
      },
      "execution_count": 33,
      "outputs": []
    },
    {
      "cell_type": "markdown",
      "source": [
        "# Function used to get the path between two control points"
      ],
      "metadata": {
        "id": "aZAM7477IvRy"
      }
    },
    {
      "cell_type": "code",
      "source": [
        "def getPathBetweenCP(individual, index):\n",
        "\n",
        "  i = individual.cp_index.get(index-1)\n",
        "  j = individual.cp_index.get(index)\n",
        "\n",
        "  return i,j,individual.path[i:j]"
      ],
      "metadata": {
        "id": "7mdPOh20lVWD"
      },
      "execution_count": 34,
      "outputs": []
    },
    {
      "cell_type": "markdown",
      "source": [
        "# Function for doing the swapping"
      ],
      "metadata": {
        "id": "tlayfkYwuGJ8"
      }
    },
    {
      "cell_type": "code",
      "source": [
        "def swap(path):\n",
        "\n",
        "  i = random.randint(0,len(path)-1)\n",
        "  j = random.randint(0,len(path)-1)\n",
        "\n",
        "  path[i], path[j] = path[j],path[i]\n",
        "  return path"
      ],
      "metadata": {
        "id": "x2e41F0-cbx2"
      },
      "execution_count": 55,
      "outputs": []
    },
    {
      "cell_type": "markdown",
      "source": [
        "# Function to mutate an individual"
      ],
      "metadata": {
        "id": "y1H30Dgp_A7L"
      }
    },
    {
      "cell_type": "code",
      "source": [
        "def mutateIndividual(individual):\n",
        "  cp_index = random.randint(1,len(map.getControlPointList())-1)\n",
        "  i,j,path = getPathBetweenCP(individual, cp_index)\n",
        "\n",
        "  shuffled_path = swap(path)\n",
        "  j = i + len(shuffled_path)\n",
        "  individual.path = individual.path[:i] + shuffled_path + individual.path[j:]"
      ],
      "metadata": {
        "id": "rS1IDwDVnvgi"
      },
      "execution_count": 56,
      "outputs": []
    },
    {
      "cell_type": "markdown",
      "source": [
        "# Function to mutate the population"
      ],
      "metadata": {
        "id": "buPHlQVwj9gl"
      }
    },
    {
      "cell_type": "code",
      "source": [
        "def mutatePopulation(population, mutation_rate):\n",
        "\n",
        "  for individual in population:\n",
        "\n",
        "    index = np.random.uniform(0,1)\n",
        "\n",
        "    if index < mutation_rate:\n",
        "\n",
        "      mutateIndividual(individual)"
      ],
      "metadata": {
        "id": "Jui9_iKAkyqs"
      },
      "execution_count": 39,
      "outputs": []
    },
    {
      "cell_type": "markdown",
      "source": [
        "# Function used to create the next population"
      ],
      "metadata": {
        "id": "hHVoJ218_Lrq"
      }
    },
    {
      "cell_type": "code",
      "source": [
        "def nextPopulation(actualPopulation, mutation_rate):\n",
        "\n",
        "  ranked_pop = rankPopulation(actualPopulation)\n",
        "\n",
        "\n",
        "  mating_pool = matingPool(ranked_pop)\n",
        "  next_population = reproducePopulation(mating_pool)\n",
        "  mutatePopulation(next_population,mutation_rate)\n",
        "  findFitness(next_population)\n",
        "\n",
        "  return next_population"
      ],
      "metadata": {
        "id": "HhMEz4fxmMjU"
      },
      "execution_count": 40,
      "outputs": []
    },
    {
      "cell_type": "markdown",
      "source": [
        "# Function used to execute the genetic algorithm"
      ],
      "metadata": {
        "id": "-j2zvWhK_QAN"
      }
    },
    {
      "cell_type": "code",
      "source": [
        "def geneticAlgorithm(pop_dim, iteration, mutation_rate):\n",
        "\n",
        "  pop = initPopulation(pop_dim)\n",
        "  for i in range(iteration):\n",
        "    pop = nextPopulation(pop, mutation_rate)\n",
        "\n",
        "    if len(pop) < 5:\n",
        "      break\n",
        "\n",
        "  return pop"
      ],
      "metadata": {
        "id": "RsaUpMFcnx1d"
      },
      "execution_count": 69,
      "outputs": []
    },
    {
      "cell_type": "markdown",
      "source": [
        "# Function used to get best indiviual"
      ],
      "metadata": {
        "id": "5Fm81-UNmYbu"
      }
    },
    {
      "cell_type": "code",
      "source": [
        "def getBestIndividual(population):\n",
        "    # sort the final population in increasing order\n",
        "    sorted_population = sorted(population, key=lambda individual: individual.fitness)\n",
        "\n",
        "    # return the first element of the sorted population\n",
        "    return sorted_population[0]"
      ],
      "metadata": {
        "id": "ymQkuJ8rWKCg"
      },
      "execution_count": 80,
      "outputs": []
    },
    {
      "cell_type": "markdown",
      "source": [
        "# Map creation"
      ],
      "metadata": {
        "id": "XX-MciSfwTY_"
      }
    },
    {
      "cell_type": "code",
      "source": [
        "map = Map(30,30,150,10)\n",
        "mappa, lanterne = map.create_map()\n",
        "map.visualizeMap(mappa)\n",
        "print('\\n Control points coordinates:')\n",
        "cp_list = map.getControlPointList()\n",
        "cp_list"
      ],
      "metadata": {
        "colab": {
          "base_uri": "https://localhost:8080/",
          "height": 1000
        },
        "id": "HL6fNQntwR2a",
        "outputId": "f50b159f-fe5e-4f30-b51d-b6df4dbc7753"
      },
      "execution_count": 97,
      "outputs": [
        {
          "output_type": "display_data",
          "data": {
            "text/plain": [
              "<Figure size 1200x1200 with 1 Axes>"
            ],
            "image/png": "[encoded data removed]"
          },
          "metadata": {}
        },
        {
          "output_type": "stream",
          "name": "stdout",
          "text": [
            "\n",
            " Control points coordinates:\n"
          ]
        },
        {
          "output_type": "execute_result",
          "data": {
            "text/plain": [
              "[[3, 28],\n",
              " [6, 23],\n",
              " [9, 2],\n",
              " [11, 0],\n",
              " [13, 18],\n",
              " [17, 10],\n",
              " [17, 16],\n",
              " [20, 12],\n",
              " [22, 8],\n",
              " [22, 23]]"
            ]
          },
          "metadata": {},
          "execution_count": 97
        }
      ]
    },
    {
      "cell_type": "markdown",
      "source": [
        "# Genetic algorithm"
      ],
      "metadata": {
        "id": "x1YBK9FWjcuu"
      }
    },
    {
      "cell_type": "code",
      "source": [
        "optimal_steps = getTotalNumberOfSteps(cp_list)"
      ],
      "metadata": {
        "id": "GkDKXMR5zV3s"
      },
      "execution_count": null,
      "outputs": []
    },
    {
      "cell_type": "code",
      "source": [
        "pop = geneticAlgorithm(7000,250,0.1)"
      ],
      "metadata": {
        "id": "H-8m2Ox9jcb4"
      },
      "execution_count": 98,
      "outputs": []
    },
    {
      "cell_type": "markdown",
      "source": [
        "# Get best individual"
      ],
      "metadata": {
        "id": "FwJMDDLlvYgk"
      }
    },
    {
      "cell_type": "code",
      "source": [
        "best = getBestIndividual(pop)"
      ],
      "metadata": {
        "id": "MbtGq70LjoJW"
      },
      "execution_count": 99,
      "outputs": []
    },
    {
      "cell_type": "markdown",
      "source": [
        "# Visualize the best individual"
      ],
      "metadata": {
        "id": "BZ0H-q6Yer17"
      }
    },
    {
      "cell_type": "code",
      "source": [
        "map.visualizeIndividual(mappa,best)"
      ],
      "metadata": {
        "id": "qJGieWW-RC0c",
        "colab": {
          "base_uri": "https://localhost:8080/",
          "height": 984
        },
        "outputId": "658e0115-69ec-4a57-a0fd-d82d44c88d05"
      },
      "execution_count": 100,
      "outputs": [
        {
          "output_type": "display_data",
          "data": {
            "text/plain": [
              "<Figure size 1200x1200 with 1 Axes>"
            ],
            "image/png": "[encoded data removed]"
          },
          "metadata": {}
        }
      ]
    }
  ]
}