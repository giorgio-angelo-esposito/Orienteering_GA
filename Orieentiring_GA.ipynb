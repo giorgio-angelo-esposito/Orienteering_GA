{
  "nbformat": 4,
  "nbformat_minor": 0,
  "metadata": {
    "colab": {
      "provenance": []
    },
    "kernelspec": {
      "name": "python3",
      "display_name": "Python 3"
    },
    "language_info": {
      "name": "python"
    }
  },
  "cells": [
    {
      "cell_type": "code",
      "execution_count": 1,
      "metadata": {
        "id": "ktsa1-a-5waB"
      },
      "outputs": [],
      "source": [
        "import numpy as np\n",
        "import matplotlib.pyplot as plt\n",
        "import seaborn as sns\n",
        "import random"
      ]
    },
    {
      "cell_type": "code",
      "source": [
        "class Individual:\n",
        "\n",
        "  '''\n",
        "  This class represent an individual in the population for the GA\n",
        "  \n",
        "  Attributes:\n",
        "    - path: a list that is used for storing the direction of the path\n",
        "    - fitness: a variable used for saving the value of the fitness of the individual\n",
        "  '''\n",
        "\n",
        "  def __init__(self):\n",
        "    '''\n",
        "    Constructor of the Individual class: path is initialized as an empty list\n",
        "                                         while fitness is initialized as 0 \n",
        "    '''\n",
        "    self.path = []\n",
        "    self.fitness = 0\n",
        "    self.number_of_cp_reached = 0\n",
        "\n",
        "  def getPath(self):\n",
        "    # this method is used to retrieve the path of the individual \n",
        "    return self.path\n",
        "\n",
        "  def getFitness(self):\n",
        "    # this method is used to retrieve the fitness of the individual\n",
        "    return self.fitness\n",
        "\n",
        "  def compass(self,current_point,control_point):\n",
        "    \n",
        "    if current_point[0] >= control_point[0] and current_point[1] >= control_point[1]:\n",
        "      direction1 = 0\n",
        "      direction2 = 1\n",
        "    elif current_point[0] >= control_point[0] and current_point[1] <= control_point[1]:\n",
        "      direction1 = 1\n",
        "      direction2 = 2\n",
        "    elif current_point[0] <= control_point[0] and current_point[1] <= control_point[1]:\n",
        "      direction1 = 2\n",
        "      direction2 = 3\n",
        "    elif current_point[0] <= control_point[0] and current_point[1] >= control_point[1]:\n",
        "      direction1 = 0\n",
        "      direction2 = 3\n",
        "\n",
        "\n",
        "    return direction1, direction2\n",
        "\n",
        "  def __repr__(self):\n",
        "        return \"(Path: \" + str(self.path) + \", fitness: \" + str(self.fitness) + \", number_of_cp_reached: \"+ str(self.number_of_cp_reached) + \")\""
      ],
      "metadata": {
        "id": "fAhLn5QiWhEs"
      },
      "execution_count": 2,
      "outputs": []
    },
    {
      "cell_type": "code",
      "source": [
        "class Map:\n",
        "\n",
        "  '''\n",
        "  This class is used to create the map where the Orieentiring take place:\n",
        "  it is a mxn array (m and n are given as parameter) where a certain number of\n",
        "  obstacles and control points are placed.\n",
        "\n",
        "  Attributes:\n",
        "    - rows: the number of rows of the map (the m dimension)\n",
        "    - colums: the numbers of the map (the n dimension)\n",
        "    - number_of_obstacles: the number of obstacles that will appear on the map\n",
        "    - number_of_cp: number of control points that will appear on the map\n",
        "    - cp_list: a list containing all the coordinates of the control points. \n",
        "               Initially contains the start point at (0,0)\n",
        "  '''\n",
        "\n",
        "  def __init__(self, rows, columns, number_of_obstacles, number_of_cp):\n",
        "\n",
        "    '''\n",
        "    The constructor of the map: lenght and height represent the dimension of the map (array)\n",
        "    while number_of_obstacles and number_of_cp represent the number of obstacles and the number\n",
        "    of control points that will be placed on the map, respectively.\n",
        "    '''\n",
        "\n",
        "    self.rows = rows\n",
        "    self.columns = columns\n",
        "    self.number_of_obstacles = number_of_obstacles\n",
        "    self.number_of_cp = number_of_cp\n",
        "    self.cp_list = []\n",
        "\n",
        "  def create_map(self):\n",
        "\n",
        "    '''\n",
        "    This method is used to fill the array: the 'walkable ground' will be the cells that contains 0, the obstacle\n",
        "    will be the cells containing 1 and the control points will be the cells containg 2, including the start and\n",
        "    ending points. \n",
        "    '''\n",
        "\n",
        "    map = np.zeros((self.rows, self.columns)) #initially, we create the array with all 0s\n",
        "\n",
        "    for i in range(self.number_of_obstacles): # iterate over the number of obstacles \n",
        "\n",
        "      #randomically, create the coordinates where to put the obstacle\n",
        "      x_obstacle = np.random.randint(0,self.rows)\n",
        "      y_obstacle = np.random.randint(0,self.columns)\n",
        "      #print('Posizione ostacolo: {0}, {1}'.format(x_ostacolo,y_ostacolo))\n",
        "\n",
        "      #check if the coordinate corresponds with a control point, the start or the end\n",
        "      if map[x_obstacle][y_obstacle] == 2:\n",
        "        #if true, do not place the obstacle\n",
        "        continue\n",
        "      else:\n",
        "        #else, put the obstacle\n",
        "        map[x_obstacle][y_obstacle] = 1\n",
        "      \n",
        "      #next, place the control point, if any remain to be placed\n",
        "      if self.number_of_cp != 0:\n",
        "        \n",
        "        #randomically, create the coordinates where to put the control point\n",
        "        x_cp = np.random.randint(0,self.rows)\n",
        "        y_cp = np.random.randint(0,self.columns)\n",
        "        \n",
        "        #check if the control point is over an obstacle\n",
        "        if map[x_cp][y_cp] == 1:\n",
        "          #if true, do not put the control point\n",
        "          continue\n",
        "        else: \n",
        "          map[x_cp][y_cp] = 2 # put the control point\n",
        "          self.cp_list.append([x_cp,y_cp]) # add the coordinate to the list of all control points\n",
        "          self.number_of_cp -= 1 # reduce the number of control points\n",
        "\n",
        "    #self.cp_list.append([self.lenght-1,self.height-1]) # in the end, add the arrival point to the list of control points\n",
        "\n",
        "    probability = np.random.uniform(0,1,1)\n",
        "\n",
        "    if probability >= 0.5:\n",
        "      self.cp_list.sort(key = lambda point: point[1])\n",
        "    else:\n",
        "      self.cp_list.sort()\n",
        "\n",
        "    return map, self.cp_list # return the array and the list\n",
        "    \n",
        "\n",
        "  def getControlPointList(self):\n",
        "\n",
        "    # this method is used for obtain the list of control points\n",
        "    return self.cp_list\n",
        "\n",
        "  def visualizeMap(self,map):\n",
        "\n",
        "    '''\n",
        "    this method is used for plotting the map\n",
        "    '''\n",
        "    # set the dimension of the plot\n",
        "    plt.figure(figsize=(12,12))\n",
        "\n",
        "    #use a heatmap for plotting, so the same value will have the same color\n",
        "    ax = sns.heatmap(map, cbar = False, cmap = sns.color_palette(\"coolwarm\", 12),linewidth = 1)\n",
        "\n",
        "    # get the x and y coordinate for each point, and sum 0.5, so the line will start at the centre of the square\n",
        "    x = [self.cp_list[i][1] + 0.5 for i in range(len(self.cp_list))]\n",
        "    y = [self.cp_list[i][0] + 0.5 for i in range(len(self.cp_list))]\n",
        "\n",
        "    #plot the lines\n",
        "    plt.plot(x, y, 'ro-')\n",
        "\n",
        "    #add text near the point\n",
        "    plt.text(x[0] - 0.15, y[0] - 0.15, 'Start')\n",
        "    for i in range(1,len(x)-1):\n",
        "      plt.text(x[i] + 0.15, y[i] + 0.15, str(i))\n",
        "    plt.text(x[-1] - 0.20, y[-1] - 0.20, 'End')\n",
        "\n",
        "    ax.invert_yaxis()\n",
        "\n",
        "    plt.ylim(0,self.rows)\n",
        "    plt.xlim(0,self.columns)\n",
        "\n",
        "    #show the plot\n",
        "    plt.show()\n",
        "\n",
        "  def visualizeIndividual(self, map, individual):\n",
        "\n",
        "    copia = map.copy()\n",
        "    moves = [[0, -1], [-1, 0], [0, 1], [1, 0]]\n",
        "    point = cp_list[0]\n",
        "    \n",
        "    for m in individual.path:\n",
        "      point = [point[0] + moves[m][0], point[1] + moves[m][1]]\n",
        "      \n",
        "      if copia[point[0]][point[1]] == 2:\n",
        "        continue\n",
        "      else:\n",
        "        copia[point[0]][point[1]] = 3\n",
        "\n",
        "    plt.figure(figsize=(12,12))\n",
        "\n",
        "    ax = sns.heatmap(copia, cbar = False, cmap = sns.color_palette(\"coolwarm\", 12),linewidth = 1)\n",
        "    ax.invert_yaxis()\n",
        "\n",
        "    x = [self.cp_list[i][1] + 0.5 for i in range(len(self.cp_list))]\n",
        "    y = [self.cp_list[i][0] + 0.5 for i in range(len(self.cp_list))]\n",
        "\n",
        "    #plot the lines\n",
        "    plt.plot(x, y, 'ro-')\n",
        "\n",
        "    #add text near the point\n",
        "    plt.text(x[0] - 0.25, y[0] - 0.25, 'Start')\n",
        "    for i in range(1,len(x)-1):\n",
        "      plt.text(x[i] + 0.15, y[i] + 0.15, str(i))\n",
        "    plt.text(x[-1] - 0.20, y[-1] - 0.20, 'End')\n",
        "\n",
        "    plt.ylim(0,self.rows)\n",
        "    plt.xlim(0,self.columns)\n",
        "\n",
        "    #show the plot\n",
        "    plt.show()"
      ],
      "metadata": {
        "id": "JaTV7AXQDgog"
      },
      "execution_count": 3,
      "outputs": []
    },
    {
      "cell_type": "code",
      "source": [
        "map = Map(25,25,180,8)\n",
        "mappa, lanterne = map.create_map()\n",
        "map.visualizeMap(mappa)"
      ],
      "metadata": {
        "colab": {
          "base_uri": "https://localhost:8080/",
          "height": 700
        },
        "id": "3lltAOZAJ7EV",
        "outputId": "f4a2afac-15aa-4d7f-b70e-1e901b9b7c4c"
      },
      "execution_count": 19,
      "outputs": [
        {
          "output_type": "display_data",
          "data": {
            "text/plain": [
              "<Figure size 864x864 with 1 Axes>"
            ],
            "image/png": "[encoded data removed]"
          },
          "metadata": {
            "needs_background": "light"
          }
        }
      ]
    },
    {
      "cell_type": "code",
      "source": [
        "cp_list = map.getControlPointList()\n",
        "cp_list"
      ],
      "metadata": {
        "colab": {
          "base_uri": "https://localhost:8080/"
        },
        "id": "KnZjCL0r7PIk",
        "outputId": "06ba2864-0b07-4b97-f8bf-b28baf3824e3"
      },
      "execution_count": 5,
      "outputs": [
        {
          "output_type": "execute_result",
          "data": {
            "text/plain": [
              "[[24, 2], [4, 7], [15, 10], [14, 12], [2, 15], [19, 17], [22, 20], [7, 24]]"
            ]
          },
          "metadata": {},
          "execution_count": 5
        }
      ]
    },
    {
      "cell_type": "code",
      "source": [
        "def avoid_obstacle(moves, current_point, movement):\n",
        "\n",
        "  found = False\n",
        "  current_point = [current_point[0] - movement[0], current_point[1] - movement[1]]\n",
        "  remain_moves = moves.copy()\n",
        "  remain_moves.remove(movement)\n",
        "\n",
        "  for points in remain_moves:\n",
        "    point = [current_point[0] + points[0], current_point[1] + points[1]]\n",
        "\n",
        "    if checkOutOfMap(point):\n",
        "      continue\n",
        "\n",
        "    if mappa[point[0]][point[1]] == 1:\n",
        "      continue\n",
        "    else:\n",
        "      current_point = point\n",
        "      found = True\n",
        "      return current_point, found, points"
      ],
      "metadata": {
        "id": "i26H7-BOuw4l"
      },
      "execution_count": 6,
      "outputs": []
    },
    {
      "cell_type": "code",
      "source": [
        "def checkOutOfMap(point):\n",
        "  \n",
        "  if point[0] < 0 or point[1] < 0 or point[0] > map.rows -1 or point[1] > map.columns - 1:\n",
        "    return True\n",
        "  \n",
        "  return False"
      ],
      "metadata": {
        "id": "5V7BWZl8-W-3"
      },
      "execution_count": 7,
      "outputs": []
    },
    {
      "cell_type": "code",
      "source": [
        "def checkObstacle(point):\n",
        "\n",
        "  if mappa[point[0]][point[1]] == 1:\n",
        "    return True\n",
        "\n",
        "  return False"
      ],
      "metadata": {
        "id": "aP18oYTu_qR7"
      },
      "execution_count": 8,
      "outputs": []
    },
    {
      "cell_type": "code",
      "source": [
        "def checkControlPoint(point, cp):\n",
        "  \n",
        "  if point[0] == cp[0] and point[1] == cp[1]:\n",
        "    return True\n",
        "\n",
        "  return False"
      ],
      "metadata": {
        "id": "ZEKV1aHCAjJ5"
      },
      "execution_count": 9,
      "outputs": []
    },
    {
      "cell_type": "code",
      "source": [
        "def initPopulation(population_dim):\n",
        "\n",
        "  population = []\n",
        "  cp_list = map.getControlPointList()\n",
        "  moves = [[0, -1], [-1, 0], [0, 1], [1, 0]]\n",
        "\n",
        "  for ind in range(population_dim):\n",
        "    \n",
        "    reached = False\n",
        "    blocked = False\n",
        "    individual = Individual()\n",
        "\n",
        "    current_point = cp_list[0]\n",
        "    #print('### -- Parto da --> {0}, devo andare a --> {1}-- ###'.format(current_point,cp_list[1]))\n",
        "    steps = 0\n",
        "    for i in range(1, len(cp_list)):\n",
        "      reached = False\n",
        "      control_point = cp_list[i]\n",
        "      while not reached:\n",
        "\n",
        "        if steps % 3 == 0:\n",
        "          #print('### -- Trovo direzione -- ###')\n",
        "          d1,d2 = individual.compass(current_point, control_point)\n",
        "          movement = random.choice([moves[d1],moves[d2]])\n",
        "        else:\n",
        "          movement = random.choice(moves)\n",
        "    \n",
        "        individual.path.append(moves.index(movement))\n",
        "        #print('### -- Mi muovo verso la direzione: {0} -- ###'.format(movement))\n",
        "        steps += 1\n",
        "        current_point = [current_point[0] + movement[0], current_point[1] + movement[1]]\n",
        "\n",
        "\n",
        "        #print('### -- Sono arrivato in -- > {0}, devo andare a --> {1} -- ###'.format(current_point,cp_list[i]))\n",
        "\n",
        "        if checkOutOfMap(current_point):\n",
        "          current_point = [current_point[0] - movement[0], current_point[1] - movement[1]]\n",
        "          #print('### -- Sono FUORI DALLA MAPPA. Torno indietro a --> {} --- ###'.format(current_point))\n",
        "          individual.path.pop()\n",
        "          steps -= 1\n",
        "\n",
        "        if checkObstacle(current_point):\n",
        "          #print('### -- Sono su un OSTACOLO, ahi -- ###')\n",
        "          #print('### -- Provo a cercare un altra via -- ###')\n",
        "          current_point, found, new_movement = avoid_obstacle(moves, current_point, movement)\n",
        "          steps -= 1\n",
        "      \n",
        "          if found:\n",
        "            #print('### -- Ho trovato un altra via. Provo a passare per --> {0}'.format(current_point))\n",
        "            individual.path.pop()\n",
        "            individual.path.append(moves.index(new_movement))\n",
        "            steps += 1\n",
        "          else:\n",
        "            blocked = True\n",
        "            break\n",
        "\n",
        "        if checkControlPoint(current_point, control_point):\n",
        "          #print('### -- Ho trovato la LANTERNA {0}, yeah -- ##'.format(i))\n",
        "          individual.number_of_cp_reached = i\n",
        "          reached = True\n",
        "  \n",
        "      if blocked:\n",
        "        #print('### -- Sono uscito dal ciclo e mi fermo -- ###')\n",
        "        break\n",
        "\n",
        "    if individual.number_of_cp_reached != len(cp_list) - 1:\n",
        "      individual.fitness = 0\n",
        "    else:\n",
        "      individual.fitness = steps\n",
        "    #print('Individuo: {0}\\nLanterne raggiunte: {1}'.format(individual.path,individual.number_of_cp_reached))\n",
        "    population.append(individual)\n",
        "\n",
        "  return population"
      ],
      "metadata": {
        "id": "c124MQ4jai8v"
      },
      "execution_count": 10,
      "outputs": []
    },
    {
      "cell_type": "code",
      "source": [
        "pop = initPopulation(1)"
      ],
      "metadata": {
        "id": "WMBYAZPCiJJm"
      },
      "execution_count": 20,
      "outputs": []
    },
    {
      "cell_type": "code",
      "source": [
        "map.visualizeIndividual(mappa,pop[0])"
      ],
      "metadata": {
        "id": "qJGieWW-RC0c"
      },
      "execution_count": null,
      "outputs": []
    }
  ]
}